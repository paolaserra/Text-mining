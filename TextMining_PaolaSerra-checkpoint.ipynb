{
 "cells": [
  {
   "cell_type": "markdown",
   "id": "ef2d0ea6",
   "metadata": {},
   "source": [
    "#  Hormone receptors status in breast cancer"
   ]
  },
  {
   "cell_type": "markdown",
   "id": "52732ad3",
   "metadata": {},
   "source": [
    "## Data Exploration"
   ]
  },
  {
   "cell_type": "code",
   "execution_count": 233,
   "id": "ac9fdac9",
   "metadata": {},
   "outputs": [],
   "source": [
    "import pandas as pd \n",
    "import numpy as np \n",
    "import os\n",
    "import seaborn as sns\n",
    "import matplotlib.pyplot as plt"
   ]
  },
  {
   "cell_type": "code",
   "execution_count": 234,
   "id": "a3c733d8",
   "metadata": {},
   "outputs": [],
   "source": [
    "data = pd.read_excel(\"C:\\\\Users\\\\Paola\\\\Desktop\\\\TEXT MINING\\Dataset.xlsx\")"
   ]
  },
  {
   "cell_type": "code",
   "execution_count": 235,
   "id": "70e9b088",
   "metadata": {},
   "outputs": [
    {
     "data": {
      "text/html": [
       "<div>\n",
       "<style scoped>\n",
       "    .dataframe tbody tr th:only-of-type {\n",
       "        vertical-align: middle;\n",
       "    }\n",
       "\n",
       "    .dataframe tbody tr th {\n",
       "        vertical-align: top;\n",
       "    }\n",
       "\n",
       "    .dataframe thead th {\n",
       "        text-align: right;\n",
       "    }\n",
       "</style>\n",
       "<table border=\"1\" class=\"dataframe\">\n",
       "  <thead>\n",
       "    <tr style=\"text-align: right;\">\n",
       "      <th></th>\n",
       "      <th>cod paz</th>\n",
       "      <th>id</th>\n",
       "      <th>numero caso</th>\n",
       "      <th>data referto</th>\n",
       "      <th>reparto</th>\n",
       "      <th>diagnosi</th>\n",
       "      <th>pezzo operatorio</th>\n",
       "      <th>topografia</th>\n",
       "      <th>summary</th>\n",
       "      <th>gross</th>\n",
       "      <th>er</th>\n",
       "      <th>pgr</th>\n",
       "      <th>her2</th>\n",
       "      <th>ki67</th>\n",
       "      <th>fish</th>\n",
       "      <th>modificato</th>\n",
       "    </tr>\n",
       "  </thead>\n",
       "  <tbody>\n",
       "    <tr>\n",
       "      <th>0</th>\n",
       "      <td>74</td>\n",
       "      <td>2011055893</td>\n",
       "      <td>S2011-006911</td>\n",
       "      <td>12-09-2011</td>\n",
       "      <td>Degenze OCB Senologia</td>\n",
       "      <td>-NON EVIDENZA DI METASTASI A DUE LINFONODI ESA...</td>\n",
       "      <td>linf. sentinella ascella D</td>\n",
       "      <td>T-1963</td>\n",
       "      <td>NaN</td>\n",
       "      <td>Tessuto fibroadiposo da cui si isolano 2 linfo...</td>\n",
       "      <td>NaN</td>\n",
       "      <td>NaN</td>\n",
       "      <td>NaN</td>\n",
       "      <td>NaN</td>\n",
       "      <td>NaN</td>\n",
       "      <td>NaN</td>\n",
       "    </tr>\n",
       "    <tr>\n",
       "      <th>1</th>\n",
       "      <td>74</td>\n",
       "      <td>2011055891</td>\n",
       "      <td>S2011-006911</td>\n",
       "      <td>12-09-2011</td>\n",
       "      <td>Degenze OCB Senologia</td>\n",
       "      <td>CARCINOMA DELLA MAMMELLA DUTTALE IN SITU con a...</td>\n",
       "      <td>quadr. sup. mammella dx</td>\n",
       "      <td>T-1749</td>\n",
       "      <td>npl. mammella dx</td>\n",
       "      <td>Parenchima mammario di cm 5 x 4 x 4 con al tag...</td>\n",
       "      <td>[66,100]</td>\n",
       "      <td>[33,66)</td>\n",
       "      <td>3+</td>\n",
       "      <td>NaN</td>\n",
       "      <td>NaN</td>\n",
       "      <td>NaN</td>\n",
       "    </tr>\n",
       "    <tr>\n",
       "      <th>2</th>\n",
       "      <td>74</td>\n",
       "      <td>2011055892</td>\n",
       "      <td>S2011-006911</td>\n",
       "      <td>12-09-2011</td>\n",
       "      <td>Degenze OCB Senologia</td>\n",
       "      <td>-PARENCHIMA MAMMARIO RIFERIBILE A REGIONE AREO...</td>\n",
       "      <td>dotti capezzolo D</td>\n",
       "      <td>T-1740</td>\n",
       "      <td>NaN</td>\n",
       "      <td>Frammento di cm 1.</td>\n",
       "      <td>NaN</td>\n",
       "      <td>NaN</td>\n",
       "      <td>NaN</td>\n",
       "      <td>NaN</td>\n",
       "      <td>NaN</td>\n",
       "      <td>NaN</td>\n",
       "    </tr>\n",
       "    <tr>\n",
       "      <th>3</th>\n",
       "      <td>74</td>\n",
       "      <td>2011055894</td>\n",
       "      <td>S2011-006911</td>\n",
       "      <td>12-09-2011</td>\n",
       "      <td>Degenze OCB Senologia</td>\n",
       "      <td>-PARENCHIMA MAMMARIO CON FOCOLAI MULTIFOCALI D...</td>\n",
       "      <td>quadrante equatoriale interno mammella S</td>\n",
       "      <td>T-1749</td>\n",
       "      <td>NaN</td>\n",
       "      <td>Parenchima mammario di cm 3x2x1. Al taglio par...</td>\n",
       "      <td>NaN</td>\n",
       "      <td>NaN</td>\n",
       "      <td>NaN</td>\n",
       "      <td>NaN</td>\n",
       "      <td>NaN</td>\n",
       "      <td>NaN</td>\n",
       "    </tr>\n",
       "    <tr>\n",
       "      <th>4</th>\n",
       "      <td>74</td>\n",
       "      <td>2011055895</td>\n",
       "      <td>S2011-006911</td>\n",
       "      <td>12-09-2011</td>\n",
       "      <td>Degenze OCB Senologia</td>\n",
       "      <td>--PARENCHIMA MAMMARIO CON FOCOLAI MULTIFOCALI ...</td>\n",
       "      <td>mammella D</td>\n",
       "      <td>T-1749</td>\n",
       "      <td>NaN</td>\n",
       "      <td>Mammella di cm 20x12 x3 priva di cute, con are...</td>\n",
       "      <td>NaN</td>\n",
       "      <td>NaN</td>\n",
       "      <td>NaN</td>\n",
       "      <td>NaN</td>\n",
       "      <td>NaN</td>\n",
       "      <td>NaN</td>\n",
       "    </tr>\n",
       "  </tbody>\n",
       "</table>\n",
       "</div>"
      ],
      "text/plain": [
       "   cod paz          id   numero caso data referto                reparto  \\\n",
       "0       74  2011055893  S2011-006911   12-09-2011  Degenze OCB Senologia   \n",
       "1       74  2011055891  S2011-006911   12-09-2011  Degenze OCB Senologia   \n",
       "2       74  2011055892  S2011-006911   12-09-2011  Degenze OCB Senologia   \n",
       "3       74  2011055894  S2011-006911   12-09-2011  Degenze OCB Senologia   \n",
       "4       74  2011055895  S2011-006911   12-09-2011  Degenze OCB Senologia   \n",
       "\n",
       "                                            diagnosi  \\\n",
       "0  -NON EVIDENZA DI METASTASI A DUE LINFONODI ESA...   \n",
       "1  CARCINOMA DELLA MAMMELLA DUTTALE IN SITU con a...   \n",
       "2  -PARENCHIMA MAMMARIO RIFERIBILE A REGIONE AREO...   \n",
       "3  -PARENCHIMA MAMMARIO CON FOCOLAI MULTIFOCALI D...   \n",
       "4  --PARENCHIMA MAMMARIO CON FOCOLAI MULTIFOCALI ...   \n",
       "\n",
       "                           pezzo operatorio topografia           summary  \\\n",
       "0                linf. sentinella ascella D     T-1963               NaN   \n",
       "1                   quadr. sup. mammella dx     T-1749  npl. mammella dx   \n",
       "2                         dotti capezzolo D     T-1740               NaN   \n",
       "3  quadrante equatoriale interno mammella S     T-1749               NaN   \n",
       "4                                mammella D     T-1749               NaN   \n",
       "\n",
       "                                               gross        er      pgr her2  \\\n",
       "0  Tessuto fibroadiposo da cui si isolano 2 linfo...       NaN      NaN  NaN   \n",
       "1  Parenchima mammario di cm 5 x 4 x 4 con al tag...  [66,100]  [33,66)   3+   \n",
       "2                                 Frammento di cm 1.       NaN      NaN  NaN   \n",
       "3  Parenchima mammario di cm 3x2x1. Al taglio par...       NaN      NaN  NaN   \n",
       "4  Mammella di cm 20x12 x3 priva di cute, con are...       NaN      NaN  NaN   \n",
       "\n",
       "  ki67 fish  modificato  \n",
       "0  NaN  NaN         NaN  \n",
       "1  NaN  NaN         NaN  \n",
       "2  NaN  NaN         NaN  \n",
       "3  NaN  NaN         NaN  \n",
       "4  NaN  NaN         NaN  "
      ]
     },
     "execution_count": 235,
     "metadata": {},
     "output_type": "execute_result"
    }
   ],
   "source": [
    "data.head(5)"
   ]
  },
  {
   "cell_type": "code",
   "execution_count": 236,
   "id": "4f127868",
   "metadata": {},
   "outputs": [
    {
     "data": {
      "text/plain": [
       "(74871, 16)"
      ]
     },
     "execution_count": 236,
     "metadata": {},
     "output_type": "execute_result"
    }
   ],
   "source": [
    "data.shape"
   ]
  },
  {
   "cell_type": "code",
   "execution_count": 237,
   "id": "6fc6f5ec",
   "metadata": {},
   "outputs": [
    {
     "data": {
      "text/plain": [
       "cod paz                 0\n",
       "id                      0\n",
       "numero caso             0\n",
       "data referto            0\n",
       "reparto                37\n",
       "diagnosi              509\n",
       "pezzo operatorio     1998\n",
       "topografia           6676\n",
       "summary             47251\n",
       "gross               11580\n",
       "er                  59966\n",
       "pgr                 59985\n",
       "her2                59980\n",
       "ki67                60471\n",
       "fish                72279\n",
       "modificato          73064\n",
       "dtype: int64"
      ]
     },
     "execution_count": 237,
     "metadata": {},
     "output_type": "execute_result"
    }
   ],
   "source": [
    "#There are a lot of null value in er/pgr - from 75k to 15k\n",
    "data.isnull().sum()"
   ]
  },
  {
   "cell_type": "code",
   "execution_count": 238,
   "id": "05c9bf1b",
   "metadata": {},
   "outputs": [],
   "source": [
    "data['er'] = data['er'].astype(str)"
   ]
  },
  {
   "cell_type": "code",
   "execution_count": 239,
   "id": "9cf1ffdc",
   "metadata": {},
   "outputs": [
    {
     "data": {
      "text/plain": [
       "array(['nan', '[66,100]', '[0,1)', '95', '[33,66)', '[10,33)', 'negativo',\n",
       "       '[95,100]', '0', '90', '[1,10)', '40', '15', '100', '5', '70', '1',\n",
       "       '2', '85', '45', '50', '(90,100]', '80', '(95,100]', '30', '+',\n",
       "       '97', '20', '10', '75', '60', '[0,5)', '98', '99', '<95', '25',\n",
       "       '92', '7', '4', '55', '8', '[0,95)', '3', '23', '65', '35', '14',\n",
       "       '[80,100]', '22', '-', '[0,10)', '82', '9', '[10,15)', '6', '>)5'],\n",
       "      dtype=object)"
      ]
     },
     "execution_count": 239,
     "metadata": {},
     "output_type": "execute_result"
    }
   ],
   "source": [
    "#let's see which are the possible values in er and pgr\n",
    "data['er'].unique()"
   ]
  },
  {
   "cell_type": "code",
   "execution_count": 240,
   "id": "03549cae",
   "metadata": {},
   "outputs": [
    {
     "data": {
      "text/plain": [
       "[95,100]    2211\n",
       "0           2102\n",
       "[66,100]    1491\n",
       "[0,1)       1152\n",
       "95           917\n",
       "            ... \n",
       "(9,100]        1\n",
       "(80,100]       1\n",
       "26             1\n",
       "94             1\n",
       "79             1\n",
       "Name: pgr, Length: 70, dtype: int64"
      ]
     },
     "execution_count": 240,
     "metadata": {},
     "output_type": "execute_result"
    }
   ],
   "source": [
    "data.pgr.value_counts() "
   ]
  },
  {
   "cell_type": "code",
   "execution_count": 241,
   "id": "0fb891ba",
   "metadata": {},
   "outputs": [
    {
     "data": {
      "text/plain": [
       "array(['(90,100]', '(95,100]', '+', '-', '0', '1', '10', '100', '14',\n",
       "       '15', '2', '20', '22', '23', '25', '3', '30', '35', '4', '40',\n",
       "       '45', '5', '50', '55', '6', '60', '65', '7', '70', '75', '8', '80',\n",
       "       '82', '85', '9', '90', '92', '95', '97', '98', '99', '<95', '>)5',\n",
       "       '[0,1)', '[0,10)', '[0,5)', '[0,95)', '[1,10)', '[10,15)',\n",
       "       '[10,33)', '[33,66)', '[66,100]', '[80,100]', '[95,100]', 'nan',\n",
       "       'negativo'], dtype=object)"
      ]
     },
     "execution_count": 241,
     "metadata": {},
     "output_type": "execute_result"
    }
   ],
   "source": [
    "np.unique(data.er)"
   ]
  },
  {
   "cell_type": "code",
   "execution_count": 242,
   "id": "d4114dbf",
   "metadata": {},
   "outputs": [],
   "source": [
    "data['pgr'] = data['pgr'].astype(str)"
   ]
  },
  {
   "cell_type": "code",
   "execution_count": 243,
   "id": "86ec3014",
   "metadata": {},
   "outputs": [
    {
     "data": {
      "text/plain": [
       "array(['(1,100]', '(10,100]', '(80,100]', '(9,100]', '(90,100]', '+', '-',\n",
       "       '0', '1', '10', '100', '12', '14', '15', '16', '18', '19', '2',\n",
       "       '20', '22', '25', '26', '28', '3', '30', '35', '4', '40', '43',\n",
       "       '45', '46', '47', '5', '5-10', '50', '55', '6', '60', '65', '66',\n",
       "       '7', '70', '73', '75', '79', '8', '80', '85', '9', '90', '92',\n",
       "       '93', '94', '95', '98', '99', '[0,1)', '[0,10)', '[0,2)', '[0,30)',\n",
       "       '[0,5)', '[1,10)', '[1,2)', '[10,33)', '[33,66)', '[5,10]',\n",
       "       '[66,100]', '[70,100]', '[95,100]', 'nan', 'negativo'],\n",
       "      dtype=object)"
      ]
     },
     "execution_count": 243,
     "metadata": {},
     "output_type": "execute_result"
    }
   ],
   "source": [
    "np.unique(data.pgr)"
   ]
  },
  {
   "cell_type": "code",
   "execution_count": 244,
   "id": "cca03028",
   "metadata": {},
   "outputs": [],
   "source": [
    "data['her2'] = data['her2'].astype(str)"
   ]
  },
  {
   "cell_type": "code",
   "execution_count": 245,
   "id": "dbe117dc",
   "metadata": {},
   "outputs": [
    {
     "data": {
      "text/plain": [
       "array(['0', '1+', '2+', '3+', 'nan', 'negativo', 'positivo'], dtype=object)"
      ]
     },
     "execution_count": 245,
     "metadata": {},
     "output_type": "execute_result"
    }
   ],
   "source": [
    "np.unique(data.her2)"
   ]
  },
  {
   "cell_type": "code",
   "execution_count": 246,
   "id": "05db478c",
   "metadata": {},
   "outputs": [],
   "source": [
    "data['ki67'] = data['ki67'].astype(str)"
   ]
  },
  {
   "cell_type": "code",
   "execution_count": 247,
   "id": "b95fb5bf",
   "metadata": {
    "scrolled": true
   },
   "outputs": [
    {
     "data": {
      "text/plain": [
       "array(['(10,100]', '(30,100]', '(40,100]', '(43,100]', '(50,100]',\n",
       "       '(60,100]', '(68,100]', '(80,100]', '(90,100]', '0', '1', '1,7',\n",
       "       '10', \"10'\", '100', '11', '12', '12,8', '13', '14', '15', '15,3',\n",
       "       '15,4', '15,8', '15-20', '16', '16,6', '17', '17,5', '18', '18,5',\n",
       "       '19', '2', '20', '20,4', '21', '22', '22,2', '22,3', '22,7', '23',\n",
       "       '24', '24,2', '24,3', '25', '26', '27', '27,5', '28', '28,5', '29',\n",
       "       '3', '30', '31', '31,5', '32', '32,7', '33', '34', '34,5', '35',\n",
       "       '36', '37', '38', '39', '4', '40', '41', '42', '43', '44', '45',\n",
       "       '46', '47', '48', '49', '5', '50', '51', '52', '53', '54', '55',\n",
       "       '56', '57', '58', '6', '60', '61', '62', '63', '64', '65', '67',\n",
       "       '68', '69', '7', '70', '71', '72', '73', '75', '76', '77', '78',\n",
       "       '8', '80', '81', '82', '83', '85', '86', '87', '88', '9', '9,5',\n",
       "       '90', '92', '95', '97', '98', '????', '[0,10)', '[0,12)', '[0,2)',\n",
       "       '[0,5)', '[0,55)', '[1,2)', '[10,15)', '[10,30)', '[2,3)',\n",
       "       '[20,30)', '[40,50)', '[5,10)', '[5,100]', '[80,90)', 'nan'],\n",
       "      dtype=object)"
      ]
     },
     "execution_count": 247,
     "metadata": {},
     "output_type": "execute_result"
    }
   ],
   "source": [
    "np.unique(data.ki67)"
   ]
  },
  {
   "cell_type": "code",
   "execution_count": 248,
   "id": "40d22ded",
   "metadata": {},
   "outputs": [],
   "source": [
    "data['fish'] = data['fish'].astype(str)"
   ]
  },
  {
   "cell_type": "code",
   "execution_count": 249,
   "id": "e31fbaa2",
   "metadata": {},
   "outputs": [
    {
     "data": {
      "text/plain": [
       "array(['amplificato', 'nan', 'non amplificato'], dtype=object)"
      ]
     },
     "execution_count": 249,
     "metadata": {},
     "output_type": "execute_result"
    }
   ],
   "source": [
    "np.unique(data.fish)"
   ]
  },
  {
   "cell_type": "code",
   "execution_count": 250,
   "id": "3a207e8f",
   "metadata": {},
   "outputs": [
    {
     "data": {
      "text/plain": [
       "<AxesSubplot:>"
      ]
     },
     "execution_count": 250,
     "metadata": {},
     "output_type": "execute_result"
    },
    {
     "data": {
      "image/png": "[encoded data removed]",
      "text/plain": [
       "<Figure size 720x432 with 1 Axes>"
      ]
     },
     "metadata": {
      "needs_background": "light"
     },
     "output_type": "display_data"
    }
   ],
   "source": [
    "#let's see the distribution of our values  - er unbalanced\n",
    "data.er.value_counts().plot(kind=\"bar\", figsize = (10,6))"
   ]
  },
  {
   "cell_type": "code",
   "execution_count": 251,
   "id": "539232a8",
   "metadata": {},
   "outputs": [
    {
     "data": {
      "text/plain": [
       "<AxesSubplot:>"
      ]
     },
     "execution_count": 251,
     "metadata": {},
     "output_type": "execute_result"
    },
    {
     "data": {
      "image/png": "[encoded data removed]",
      "text/plain": [
       "<Figure size 720x432 with 1 Axes>"
      ]
     },
     "metadata": {
      "needs_background": "light"
     },
     "output_type": "display_data"
    }
   ],
   "source": [
    "#pgr unbalanced\n",
    "data.pgr.value_counts().plot(kind=\"bar\", figsize = (10,6), color = \"pink\")"
   ]
  },
  {
   "cell_type": "code",
   "execution_count": 252,
   "id": "11731771",
   "metadata": {},
   "outputs": [],
   "source": [
    "#exclude Nan Values from estrogen and progestogen\n",
    "data = data[data[\"er\"] != \"nan\"]\n",
    "data = data[data[\"pgr\"] != \"nan\"]"
   ]
  },
  {
   "cell_type": "code",
   "execution_count": 253,
   "id": "0b731732",
   "metadata": {},
   "outputs": [
    {
     "data": {
      "text/plain": [
       "<AxesSubplot:>"
      ]
     },
     "execution_count": 253,
     "metadata": {},
     "output_type": "execute_result"
    },
    {
     "data": {
      "image/png": "[encoded data removed]",
      "text/plain": [
       "<Figure size 720x432 with 1 Axes>"
      ]
     },
     "metadata": {
      "needs_background": "light"
     },
     "output_type": "display_data"
    }
   ],
   "source": [
    "#re-plot data\n",
    "data.er.value_counts().plot(kind=\"bar\", figsize = (10,6))"
   ]
  },
  {
   "cell_type": "code",
   "execution_count": 254,
   "id": "840a1dab",
   "metadata": {},
   "outputs": [
    {
     "data": {
      "text/plain": [
       "<AxesSubplot:>"
      ]
     },
     "execution_count": 254,
     "metadata": {},
     "output_type": "execute_result"
    },
    {
     "data": {
      "image/png": "[encoded data removed]",
      "text/plain": [
       "<Figure size 720x432 with 1 Axes>"
      ]
     },
     "metadata": {
      "needs_background": "light"
     },
     "output_type": "display_data"
    }
   ],
   "source": [
    "data.pgr.value_counts().plot(kind=\"bar\", figsize = (10,6), color = \"pink\")"
   ]
  },
  {
   "cell_type": "code",
   "execution_count": 255,
   "id": "540b0e11",
   "metadata": {},
   "outputs": [
    {
     "data": {
      "text/html": [
       "<div>\n",
       "<style scoped>\n",
       "    .dataframe tbody tr th:only-of-type {\n",
       "        vertical-align: middle;\n",
       "    }\n",
       "\n",
       "    .dataframe tbody tr th {\n",
       "        vertical-align: top;\n",
       "    }\n",
       "\n",
       "    .dataframe thead th {\n",
       "        text-align: right;\n",
       "    }\n",
       "</style>\n",
       "<table border=\"1\" class=\"dataframe\">\n",
       "  <thead>\n",
       "    <tr style=\"text-align: right;\">\n",
       "      <th></th>\n",
       "      <th>cod paz</th>\n",
       "      <th>id</th>\n",
       "      <th>numero caso</th>\n",
       "      <th>data referto</th>\n",
       "      <th>reparto</th>\n",
       "      <th>diagnosi</th>\n",
       "      <th>pezzo operatorio</th>\n",
       "      <th>topografia</th>\n",
       "      <th>summary</th>\n",
       "      <th>gross</th>\n",
       "      <th>er</th>\n",
       "      <th>pgr</th>\n",
       "      <th>her2</th>\n",
       "      <th>ki67</th>\n",
       "      <th>fish</th>\n",
       "      <th>modificato</th>\n",
       "    </tr>\n",
       "  </thead>\n",
       "  <tbody>\n",
       "    <tr>\n",
       "      <th>1</th>\n",
       "      <td>74</td>\n",
       "      <td>2011055891</td>\n",
       "      <td>S2011-006911</td>\n",
       "      <td>12-09-2011</td>\n",
       "      <td>Degenze OCB Senologia</td>\n",
       "      <td>CARCINOMA DELLA MAMMELLA DUTTALE IN SITU con a...</td>\n",
       "      <td>quadr. sup. mammella dx</td>\n",
       "      <td>T-1749</td>\n",
       "      <td>npl. mammella dx</td>\n",
       "      <td>Parenchima mammario di cm 5 x 4 x 4 con al tag...</td>\n",
       "      <td>[66,100]</td>\n",
       "      <td>[33,66)</td>\n",
       "      <td>3+</td>\n",
       "      <td>nan</td>\n",
       "      <td>nan</td>\n",
       "      <td>NaN</td>\n",
       "    </tr>\n",
       "    <tr>\n",
       "      <th>11</th>\n",
       "      <td>74</td>\n",
       "      <td>2011055891</td>\n",
       "      <td>S2011-006911</td>\n",
       "      <td>12-09-2011</td>\n",
       "      <td>Degenze OCB Senologia</td>\n",
       "      <td>CARCINOMA DELLA MAMMELLA DUTTALE IN SITU con a...</td>\n",
       "      <td>quadr. sup. mammella dx</td>\n",
       "      <td>T-1749</td>\n",
       "      <td>npl. mammella dx</td>\n",
       "      <td>Parenchima mammario di cm 5 x 4 x 4 con al tag...</td>\n",
       "      <td>[66,100]</td>\n",
       "      <td>[33,66)</td>\n",
       "      <td>3+</td>\n",
       "      <td>nan</td>\n",
       "      <td>nan</td>\n",
       "      <td>NaN</td>\n",
       "    </tr>\n",
       "  </tbody>\n",
       "</table>\n",
       "</div>"
      ],
      "text/plain": [
       "    cod paz          id   numero caso data referto                reparto  \\\n",
       "1        74  2011055891  S2011-006911   12-09-2011  Degenze OCB Senologia   \n",
       "11       74  2011055891  S2011-006911   12-09-2011  Degenze OCB Senologia   \n",
       "\n",
       "                                             diagnosi  \\\n",
       "1   CARCINOMA DELLA MAMMELLA DUTTALE IN SITU con a...   \n",
       "11  CARCINOMA DELLA MAMMELLA DUTTALE IN SITU con a...   \n",
       "\n",
       "           pezzo operatorio topografia           summary  \\\n",
       "1   quadr. sup. mammella dx     T-1749  npl. mammella dx   \n",
       "11  quadr. sup. mammella dx     T-1749  npl. mammella dx   \n",
       "\n",
       "                                                gross        er      pgr her2  \\\n",
       "1   Parenchima mammario di cm 5 x 4 x 4 con al tag...  [66,100]  [33,66)   3+   \n",
       "11  Parenchima mammario di cm 5 x 4 x 4 con al tag...  [66,100]  [33,66)   3+   \n",
       "\n",
       "   ki67 fish  modificato  \n",
       "1   nan  nan         NaN  \n",
       "11  nan  nan         NaN  "
      ]
     },
     "execution_count": 255,
     "metadata": {},
     "output_type": "execute_result"
    }
   ],
   "source": [
    "data.head(2)"
   ]
  },
  {
   "cell_type": "code",
   "execution_count": 256,
   "id": "13ab9d32",
   "metadata": {},
   "outputs": [],
   "source": [
    "data[\"text\"] = data[\"diagnosi\"] + data[\"pezzo operatorio\"]"
   ]
  },
  {
   "cell_type": "code",
   "execution_count": 257,
   "id": "bdb5a7cf",
   "metadata": {},
   "outputs": [
    {
     "data": {
      "text/html": [
       "<div>\n",
       "<style scoped>\n",
       "    .dataframe tbody tr th:only-of-type {\n",
       "        vertical-align: middle;\n",
       "    }\n",
       "\n",
       "    .dataframe tbody tr th {\n",
       "        vertical-align: top;\n",
       "    }\n",
       "\n",
       "    .dataframe thead th {\n",
       "        text-align: right;\n",
       "    }\n",
       "</style>\n",
       "<table border=\"1\" class=\"dataframe\">\n",
       "  <thead>\n",
       "    <tr style=\"text-align: right;\">\n",
       "      <th></th>\n",
       "      <th>cod paz</th>\n",
       "      <th>id</th>\n",
       "      <th>numero caso</th>\n",
       "      <th>data referto</th>\n",
       "      <th>reparto</th>\n",
       "      <th>diagnosi</th>\n",
       "      <th>pezzo operatorio</th>\n",
       "      <th>topografia</th>\n",
       "      <th>summary</th>\n",
       "      <th>gross</th>\n",
       "      <th>er</th>\n",
       "      <th>pgr</th>\n",
       "      <th>her2</th>\n",
       "      <th>ki67</th>\n",
       "      <th>fish</th>\n",
       "      <th>modificato</th>\n",
       "      <th>text</th>\n",
       "    </tr>\n",
       "  </thead>\n",
       "  <tbody>\n",
       "    <tr>\n",
       "      <th>1</th>\n",
       "      <td>74</td>\n",
       "      <td>2011055891</td>\n",
       "      <td>S2011-006911</td>\n",
       "      <td>12-09-2011</td>\n",
       "      <td>Degenze OCB Senologia</td>\n",
       "      <td>CARCINOMA DELLA MAMMELLA DUTTALE IN SITU con a...</td>\n",
       "      <td>quadr. sup. mammella dx</td>\n",
       "      <td>T-1749</td>\n",
       "      <td>npl. mammella dx</td>\n",
       "      <td>Parenchima mammario di cm 5 x 4 x 4 con al tag...</td>\n",
       "      <td>[66,100]</td>\n",
       "      <td>[33,66)</td>\n",
       "      <td>3+</td>\n",
       "      <td>nan</td>\n",
       "      <td>nan</td>\n",
       "      <td>NaN</td>\n",
       "      <td>CARCINOMA DELLA MAMMELLA DUTTALE IN SITU con a...</td>\n",
       "    </tr>\n",
       "    <tr>\n",
       "      <th>11</th>\n",
       "      <td>74</td>\n",
       "      <td>2011055891</td>\n",
       "      <td>S2011-006911</td>\n",
       "      <td>12-09-2011</td>\n",
       "      <td>Degenze OCB Senologia</td>\n",
       "      <td>CARCINOMA DELLA MAMMELLA DUTTALE IN SITU con a...</td>\n",
       "      <td>quadr. sup. mammella dx</td>\n",
       "      <td>T-1749</td>\n",
       "      <td>npl. mammella dx</td>\n",
       "      <td>Parenchima mammario di cm 5 x 4 x 4 con al tag...</td>\n",
       "      <td>[66,100]</td>\n",
       "      <td>[33,66)</td>\n",
       "      <td>3+</td>\n",
       "      <td>nan</td>\n",
       "      <td>nan</td>\n",
       "      <td>NaN</td>\n",
       "      <td>CARCINOMA DELLA MAMMELLA DUTTALE IN SITU con a...</td>\n",
       "    </tr>\n",
       "    <tr>\n",
       "      <th>20</th>\n",
       "      <td>299</td>\n",
       "      <td>2012013996</td>\n",
       "      <td>C2012-000276</td>\n",
       "      <td>14-11-2011</td>\n",
       "      <td>Esterni</td>\n",
       "      <td>CARCINOMA INVASIVO DELLA MAMMELLASottotipo: DU...</td>\n",
       "      <td>11- I- 19036 ; mammella sx</td>\n",
       "      <td>T-1749</td>\n",
       "      <td>carcinoma duttale infiltrante</td>\n",
       "      <td>N del caso:  11 -I -19036 ( 1,2,3,4,5 )Ospedal...</td>\n",
       "      <td>[66,100]</td>\n",
       "      <td>[10,33)</td>\n",
       "      <td>1+</td>\n",
       "      <td>15</td>\n",
       "      <td>nan</td>\n",
       "      <td>NaN</td>\n",
       "      <td>CARCINOMA INVASIVO DELLA MAMMELLASottotipo: DU...</td>\n",
       "    </tr>\n",
       "    <tr>\n",
       "      <th>28</th>\n",
       "      <td>299</td>\n",
       "      <td>2012013996</td>\n",
       "      <td>C2012-000276</td>\n",
       "      <td>14-11-2011</td>\n",
       "      <td>Esterni</td>\n",
       "      <td>CARCINOMA INVASIVO DELLA MAMMELLASottotipo: DU...</td>\n",
       "      <td>11- I- 19036 ; mammella sx</td>\n",
       "      <td>T-1749</td>\n",
       "      <td>carcinoma duttale infiltrante</td>\n",
       "      <td>N del caso:  11 -I -19036 ( 1,2,3,4,5 )Ospedal...</td>\n",
       "      <td>[66,100]</td>\n",
       "      <td>[10,33)</td>\n",
       "      <td>1+</td>\n",
       "      <td>15</td>\n",
       "      <td>nan</td>\n",
       "      <td>NaN</td>\n",
       "      <td>CARCINOMA INVASIVO DELLA MAMMELLASottotipo: DU...</td>\n",
       "    </tr>\n",
       "    <tr>\n",
       "      <th>39</th>\n",
       "      <td>102</td>\n",
       "      <td>2011008477</td>\n",
       "      <td>B2011-005462</td>\n",
       "      <td>31-08-2011</td>\n",
       "      <td>AMB RDC Radiologia C RADIOLOGIA SENOLOGICA</td>\n",
       "      <td>Risultato degli esami immunoistochimici effett...</td>\n",
       "      <td>NaN</td>\n",
       "      <td>NaN</td>\n",
       "      <td>NaN</td>\n",
       "      <td>NaN</td>\n",
       "      <td>[0,1)</td>\n",
       "      <td>[1,10)</td>\n",
       "      <td>0</td>\n",
       "      <td>(30,100]</td>\n",
       "      <td>nan</td>\n",
       "      <td>NaN</td>\n",
       "      <td>NaN</td>\n",
       "    </tr>\n",
       "  </tbody>\n",
       "</table>\n",
       "</div>"
      ],
      "text/plain": [
       "    cod paz          id   numero caso data referto  \\\n",
       "1        74  2011055891  S2011-006911   12-09-2011   \n",
       "11       74  2011055891  S2011-006911   12-09-2011   \n",
       "20      299  2012013996  C2012-000276   14-11-2011   \n",
       "28      299  2012013996  C2012-000276   14-11-2011   \n",
       "39      102  2011008477  B2011-005462   31-08-2011   \n",
       "\n",
       "                                       reparto  \\\n",
       "1                        Degenze OCB Senologia   \n",
       "11                       Degenze OCB Senologia   \n",
       "20                                     Esterni   \n",
       "28                                     Esterni   \n",
       "39  AMB RDC Radiologia C RADIOLOGIA SENOLOGICA   \n",
       "\n",
       "                                             diagnosi  \\\n",
       "1   CARCINOMA DELLA MAMMELLA DUTTALE IN SITU con a...   \n",
       "11  CARCINOMA DELLA MAMMELLA DUTTALE IN SITU con a...   \n",
       "20  CARCINOMA INVASIVO DELLA MAMMELLASottotipo: DU...   \n",
       "28  CARCINOMA INVASIVO DELLA MAMMELLASottotipo: DU...   \n",
       "39  Risultato degli esami immunoistochimici effett...   \n",
       "\n",
       "              pezzo operatorio topografia                        summary  \\\n",
       "1      quadr. sup. mammella dx     T-1749               npl. mammella dx   \n",
       "11     quadr. sup. mammella dx     T-1749               npl. mammella dx   \n",
       "20  11- I- 19036 ; mammella sx     T-1749  carcinoma duttale infiltrante   \n",
       "28  11- I- 19036 ; mammella sx     T-1749  carcinoma duttale infiltrante   \n",
       "39                         NaN        NaN                            NaN   \n",
       "\n",
       "                                                gross        er      pgr her2  \\\n",
       "1   Parenchima mammario di cm 5 x 4 x 4 con al tag...  [66,100]  [33,66)   3+   \n",
       "11  Parenchima mammario di cm 5 x 4 x 4 con al tag...  [66,100]  [33,66)   3+   \n",
       "20  N del caso:  11 -I -19036 ( 1,2,3,4,5 )Ospedal...  [66,100]  [10,33)   1+   \n",
       "28  N del caso:  11 -I -19036 ( 1,2,3,4,5 )Ospedal...  [66,100]  [10,33)   1+   \n",
       "39                                                NaN     [0,1)   [1,10)    0   \n",
       "\n",
       "        ki67 fish  modificato  \\\n",
       "1        nan  nan         NaN   \n",
       "11       nan  nan         NaN   \n",
       "20        15  nan         NaN   \n",
       "28        15  nan         NaN   \n",
       "39  (30,100]  nan         NaN   \n",
       "\n",
       "                                                 text  \n",
       "1   CARCINOMA DELLA MAMMELLA DUTTALE IN SITU con a...  \n",
       "11  CARCINOMA DELLA MAMMELLA DUTTALE IN SITU con a...  \n",
       "20  CARCINOMA INVASIVO DELLA MAMMELLASottotipo: DU...  \n",
       "28  CARCINOMA INVASIVO DELLA MAMMELLASottotipo: DU...  \n",
       "39                                                NaN  "
      ]
     },
     "execution_count": 257,
     "metadata": {},
     "output_type": "execute_result"
    }
   ],
   "source": [
    "data.head()"
   ]
  },
  {
   "cell_type": "code",
   "execution_count": 258,
   "id": "8eb47a3b",
   "metadata": {},
   "outputs": [
    {
     "data": {
      "text/plain": [
       "\"CARCINOMA DELLA MAMMELLA DUTTALE IN SITU con aspetti di tipo apocrinoGrado nucleare :IIIGrado istologico (EPWG):III con cancerizzazione lobulare.Necrosi tumorale:PresenteCalcificazioni:PresentiDistribuzione del carcinoma in situ:MultifocaleDimensioni della neoplasia in situ: foci multifocali il maggiore di cm 1,5Focale immagine di permeazione neoplastica vascolare attribuibile a trasporto da manovre bioptiche.Assetto recettoriale, immunoreattivita' di membrana per Her-2/neu e frazione proliferante:ER, Proporzione di cellule positive nella sezione esaminata:>=66% e 100%    PgR, Proporzione di cellule positive nella sezione esaminata:>=33% e <66%     Immunoreattività di membrana per Her-2/neu (anticorpo policlonale Dako):3+ (fortemente positivo)quadr. sup. mammella dx\""
      ]
     },
     "execution_count": 258,
     "metadata": {},
     "output_type": "execute_result"
    }
   ],
   "source": [
    "data.text.values[0]"
   ]
  },
  {
   "cell_type": "code",
   "execution_count": 259,
   "id": "e5ecbde2",
   "metadata": {},
   "outputs": [],
   "source": [
    "data['summary'] = data['summary'].astype(str)"
   ]
  },
  {
   "cell_type": "code",
   "execution_count": 260,
   "id": "2082b9f4",
   "metadata": {},
   "outputs": [
    {
     "data": {
      "text/html": [
       "<div>\n",
       "<style scoped>\n",
       "    .dataframe tbody tr th:only-of-type {\n",
       "        vertical-align: middle;\n",
       "    }\n",
       "\n",
       "    .dataframe tbody tr th {\n",
       "        vertical-align: top;\n",
       "    }\n",
       "\n",
       "    .dataframe thead th {\n",
       "        text-align: right;\n",
       "    }\n",
       "</style>\n",
       "<table border=\"1\" class=\"dataframe\">\n",
       "  <thead>\n",
       "    <tr style=\"text-align: right;\">\n",
       "      <th></th>\n",
       "      <th>cod paz</th>\n",
       "      <th>id</th>\n",
       "      <th>numero caso</th>\n",
       "      <th>data referto</th>\n",
       "      <th>reparto</th>\n",
       "      <th>diagnosi</th>\n",
       "      <th>pezzo operatorio</th>\n",
       "      <th>topografia</th>\n",
       "      <th>summary</th>\n",
       "      <th>gross</th>\n",
       "      <th>er</th>\n",
       "      <th>pgr</th>\n",
       "      <th>her2</th>\n",
       "      <th>ki67</th>\n",
       "      <th>fish</th>\n",
       "      <th>modificato</th>\n",
       "      <th>text</th>\n",
       "    </tr>\n",
       "  </thead>\n",
       "  <tbody>\n",
       "    <tr>\n",
       "      <th>1</th>\n",
       "      <td>74</td>\n",
       "      <td>2011055891</td>\n",
       "      <td>S2011-006911</td>\n",
       "      <td>12-09-2011</td>\n",
       "      <td>Degenze OCB Senologia</td>\n",
       "      <td>CARCINOMA DELLA MAMMELLA DUTTALE IN SITU con a...</td>\n",
       "      <td>quadr. sup. mammella dx</td>\n",
       "      <td>T-1749</td>\n",
       "      <td>npl. mammella dx</td>\n",
       "      <td>Parenchima mammario di cm 5 x 4 x 4 con al tag...</td>\n",
       "      <td>[66,100]</td>\n",
       "      <td>[33,66)</td>\n",
       "      <td>3+</td>\n",
       "      <td>nan</td>\n",
       "      <td>nan</td>\n",
       "      <td>NaN</td>\n",
       "      <td>CARCINOMA DELLA MAMMELLA DUTTALE IN SITU con a...</td>\n",
       "    </tr>\n",
       "    <tr>\n",
       "      <th>11</th>\n",
       "      <td>74</td>\n",
       "      <td>2011055891</td>\n",
       "      <td>S2011-006911</td>\n",
       "      <td>12-09-2011</td>\n",
       "      <td>Degenze OCB Senologia</td>\n",
       "      <td>CARCINOMA DELLA MAMMELLA DUTTALE IN SITU con a...</td>\n",
       "      <td>quadr. sup. mammella dx</td>\n",
       "      <td>T-1749</td>\n",
       "      <td>npl. mammella dx</td>\n",
       "      <td>Parenchima mammario di cm 5 x 4 x 4 con al tag...</td>\n",
       "      <td>[66,100]</td>\n",
       "      <td>[33,66)</td>\n",
       "      <td>3+</td>\n",
       "      <td>nan</td>\n",
       "      <td>nan</td>\n",
       "      <td>NaN</td>\n",
       "      <td>CARCINOMA DELLA MAMMELLA DUTTALE IN SITU con a...</td>\n",
       "    </tr>\n",
       "    <tr>\n",
       "      <th>20</th>\n",
       "      <td>299</td>\n",
       "      <td>2012013996</td>\n",
       "      <td>C2012-000276</td>\n",
       "      <td>14-11-2011</td>\n",
       "      <td>Esterni</td>\n",
       "      <td>CARCINOMA INVASIVO DELLA MAMMELLASottotipo: DU...</td>\n",
       "      <td>11- I- 19036 ; mammella sx</td>\n",
       "      <td>T-1749</td>\n",
       "      <td>carcinoma duttale infiltrante</td>\n",
       "      <td>N del caso:  11 -I -19036 ( 1,2,3,4,5 )Ospedal...</td>\n",
       "      <td>[66,100]</td>\n",
       "      <td>[10,33)</td>\n",
       "      <td>1+</td>\n",
       "      <td>15</td>\n",
       "      <td>nan</td>\n",
       "      <td>NaN</td>\n",
       "      <td>CARCINOMA INVASIVO DELLA MAMMELLASottotipo: DU...</td>\n",
       "    </tr>\n",
       "    <tr>\n",
       "      <th>28</th>\n",
       "      <td>299</td>\n",
       "      <td>2012013996</td>\n",
       "      <td>C2012-000276</td>\n",
       "      <td>14-11-2011</td>\n",
       "      <td>Esterni</td>\n",
       "      <td>CARCINOMA INVASIVO DELLA MAMMELLASottotipo: DU...</td>\n",
       "      <td>11- I- 19036 ; mammella sx</td>\n",
       "      <td>T-1749</td>\n",
       "      <td>carcinoma duttale infiltrante</td>\n",
       "      <td>N del caso:  11 -I -19036 ( 1,2,3,4,5 )Ospedal...</td>\n",
       "      <td>[66,100]</td>\n",
       "      <td>[10,33)</td>\n",
       "      <td>1+</td>\n",
       "      <td>15</td>\n",
       "      <td>nan</td>\n",
       "      <td>NaN</td>\n",
       "      <td>CARCINOMA INVASIVO DELLA MAMMELLASottotipo: DU...</td>\n",
       "    </tr>\n",
       "    <tr>\n",
       "      <th>48</th>\n",
       "      <td>12</td>\n",
       "      <td>2011057243</td>\n",
       "      <td>S2011-007434</td>\n",
       "      <td>29-09-2011</td>\n",
       "      <td>Degenze OCB Senologia</td>\n",
       "      <td>CARCINOMA INVASIVO DELLA MAMMELLASottotipo: DU...</td>\n",
       "      <td>nodulo QE mamm. D</td>\n",
       "      <td>T-1749</td>\n",
       "      <td>npl mammella D</td>\n",
       "      <td>Parenchima mammario di cm 6x4x3 con un nodulo ...</td>\n",
       "      <td>[66,100]</td>\n",
       "      <td>[1,10)</td>\n",
       "      <td>1+</td>\n",
       "      <td>35</td>\n",
       "      <td>nan</td>\n",
       "      <td>NaN</td>\n",
       "      <td>CARCINOMA INVASIVO DELLA MAMMELLASottotipo: DU...</td>\n",
       "    </tr>\n",
       "    <tr>\n",
       "      <th>...</th>\n",
       "      <td>...</td>\n",
       "      <td>...</td>\n",
       "      <td>...</td>\n",
       "      <td>...</td>\n",
       "      <td>...</td>\n",
       "      <td>...</td>\n",
       "      <td>...</td>\n",
       "      <td>...</td>\n",
       "      <td>...</td>\n",
       "      <td>...</td>\n",
       "      <td>...</td>\n",
       "      <td>...</td>\n",
       "      <td>...</td>\n",
       "      <td>...</td>\n",
       "      <td>...</td>\n",
       "      <td>...</td>\n",
       "      <td>...</td>\n",
       "    </tr>\n",
       "    <tr>\n",
       "      <th>74855</th>\n",
       "      <td>8682</td>\n",
       "      <td>2018005513</td>\n",
       "      <td>B2018-000081</td>\n",
       "      <td>04-01-2018</td>\n",
       "      <td>AMB RDC Radiologia C RADIOLOGIA SENOLOGICA</td>\n",
       "      <td>Assetto recettoriale, immunoreattivita' di mem...</td>\n",
       "      <td>frammenti da adenopatia ascellare dx diametro ...</td>\n",
       "      <td>T-1749</td>\n",
       "      <td>adenopatia ascellare a dx</td>\n",
       "      <td>In formalina:  numero 3 frammenti  di dimensio...</td>\n",
       "      <td>[95,100]</td>\n",
       "      <td>15</td>\n",
       "      <td>2+</td>\n",
       "      <td>35</td>\n",
       "      <td>nan</td>\n",
       "      <td>NaN</td>\n",
       "      <td>Assetto recettoriale, immunoreattivita' di mem...</td>\n",
       "    </tr>\n",
       "    <tr>\n",
       "      <th>74856</th>\n",
       "      <td>8682</td>\n",
       "      <td>2018010720</td>\n",
       "      <td>B2018-000072</td>\n",
       "      <td>04-01-2018</td>\n",
       "      <td>AMB RDC Radiologia C RADIOLOGIA SENOLOGICA</td>\n",
       "      <td>Assetto recettoriale, immunoreattivita' di mem...</td>\n",
       "      <td>frammenti da nodulo sospetto diametro 15 mm QI...</td>\n",
       "      <td>T-1749</td>\n",
       "      <td>nodulo solido sospetto</td>\n",
       "      <td>In formalina:  numero 2 frammenti  di dimensio...</td>\n",
       "      <td>[95,100]</td>\n",
       "      <td>20</td>\n",
       "      <td>3+</td>\n",
       "      <td>20</td>\n",
       "      <td>nan</td>\n",
       "      <td>NaN</td>\n",
       "      <td>Assetto recettoriale, immunoreattivita' di mem...</td>\n",
       "    </tr>\n",
       "    <tr>\n",
       "      <th>74861</th>\n",
       "      <td>8682</td>\n",
       "      <td>2018010721</td>\n",
       "      <td>B2018-000077</td>\n",
       "      <td>04-01-2018</td>\n",
       "      <td>AMB RDC Radiologia C RADIOLOGIA SENOLOGICA</td>\n",
       "      <td>Assetto recettoriale, immunoreattivita' di mem...</td>\n",
       "      <td>frammenti da nodulo sospetto diametro 17 mm a ...</td>\n",
       "      <td>T-1749</td>\n",
       "      <td>nodulo solido sospetto</td>\n",
       "      <td>In formalina:  numero 6 frammenti  di dimensio...</td>\n",
       "      <td>[95,100]</td>\n",
       "      <td>[95,100]</td>\n",
       "      <td>1+</td>\n",
       "      <td>8</td>\n",
       "      <td>nan</td>\n",
       "      <td>NaN</td>\n",
       "      <td>Assetto recettoriale, immunoreattivita' di mem...</td>\n",
       "    </tr>\n",
       "    <tr>\n",
       "      <th>74865</th>\n",
       "      <td>8682</td>\n",
       "      <td>2018005513</td>\n",
       "      <td>B2018-000081</td>\n",
       "      <td>04-01-2018</td>\n",
       "      <td>AMB RDC Radiologia C RADIOLOGIA SENOLOGICA</td>\n",
       "      <td>Assetto recettoriale, immunoreattivita' di mem...</td>\n",
       "      <td>frammenti da adenopatia ascellare dx diametro ...</td>\n",
       "      <td>T-1749</td>\n",
       "      <td>adenopatia ascellare a dx</td>\n",
       "      <td>In formalina:  numero 3 frammenti  di dimensio...</td>\n",
       "      <td>[95,100]</td>\n",
       "      <td>15</td>\n",
       "      <td>2+</td>\n",
       "      <td>35</td>\n",
       "      <td>nan</td>\n",
       "      <td>NaN</td>\n",
       "      <td>Assetto recettoriale, immunoreattivita' di mem...</td>\n",
       "    </tr>\n",
       "    <tr>\n",
       "      <th>74866</th>\n",
       "      <td>8682</td>\n",
       "      <td>2018010720</td>\n",
       "      <td>B2018-000072</td>\n",
       "      <td>04-01-2018</td>\n",
       "      <td>AMB RDC Radiologia C RADIOLOGIA SENOLOGICA</td>\n",
       "      <td>Assetto recettoriale, immunoreattivita' di mem...</td>\n",
       "      <td>frammenti da nodulo sospetto diametro 15 mm QI...</td>\n",
       "      <td>T-1749</td>\n",
       "      <td>nodulo solido sospetto</td>\n",
       "      <td>In formalina:  numero 2 frammenti  di dimensio...</td>\n",
       "      <td>[95,100]</td>\n",
       "      <td>20</td>\n",
       "      <td>3+</td>\n",
       "      <td>20</td>\n",
       "      <td>nan</td>\n",
       "      <td>NaN</td>\n",
       "      <td>Assetto recettoriale, immunoreattivita' di mem...</td>\n",
       "    </tr>\n",
       "  </tbody>\n",
       "</table>\n",
       "<p>6894 rows × 17 columns</p>\n",
       "</div>"
      ],
      "text/plain": [
       "       cod paz          id   numero caso data referto  \\\n",
       "1           74  2011055891  S2011-006911   12-09-2011   \n",
       "11          74  2011055891  S2011-006911   12-09-2011   \n",
       "20         299  2012013996  C2012-000276   14-11-2011   \n",
       "28         299  2012013996  C2012-000276   14-11-2011   \n",
       "48          12  2011057243  S2011-007434   29-09-2011   \n",
       "...        ...         ...           ...          ...   \n",
       "74855     8682  2018005513  B2018-000081   04-01-2018   \n",
       "74856     8682  2018010720  B2018-000072   04-01-2018   \n",
       "74861     8682  2018010721  B2018-000077   04-01-2018   \n",
       "74865     8682  2018005513  B2018-000081   04-01-2018   \n",
       "74866     8682  2018010720  B2018-000072   04-01-2018   \n",
       "\n",
       "                                          reparto  \\\n",
       "1                           Degenze OCB Senologia   \n",
       "11                          Degenze OCB Senologia   \n",
       "20                                        Esterni   \n",
       "28                                        Esterni   \n",
       "48                          Degenze OCB Senologia   \n",
       "...                                           ...   \n",
       "74855  AMB RDC Radiologia C RADIOLOGIA SENOLOGICA   \n",
       "74856  AMB RDC Radiologia C RADIOLOGIA SENOLOGICA   \n",
       "74861  AMB RDC Radiologia C RADIOLOGIA SENOLOGICA   \n",
       "74865  AMB RDC Radiologia C RADIOLOGIA SENOLOGICA   \n",
       "74866  AMB RDC Radiologia C RADIOLOGIA SENOLOGICA   \n",
       "\n",
       "                                                diagnosi  \\\n",
       "1      CARCINOMA DELLA MAMMELLA DUTTALE IN SITU con a...   \n",
       "11     CARCINOMA DELLA MAMMELLA DUTTALE IN SITU con a...   \n",
       "20     CARCINOMA INVASIVO DELLA MAMMELLASottotipo: DU...   \n",
       "28     CARCINOMA INVASIVO DELLA MAMMELLASottotipo: DU...   \n",
       "48     CARCINOMA INVASIVO DELLA MAMMELLASottotipo: DU...   \n",
       "...                                                  ...   \n",
       "74855  Assetto recettoriale, immunoreattivita' di mem...   \n",
       "74856  Assetto recettoriale, immunoreattivita' di mem...   \n",
       "74861  Assetto recettoriale, immunoreattivita' di mem...   \n",
       "74865  Assetto recettoriale, immunoreattivita' di mem...   \n",
       "74866  Assetto recettoriale, immunoreattivita' di mem...   \n",
       "\n",
       "                                        pezzo operatorio topografia  \\\n",
       "1                                quadr. sup. mammella dx     T-1749   \n",
       "11                               quadr. sup. mammella dx     T-1749   \n",
       "20                            11- I- 19036 ; mammella sx     T-1749   \n",
       "28                            11- I- 19036 ; mammella sx     T-1749   \n",
       "48                                     nodulo QE mamm. D     T-1749   \n",
       "...                                                  ...        ...   \n",
       "74855  frammenti da adenopatia ascellare dx diametro ...     T-1749   \n",
       "74856  frammenti da nodulo sospetto diametro 15 mm QI...     T-1749   \n",
       "74861  frammenti da nodulo sospetto diametro 17 mm a ...     T-1749   \n",
       "74865  frammenti da adenopatia ascellare dx diametro ...     T-1749   \n",
       "74866  frammenti da nodulo sospetto diametro 15 mm QI...     T-1749   \n",
       "\n",
       "                             summary  \\\n",
       "1                   npl. mammella dx   \n",
       "11                  npl. mammella dx   \n",
       "20     carcinoma duttale infiltrante   \n",
       "28     carcinoma duttale infiltrante   \n",
       "48                    npl mammella D   \n",
       "...                              ...   \n",
       "74855      adenopatia ascellare a dx   \n",
       "74856         nodulo solido sospetto   \n",
       "74861         nodulo solido sospetto   \n",
       "74865      adenopatia ascellare a dx   \n",
       "74866         nodulo solido sospetto   \n",
       "\n",
       "                                                   gross        er       pgr  \\\n",
       "1      Parenchima mammario di cm 5 x 4 x 4 con al tag...  [66,100]   [33,66)   \n",
       "11     Parenchima mammario di cm 5 x 4 x 4 con al tag...  [66,100]   [33,66)   \n",
       "20     N del caso:  11 -I -19036 ( 1,2,3,4,5 )Ospedal...  [66,100]   [10,33)   \n",
       "28     N del caso:  11 -I -19036 ( 1,2,3,4,5 )Ospedal...  [66,100]   [10,33)   \n",
       "48     Parenchima mammario di cm 6x4x3 con un nodulo ...  [66,100]    [1,10)   \n",
       "...                                                  ...       ...       ...   \n",
       "74855  In formalina:  numero 3 frammenti  di dimensio...  [95,100]        15   \n",
       "74856  In formalina:  numero 2 frammenti  di dimensio...  [95,100]        20   \n",
       "74861  In formalina:  numero 6 frammenti  di dimensio...  [95,100]  [95,100]   \n",
       "74865  In formalina:  numero 3 frammenti  di dimensio...  [95,100]        15   \n",
       "74866  In formalina:  numero 2 frammenti  di dimensio...  [95,100]        20   \n",
       "\n",
       "      her2 ki67 fish  modificato  \\\n",
       "1       3+  nan  nan         NaN   \n",
       "11      3+  nan  nan         NaN   \n",
       "20      1+   15  nan         NaN   \n",
       "28      1+   15  nan         NaN   \n",
       "48      1+   35  nan         NaN   \n",
       "...    ...  ...  ...         ...   \n",
       "74855   2+   35  nan         NaN   \n",
       "74856   3+   20  nan         NaN   \n",
       "74861   1+    8  nan         NaN   \n",
       "74865   2+   35  nan         NaN   \n",
       "74866   3+   20  nan         NaN   \n",
       "\n",
       "                                                    text  \n",
       "1      CARCINOMA DELLA MAMMELLA DUTTALE IN SITU con a...  \n",
       "11     CARCINOMA DELLA MAMMELLA DUTTALE IN SITU con a...  \n",
       "20     CARCINOMA INVASIVO DELLA MAMMELLASottotipo: DU...  \n",
       "28     CARCINOMA INVASIVO DELLA MAMMELLASottotipo: DU...  \n",
       "48     CARCINOMA INVASIVO DELLA MAMMELLASottotipo: DU...  \n",
       "...                                                  ...  \n",
       "74855  Assetto recettoriale, immunoreattivita' di mem...  \n",
       "74856  Assetto recettoriale, immunoreattivita' di mem...  \n",
       "74861  Assetto recettoriale, immunoreattivita' di mem...  \n",
       "74865  Assetto recettoriale, immunoreattivita' di mem...  \n",
       "74866  Assetto recettoriale, immunoreattivita' di mem...  \n",
       "\n",
       "[6894 rows x 17 columns]"
      ]
     },
     "execution_count": 260,
     "metadata": {},
     "output_type": "execute_result"
    }
   ],
   "source": [
    "#doing this we exclude nan values in column summary\n",
    "data[data['summary'].apply(len)>3]"
   ]
  },
  {
   "cell_type": "code",
   "execution_count": 261,
   "id": "6e93827e",
   "metadata": {},
   "outputs": [
    {
     "data": {
      "text/plain": [
       "(14828, 17)"
      ]
     },
     "execution_count": 261,
     "metadata": {},
     "output_type": "execute_result"
    }
   ],
   "source": [
    "data.shape"
   ]
  },
  {
   "cell_type": "code",
   "execution_count": 262,
   "id": "282c19c5",
   "metadata": {},
   "outputs": [],
   "source": [
    "data['pezzo operatorio'] = data['pezzo operatorio'].astype(str)"
   ]
  },
  {
   "cell_type": "code",
   "execution_count": 263,
   "id": "9834dac4",
   "metadata": {},
   "outputs": [],
   "source": [
    "data['diagnosi'] = data['diagnosi'].astype(str)"
   ]
  },
  {
   "cell_type": "code",
   "execution_count": 264,
   "id": "bc86059f",
   "metadata": {},
   "outputs": [
    {
     "data": {
      "text/plain": [
       "array(['(a) neof. mammaria II  sin, (b) QII sin',\n",
       "       '1 frustolo  core biopsy',\n",
       "       '1 frustolo diderma e di neoplasia mammella dx', ...,\n",
       "       'tumefazione di consistenza molto dura',\n",
       "       'tumefazione di diametro 5 cm mammella D',\n",
       "       'tumefazione retro areolare diam. 5 cm mammella dx'], dtype=object)"
      ]
     },
     "execution_count": 264,
     "metadata": {},
     "output_type": "execute_result"
    }
   ],
   "source": [
    "np.unique(data[\"pezzo operatorio\"])"
   ]
  },
  {
   "cell_type": "code",
   "execution_count": 265,
   "id": "332d03fa",
   "metadata": {},
   "outputs": [],
   "source": [
    "#at the end our column text it will be a concatenation of diagnosi, pezzo operatorio and summary\n",
    "\n",
    "data[\"text\"] = data[\"diagnosi\"] + data[\"pezzo operatorio\"]+ data[\"summary\"]"
   ]
  },
  {
   "cell_type": "code",
   "execution_count": 266,
   "id": "074cedce",
   "metadata": {},
   "outputs": [
    {
     "data": {
      "text/plain": [
       "'Risultato degli esami immunoistochimici effettuati:ER-ICA Proporzione di cellule positive nella sezione esaminata:>=66% e 100%  PgR-ICA Proporzione di cellule positive nella sezione esaminata:>=33% e <66%  p185(Her 2 neu):2+ (debolmente positivo)nannan'"
      ]
     },
     "execution_count": 266,
     "metadata": {},
     "output_type": "execute_result"
    }
   ],
   "source": [
    "#example of our new column\n",
    "data.text.values[23]"
   ]
  },
  {
   "cell_type": "code",
   "execution_count": 267,
   "id": "2d63713d",
   "metadata": {},
   "outputs": [
    {
     "data": {
      "text/html": [
       "<div>\n",
       "<style scoped>\n",
       "    .dataframe tbody tr th:only-of-type {\n",
       "        vertical-align: middle;\n",
       "    }\n",
       "\n",
       "    .dataframe tbody tr th {\n",
       "        vertical-align: top;\n",
       "    }\n",
       "\n",
       "    .dataframe thead th {\n",
       "        text-align: right;\n",
       "    }\n",
       "</style>\n",
       "<table border=\"1\" class=\"dataframe\">\n",
       "  <thead>\n",
       "    <tr style=\"text-align: right;\">\n",
       "      <th></th>\n",
       "      <th>cod paz</th>\n",
       "      <th>id</th>\n",
       "      <th>numero caso</th>\n",
       "      <th>data referto</th>\n",
       "      <th>reparto</th>\n",
       "      <th>diagnosi</th>\n",
       "      <th>pezzo operatorio</th>\n",
       "      <th>topografia</th>\n",
       "      <th>summary</th>\n",
       "      <th>gross</th>\n",
       "      <th>er</th>\n",
       "      <th>pgr</th>\n",
       "      <th>her2</th>\n",
       "      <th>ki67</th>\n",
       "      <th>fish</th>\n",
       "      <th>modificato</th>\n",
       "      <th>text</th>\n",
       "    </tr>\n",
       "  </thead>\n",
       "  <tbody>\n",
       "    <tr>\n",
       "      <th>1</th>\n",
       "      <td>74</td>\n",
       "      <td>2011055891</td>\n",
       "      <td>S2011-006911</td>\n",
       "      <td>12-09-2011</td>\n",
       "      <td>Degenze OCB Senologia</td>\n",
       "      <td>CARCINOMA DELLA MAMMELLA DUTTALE IN SITU con a...</td>\n",
       "      <td>quadr. sup. mammella dx</td>\n",
       "      <td>T-1749</td>\n",
       "      <td>npl. mammella dx</td>\n",
       "      <td>Parenchima mammario di cm 5 x 4 x 4 con al tag...</td>\n",
       "      <td>[66,100]</td>\n",
       "      <td>[33,66)</td>\n",
       "      <td>3+</td>\n",
       "      <td>nan</td>\n",
       "      <td>nan</td>\n",
       "      <td>NaN</td>\n",
       "      <td>CARCINOMA DELLA MAMMELLA DUTTALE IN SITU con a...</td>\n",
       "    </tr>\n",
       "    <tr>\n",
       "      <th>11</th>\n",
       "      <td>74</td>\n",
       "      <td>2011055891</td>\n",
       "      <td>S2011-006911</td>\n",
       "      <td>12-09-2011</td>\n",
       "      <td>Degenze OCB Senologia</td>\n",
       "      <td>CARCINOMA DELLA MAMMELLA DUTTALE IN SITU con a...</td>\n",
       "      <td>quadr. sup. mammella dx</td>\n",
       "      <td>T-1749</td>\n",
       "      <td>npl. mammella dx</td>\n",
       "      <td>Parenchima mammario di cm 5 x 4 x 4 con al tag...</td>\n",
       "      <td>[66,100]</td>\n",
       "      <td>[33,66)</td>\n",
       "      <td>3+</td>\n",
       "      <td>nan</td>\n",
       "      <td>nan</td>\n",
       "      <td>NaN</td>\n",
       "      <td>CARCINOMA DELLA MAMMELLA DUTTALE IN SITU con a...</td>\n",
       "    </tr>\n",
       "    <tr>\n",
       "      <th>20</th>\n",
       "      <td>299</td>\n",
       "      <td>2012013996</td>\n",
       "      <td>C2012-000276</td>\n",
       "      <td>14-11-2011</td>\n",
       "      <td>Esterni</td>\n",
       "      <td>CARCINOMA INVASIVO DELLA MAMMELLASottotipo: DU...</td>\n",
       "      <td>11- I- 19036 ; mammella sx</td>\n",
       "      <td>T-1749</td>\n",
       "      <td>carcinoma duttale infiltrante</td>\n",
       "      <td>N del caso:  11 -I -19036 ( 1,2,3,4,5 )Ospedal...</td>\n",
       "      <td>[66,100]</td>\n",
       "      <td>[10,33)</td>\n",
       "      <td>1+</td>\n",
       "      <td>15</td>\n",
       "      <td>nan</td>\n",
       "      <td>NaN</td>\n",
       "      <td>CARCINOMA INVASIVO DELLA MAMMELLASottotipo: DU...</td>\n",
       "    </tr>\n",
       "    <tr>\n",
       "      <th>28</th>\n",
       "      <td>299</td>\n",
       "      <td>2012013996</td>\n",
       "      <td>C2012-000276</td>\n",
       "      <td>14-11-2011</td>\n",
       "      <td>Esterni</td>\n",
       "      <td>CARCINOMA INVASIVO DELLA MAMMELLASottotipo: DU...</td>\n",
       "      <td>11- I- 19036 ; mammella sx</td>\n",
       "      <td>T-1749</td>\n",
       "      <td>carcinoma duttale infiltrante</td>\n",
       "      <td>N del caso:  11 -I -19036 ( 1,2,3,4,5 )Ospedal...</td>\n",
       "      <td>[66,100]</td>\n",
       "      <td>[10,33)</td>\n",
       "      <td>1+</td>\n",
       "      <td>15</td>\n",
       "      <td>nan</td>\n",
       "      <td>NaN</td>\n",
       "      <td>CARCINOMA INVASIVO DELLA MAMMELLASottotipo: DU...</td>\n",
       "    </tr>\n",
       "    <tr>\n",
       "      <th>39</th>\n",
       "      <td>102</td>\n",
       "      <td>2011008477</td>\n",
       "      <td>B2011-005462</td>\n",
       "      <td>31-08-2011</td>\n",
       "      <td>AMB RDC Radiologia C RADIOLOGIA SENOLOGICA</td>\n",
       "      <td>Risultato degli esami immunoistochimici effett...</td>\n",
       "      <td>nan</td>\n",
       "      <td>NaN</td>\n",
       "      <td>nan</td>\n",
       "      <td>NaN</td>\n",
       "      <td>[0,1)</td>\n",
       "      <td>[1,10)</td>\n",
       "      <td>0</td>\n",
       "      <td>(30,100]</td>\n",
       "      <td>nan</td>\n",
       "      <td>NaN</td>\n",
       "      <td>Risultato degli esami immunoistochimici effett...</td>\n",
       "    </tr>\n",
       "    <tr>\n",
       "      <th>45</th>\n",
       "      <td>102</td>\n",
       "      <td>2011058933</td>\n",
       "      <td>S2011-008023</td>\n",
       "      <td>19-10-2011</td>\n",
       "      <td>Degenze OCB Senologia</td>\n",
       "      <td>CARCINOMA INVASIVO DELLA MAMMELLAGrado istolog...</td>\n",
       "      <td>mammella S</td>\n",
       "      <td>T-1749</td>\n",
       "      <td>nan</td>\n",
       "      <td>Mammella S di cm 18x8x4 con losanga di cute di...</td>\n",
       "      <td>[0,1)</td>\n",
       "      <td>[0,1)</td>\n",
       "      <td>2+</td>\n",
       "      <td>(30,100]</td>\n",
       "      <td>nan</td>\n",
       "      <td>1.0</td>\n",
       "      <td>CARCINOMA INVASIVO DELLA MAMMELLAGrado istolog...</td>\n",
       "    </tr>\n",
       "    <tr>\n",
       "      <th>48</th>\n",
       "      <td>12</td>\n",
       "      <td>2011057243</td>\n",
       "      <td>S2011-007434</td>\n",
       "      <td>29-09-2011</td>\n",
       "      <td>Degenze OCB Senologia</td>\n",
       "      <td>CARCINOMA INVASIVO DELLA MAMMELLASottotipo: DU...</td>\n",
       "      <td>nodulo QE mamm. D</td>\n",
       "      <td>T-1749</td>\n",
       "      <td>npl mammella D</td>\n",
       "      <td>Parenchima mammario di cm 6x4x3 con un nodulo ...</td>\n",
       "      <td>[66,100]</td>\n",
       "      <td>[1,10)</td>\n",
       "      <td>1+</td>\n",
       "      <td>35</td>\n",
       "      <td>nan</td>\n",
       "      <td>NaN</td>\n",
       "      <td>CARCINOMA INVASIVO DELLA MAMMELLASottotipo: DU...</td>\n",
       "    </tr>\n",
       "    <tr>\n",
       "      <th>50</th>\n",
       "      <td>13</td>\n",
       "      <td>2011057297</td>\n",
       "      <td>S2011-007446</td>\n",
       "      <td>29-09-2011</td>\n",
       "      <td>Degenze OCB Senologia</td>\n",
       "      <td>CARCINOMA INVASIVO DELLA MAMMELLASottotipo: DU...</td>\n",
       "      <td>Mammella S.</td>\n",
       "      <td>T-1749</td>\n",
       "      <td>nan</td>\n",
       "      <td>Mammella priva di cute e capezzolo di cm 20x20...</td>\n",
       "      <td>[66,100]</td>\n",
       "      <td>[66,100]</td>\n",
       "      <td>2+</td>\n",
       "      <td>30</td>\n",
       "      <td>nan</td>\n",
       "      <td>NaN</td>\n",
       "      <td>CARCINOMA INVASIVO DELLA MAMMELLASottotipo: DU...</td>\n",
       "    </tr>\n",
       "    <tr>\n",
       "      <th>55</th>\n",
       "      <td>93</td>\n",
       "      <td>2011059162</td>\n",
       "      <td>S2011-008103</td>\n",
       "      <td>21-10-2011</td>\n",
       "      <td>Degenze OCB Senologia</td>\n",
       "      <td>1,3) CARCINOMA INVASIVO DELLA MAMMELLASottotip...</td>\n",
       "      <td>nodulo infra-areolare mammella S</td>\n",
       "      <td>T-1749</td>\n",
       "      <td>npl mammella S C4</td>\n",
       "      <td>Parenchima mammario di cm 4 di asse maggiore c...</td>\n",
       "      <td>95</td>\n",
       "      <td>95</td>\n",
       "      <td>0</td>\n",
       "      <td>26</td>\n",
       "      <td>nan</td>\n",
       "      <td>1.0</td>\n",
       "      <td>1,3) CARCINOMA INVASIVO DELLA MAMMELLASottotip...</td>\n",
       "    </tr>\n",
       "    <tr>\n",
       "      <th>63</th>\n",
       "      <td>93</td>\n",
       "      <td>2011059162</td>\n",
       "      <td>S2011-008103</td>\n",
       "      <td>21-10-2011</td>\n",
       "      <td>Degenze OCB Senologia</td>\n",
       "      <td>1,3) CARCINOMA INVASIVO DELLA MAMMELLASottotip...</td>\n",
       "      <td>nodulo infra-areolare mammella S</td>\n",
       "      <td>T-1749</td>\n",
       "      <td>npl mammella S C4</td>\n",
       "      <td>Parenchima mammario di cm 4 di asse maggiore c...</td>\n",
       "      <td>95</td>\n",
       "      <td>95</td>\n",
       "      <td>0</td>\n",
       "      <td>26</td>\n",
       "      <td>nan</td>\n",
       "      <td>1.0</td>\n",
       "      <td>1,3) CARCINOMA INVASIVO DELLA MAMMELLASottotip...</td>\n",
       "    </tr>\n",
       "  </tbody>\n",
       "</table>\n",
       "</div>"
      ],
      "text/plain": [
       "    cod paz          id   numero caso data referto  \\\n",
       "1        74  2011055891  S2011-006911   12-09-2011   \n",
       "11       74  2011055891  S2011-006911   12-09-2011   \n",
       "20      299  2012013996  C2012-000276   14-11-2011   \n",
       "28      299  2012013996  C2012-000276   14-11-2011   \n",
       "39      102  2011008477  B2011-005462   31-08-2011   \n",
       "45      102  2011058933  S2011-008023   19-10-2011   \n",
       "48       12  2011057243  S2011-007434   29-09-2011   \n",
       "50       13  2011057297  S2011-007446   29-09-2011   \n",
       "55       93  2011059162  S2011-008103   21-10-2011   \n",
       "63       93  2011059162  S2011-008103   21-10-2011   \n",
       "\n",
       "                                       reparto  \\\n",
       "1                        Degenze OCB Senologia   \n",
       "11                       Degenze OCB Senologia   \n",
       "20                                     Esterni   \n",
       "28                                     Esterni   \n",
       "39  AMB RDC Radiologia C RADIOLOGIA SENOLOGICA   \n",
       "45                       Degenze OCB Senologia   \n",
       "48                       Degenze OCB Senologia   \n",
       "50                       Degenze OCB Senologia   \n",
       "55                       Degenze OCB Senologia   \n",
       "63                       Degenze OCB Senologia   \n",
       "\n",
       "                                             diagnosi  \\\n",
       "1   CARCINOMA DELLA MAMMELLA DUTTALE IN SITU con a...   \n",
       "11  CARCINOMA DELLA MAMMELLA DUTTALE IN SITU con a...   \n",
       "20  CARCINOMA INVASIVO DELLA MAMMELLASottotipo: DU...   \n",
       "28  CARCINOMA INVASIVO DELLA MAMMELLASottotipo: DU...   \n",
       "39  Risultato degli esami immunoistochimici effett...   \n",
       "45  CARCINOMA INVASIVO DELLA MAMMELLAGrado istolog...   \n",
       "48  CARCINOMA INVASIVO DELLA MAMMELLASottotipo: DU...   \n",
       "50  CARCINOMA INVASIVO DELLA MAMMELLASottotipo: DU...   \n",
       "55  1,3) CARCINOMA INVASIVO DELLA MAMMELLASottotip...   \n",
       "63  1,3) CARCINOMA INVASIVO DELLA MAMMELLASottotip...   \n",
       "\n",
       "                    pezzo operatorio topografia  \\\n",
       "1            quadr. sup. mammella dx     T-1749   \n",
       "11           quadr. sup. mammella dx     T-1749   \n",
       "20        11- I- 19036 ; mammella sx     T-1749   \n",
       "28        11- I- 19036 ; mammella sx     T-1749   \n",
       "39                               nan        NaN   \n",
       "45                        mammella S     T-1749   \n",
       "48                 nodulo QE mamm. D     T-1749   \n",
       "50                       Mammella S.     T-1749   \n",
       "55  nodulo infra-areolare mammella S     T-1749   \n",
       "63  nodulo infra-areolare mammella S     T-1749   \n",
       "\n",
       "                          summary  \\\n",
       "1                npl. mammella dx   \n",
       "11               npl. mammella dx   \n",
       "20  carcinoma duttale infiltrante   \n",
       "28  carcinoma duttale infiltrante   \n",
       "39                            nan   \n",
       "45                            nan   \n",
       "48                 npl mammella D   \n",
       "50                            nan   \n",
       "55              npl mammella S C4   \n",
       "63              npl mammella S C4   \n",
       "\n",
       "                                                gross        er       pgr  \\\n",
       "1   Parenchima mammario di cm 5 x 4 x 4 con al tag...  [66,100]   [33,66)   \n",
       "11  Parenchima mammario di cm 5 x 4 x 4 con al tag...  [66,100]   [33,66)   \n",
       "20  N del caso:  11 -I -19036 ( 1,2,3,4,5 )Ospedal...  [66,100]   [10,33)   \n",
       "28  N del caso:  11 -I -19036 ( 1,2,3,4,5 )Ospedal...  [66,100]   [10,33)   \n",
       "39                                                NaN     [0,1)    [1,10)   \n",
       "45  Mammella S di cm 18x8x4 con losanga di cute di...     [0,1)     [0,1)   \n",
       "48  Parenchima mammario di cm 6x4x3 con un nodulo ...  [66,100]    [1,10)   \n",
       "50  Mammella priva di cute e capezzolo di cm 20x20...  [66,100]  [66,100]   \n",
       "55  Parenchima mammario di cm 4 di asse maggiore c...        95        95   \n",
       "63  Parenchima mammario di cm 4 di asse maggiore c...        95        95   \n",
       "\n",
       "   her2      ki67 fish  modificato  \\\n",
       "1    3+       nan  nan         NaN   \n",
       "11   3+       nan  nan         NaN   \n",
       "20   1+        15  nan         NaN   \n",
       "28   1+        15  nan         NaN   \n",
       "39    0  (30,100]  nan         NaN   \n",
       "45   2+  (30,100]  nan         1.0   \n",
       "48   1+        35  nan         NaN   \n",
       "50   2+        30  nan         NaN   \n",
       "55    0        26  nan         1.0   \n",
       "63    0        26  nan         1.0   \n",
       "\n",
       "                                                 text  \n",
       "1   CARCINOMA DELLA MAMMELLA DUTTALE IN SITU con a...  \n",
       "11  CARCINOMA DELLA MAMMELLA DUTTALE IN SITU con a...  \n",
       "20  CARCINOMA INVASIVO DELLA MAMMELLASottotipo: DU...  \n",
       "28  CARCINOMA INVASIVO DELLA MAMMELLASottotipo: DU...  \n",
       "39  Risultato degli esami immunoistochimici effett...  \n",
       "45  CARCINOMA INVASIVO DELLA MAMMELLAGrado istolog...  \n",
       "48  CARCINOMA INVASIVO DELLA MAMMELLASottotipo: DU...  \n",
       "50  CARCINOMA INVASIVO DELLA MAMMELLASottotipo: DU...  \n",
       "55  1,3) CARCINOMA INVASIVO DELLA MAMMELLASottotip...  \n",
       "63  1,3) CARCINOMA INVASIVO DELLA MAMMELLASottotip...  "
      ]
     },
     "execution_count": 267,
     "metadata": {},
     "output_type": "execute_result"
    }
   ],
   "source": [
    "#checking that there is no nan values in text, evene if some components are nan\n",
    "data.head(10)"
   ]
  },
  {
   "cell_type": "code",
   "execution_count": 268,
   "id": "fce3096a",
   "metadata": {},
   "outputs": [
    {
     "data": {
      "text/plain": [
       "cod paz                 0\n",
       "id                      0\n",
       "numero caso             0\n",
       "data referto            0\n",
       "reparto                 6\n",
       "diagnosi                0\n",
       "pezzo operatorio        0\n",
       "topografia           2598\n",
       "summary                 0\n",
       "gross                1337\n",
       "er                      0\n",
       "pgr                     0\n",
       "her2                    0\n",
       "ki67                    0\n",
       "fish                    0\n",
       "modificato          13286\n",
       "text                    0\n",
       "dtype: int64"
      ]
     },
     "execution_count": 268,
     "metadata": {},
     "output_type": "execute_result"
    }
   ],
   "source": [
    "data.isnull().sum()"
   ]
  },
  {
   "cell_type": "markdown",
   "id": "590ae733",
   "metadata": {},
   "source": [
    "## Data preparation"
   ]
  },
  {
   "cell_type": "code",
   "execution_count": 269,
   "id": "26224e8b",
   "metadata": {},
   "outputs": [],
   "source": [
    "#!pip install neattext\n",
    "import neattext.functions as nfx \n",
    "from nltk.corpus import stopwords\n",
    "from nltk.tokenize import RegexpTokenizer\n",
    "from nltk.stem.snowball import SnowballStemmer\n",
    "from nltk.tokenize.treebank import TreebankWordDetokenizer"
   ]
  },
  {
   "cell_type": "code",
   "execution_count": 270,
   "id": "8549b299",
   "metadata": {},
   "outputs": [],
   "source": [
    "def lower_case(text): \n",
    "  return text.lower()\n",
    "\n",
    "stop = stopwords.words('italian')"
   ]
  },
  {
   "cell_type": "code",
   "execution_count": 271,
   "id": "f5827180",
   "metadata": {},
   "outputs": [],
   "source": [
    "\n",
    "data[\"text_cleaned\"] = data[\"text\"].apply(nfx.remove_special_characters)\n",
    "#data[\"text_cleaned\"] = data[\"text_cleaned\"].apply(nfx.remove_bad_quotes)\n",
    "data[\"text_cleaned\"] = data[\"text_cleaned\"].apply(nfx.remove_punctuations)\n",
    "data[\"text_cleaned\"] = data[\"text_cleaned\"].apply(nfx.remove_numbers)\n",
    "data[\"text_cleaned\"] = data[\"text_cleaned\"].apply(nfx.remove_multiple_spaces)\n",
    "data[\"text_cleaned\"] = data[\"text_cleaned\"].apply(lower_case)\n",
    "data[\"text_cleaned\"]= data[\"text_cleaned\"].apply(lambda x: ' '.join([word for word in x.split() if word not in (stop)]))"
   ]
  },
  {
   "cell_type": "code",
   "execution_count": 272,
   "id": "bc49fc10",
   "metadata": {},
   "outputs": [
    {
     "data": {
      "text/plain": [
       "'carcinoma mammella duttale situ aspetti tipo apocrinogrado nucleare iiigrado istologico epwgiii cancerizzazione lobularenecrosi tumoralepresentecalcificazionipresentidistribuzione carcinoma situmultifocaledimensioni neoplasia situ foci multifocali maggiore cm focale immagine permeazione neoplastica vascolare attribuibile trasporto manovre biopticheassetto recettoriale immunoreattivita membrana herneu frazione proliferanteer proporzione cellule positive sezione esaminata pgr proporzione cellule positive sezione esaminata immunoreattivit membrana herneu anticorpo policlonale dako fortemente positivoquadr sup mammella dxnpl mammella dx'"
      ]
     },
     "execution_count": 272,
     "metadata": {},
     "output_type": "execute_result"
    }
   ],
   "source": [
    "#check column text vs text_Cleaned to see the differences\n",
    "data.text_cleaned.values[1]"
   ]
  },
  {
   "cell_type": "code",
   "execution_count": 273,
   "id": "9a70ab01",
   "metadata": {},
   "outputs": [
    {
     "data": {
      "text/plain": [
       "\"CARCINOMA DELLA MAMMELLA DUTTALE IN SITU con aspetti di tipo apocrinoGrado nucleare :IIIGrado istologico (EPWG):III con cancerizzazione lobulare.Necrosi tumorale:PresenteCalcificazioni:PresentiDistribuzione del carcinoma in situ:MultifocaleDimensioni della neoplasia in situ: foci multifocali il maggiore di cm 1,5Focale immagine di permeazione neoplastica vascolare attribuibile a trasporto da manovre bioptiche.Assetto recettoriale, immunoreattivita' di membrana per Her-2/neu e frazione proliferante:ER, Proporzione di cellule positive nella sezione esaminata:>=66% e 100%    PgR, Proporzione di cellule positive nella sezione esaminata:>=33% e <66%     Immunoreattività di membrana per Her-2/neu (anticorpo policlonale Dako):3+ (fortemente positivo)quadr. sup. mammella dxnpl. mammella dx\""
      ]
     },
     "execution_count": 273,
     "metadata": {},
     "output_type": "execute_result"
    }
   ],
   "source": [
    "data.text.values[1]"
   ]
  },
  {
   "cell_type": "code",
   "execution_count": 274,
   "id": "1841f67b",
   "metadata": {},
   "outputs": [
    {
     "data": {
      "text/plain": [
       "array(['(90,100]', '(95,100]', '+', '-', '0', '1', '10', '100', '14',\n",
       "       '15', '2', '20', '22', '23', '25', '3', '30', '35', '4', '40',\n",
       "       '45', '5', '50', '55', '6', '60', '65', '7', '70', '75', '8', '80',\n",
       "       '82', '85', '9', '90', '92', '95', '97', '98', '99', '<95', '>)5',\n",
       "       '[0,1)', '[0,10)', '[0,5)', '[0,95)', '[1,10)', '[10,15)',\n",
       "       '[10,33)', '[33,66)', '[66,100]', '[80,100]', '[95,100]',\n",
       "       'negativo'], dtype=object)"
      ]
     },
     "execution_count": 274,
     "metadata": {},
     "output_type": "execute_result"
    }
   ],
   "source": [
    "np.unique(data[\"er\"])\n",
    "#make sense to predict some intervals eg neg, 0-5,5-10 and so on"
   ]
  },
  {
   "cell_type": "code",
   "execution_count": 275,
   "id": "7a2c49f8",
   "metadata": {},
   "outputs": [],
   "source": [
    "tokenizer = RegexpTokenizer(\n",
    "    \"(?:(?<=\\s)|(?<=^)|(?<=[>\\\"]))[a-z-']+(?:(?=\\s)|(?=\\:\\s)|(?=$)|(?=[.!,;\\\"]))\"\n",
    ")"
   ]
  },
  {
   "cell_type": "code",
   "execution_count": 276,
   "id": "cc8ec3e8",
   "metadata": {},
   "outputs": [],
   "source": [
    "data[\"text_tokenize\"] = data.text_cleaned.apply(tokenizer.tokenize)"
   ]
  },
  {
   "cell_type": "code",
   "execution_count": 277,
   "id": "b639b257",
   "metadata": {},
   "outputs": [
    {
     "data": {
      "text/html": [
       "<div>\n",
       "<style scoped>\n",
       "    .dataframe tbody tr th:only-of-type {\n",
       "        vertical-align: middle;\n",
       "    }\n",
       "\n",
       "    .dataframe tbody tr th {\n",
       "        vertical-align: top;\n",
       "    }\n",
       "\n",
       "    .dataframe thead th {\n",
       "        text-align: right;\n",
       "    }\n",
       "</style>\n",
       "<table border=\"1\" class=\"dataframe\">\n",
       "  <thead>\n",
       "    <tr style=\"text-align: right;\">\n",
       "      <th></th>\n",
       "      <th>cod paz</th>\n",
       "      <th>id</th>\n",
       "      <th>numero caso</th>\n",
       "      <th>data referto</th>\n",
       "      <th>reparto</th>\n",
       "      <th>diagnosi</th>\n",
       "      <th>pezzo operatorio</th>\n",
       "      <th>topografia</th>\n",
       "      <th>summary</th>\n",
       "      <th>gross</th>\n",
       "      <th>er</th>\n",
       "      <th>pgr</th>\n",
       "      <th>her2</th>\n",
       "      <th>ki67</th>\n",
       "      <th>fish</th>\n",
       "      <th>modificato</th>\n",
       "      <th>text</th>\n",
       "      <th>text_cleaned</th>\n",
       "      <th>text_tokenize</th>\n",
       "    </tr>\n",
       "  </thead>\n",
       "  <tbody>\n",
       "    <tr>\n",
       "      <th>1</th>\n",
       "      <td>74</td>\n",
       "      <td>2011055891</td>\n",
       "      <td>S2011-006911</td>\n",
       "      <td>12-09-2011</td>\n",
       "      <td>Degenze OCB Senologia</td>\n",
       "      <td>CARCINOMA DELLA MAMMELLA DUTTALE IN SITU con a...</td>\n",
       "      <td>quadr. sup. mammella dx</td>\n",
       "      <td>T-1749</td>\n",
       "      <td>npl. mammella dx</td>\n",
       "      <td>Parenchima mammario di cm 5 x 4 x 4 con al tag...</td>\n",
       "      <td>[66,100]</td>\n",
       "      <td>[33,66)</td>\n",
       "      <td>3+</td>\n",
       "      <td>nan</td>\n",
       "      <td>nan</td>\n",
       "      <td>NaN</td>\n",
       "      <td>CARCINOMA DELLA MAMMELLA DUTTALE IN SITU con a...</td>\n",
       "      <td>carcinoma mammella duttale situ aspetti tipo a...</td>\n",
       "      <td>[carcinoma, mammella, duttale, situ, aspetti, ...</td>\n",
       "    </tr>\n",
       "    <tr>\n",
       "      <th>11</th>\n",
       "      <td>74</td>\n",
       "      <td>2011055891</td>\n",
       "      <td>S2011-006911</td>\n",
       "      <td>12-09-2011</td>\n",
       "      <td>Degenze OCB Senologia</td>\n",
       "      <td>CARCINOMA DELLA MAMMELLA DUTTALE IN SITU con a...</td>\n",
       "      <td>quadr. sup. mammella dx</td>\n",
       "      <td>T-1749</td>\n",
       "      <td>npl. mammella dx</td>\n",
       "      <td>Parenchima mammario di cm 5 x 4 x 4 con al tag...</td>\n",
       "      <td>[66,100]</td>\n",
       "      <td>[33,66)</td>\n",
       "      <td>3+</td>\n",
       "      <td>nan</td>\n",
       "      <td>nan</td>\n",
       "      <td>NaN</td>\n",
       "      <td>CARCINOMA DELLA MAMMELLA DUTTALE IN SITU con a...</td>\n",
       "      <td>carcinoma mammella duttale situ aspetti tipo a...</td>\n",
       "      <td>[carcinoma, mammella, duttale, situ, aspetti, ...</td>\n",
       "    </tr>\n",
       "    <tr>\n",
       "      <th>20</th>\n",
       "      <td>299</td>\n",
       "      <td>2012013996</td>\n",
       "      <td>C2012-000276</td>\n",
       "      <td>14-11-2011</td>\n",
       "      <td>Esterni</td>\n",
       "      <td>CARCINOMA INVASIVO DELLA MAMMELLASottotipo: DU...</td>\n",
       "      <td>11- I- 19036 ; mammella sx</td>\n",
       "      <td>T-1749</td>\n",
       "      <td>carcinoma duttale infiltrante</td>\n",
       "      <td>N del caso:  11 -I -19036 ( 1,2,3,4,5 )Ospedal...</td>\n",
       "      <td>[66,100]</td>\n",
       "      <td>[10,33)</td>\n",
       "      <td>1+</td>\n",
       "      <td>15</td>\n",
       "      <td>nan</td>\n",
       "      <td>NaN</td>\n",
       "      <td>CARCINOMA INVASIVO DELLA MAMMELLASottotipo: DU...</td>\n",
       "      <td>carcinoma invasivo mammellasottotipo duttale n...</td>\n",
       "      <td>[carcinoma, invasivo, mammellasottotipo, dutta...</td>\n",
       "    </tr>\n",
       "    <tr>\n",
       "      <th>28</th>\n",
       "      <td>299</td>\n",
       "      <td>2012013996</td>\n",
       "      <td>C2012-000276</td>\n",
       "      <td>14-11-2011</td>\n",
       "      <td>Esterni</td>\n",
       "      <td>CARCINOMA INVASIVO DELLA MAMMELLASottotipo: DU...</td>\n",
       "      <td>11- I- 19036 ; mammella sx</td>\n",
       "      <td>T-1749</td>\n",
       "      <td>carcinoma duttale infiltrante</td>\n",
       "      <td>N del caso:  11 -I -19036 ( 1,2,3,4,5 )Ospedal...</td>\n",
       "      <td>[66,100]</td>\n",
       "      <td>[10,33)</td>\n",
       "      <td>1+</td>\n",
       "      <td>15</td>\n",
       "      <td>nan</td>\n",
       "      <td>NaN</td>\n",
       "      <td>CARCINOMA INVASIVO DELLA MAMMELLASottotipo: DU...</td>\n",
       "      <td>carcinoma invasivo mammellasottotipo duttale n...</td>\n",
       "      <td>[carcinoma, invasivo, mammellasottotipo, dutta...</td>\n",
       "    </tr>\n",
       "    <tr>\n",
       "      <th>39</th>\n",
       "      <td>102</td>\n",
       "      <td>2011008477</td>\n",
       "      <td>B2011-005462</td>\n",
       "      <td>31-08-2011</td>\n",
       "      <td>AMB RDC Radiologia C RADIOLOGIA SENOLOGICA</td>\n",
       "      <td>Risultato degli esami immunoistochimici effett...</td>\n",
       "      <td>nan</td>\n",
       "      <td>NaN</td>\n",
       "      <td>nan</td>\n",
       "      <td>NaN</td>\n",
       "      <td>[0,1)</td>\n",
       "      <td>[1,10)</td>\n",
       "      <td>0</td>\n",
       "      <td>(30,100]</td>\n",
       "      <td>nan</td>\n",
       "      <td>NaN</td>\n",
       "      <td>Risultato degli esami immunoistochimici effett...</td>\n",
       "      <td>risultato esami immunoistochimici effettuatier...</td>\n",
       "      <td>[risultato, esami, immunoistochimici, effettua...</td>\n",
       "    </tr>\n",
       "  </tbody>\n",
       "</table>\n",
       "</div>"
      ],
      "text/plain": [
       "    cod paz          id   numero caso data referto  \\\n",
       "1        74  2011055891  S2011-006911   12-09-2011   \n",
       "11       74  2011055891  S2011-006911   12-09-2011   \n",
       "20      299  2012013996  C2012-000276   14-11-2011   \n",
       "28      299  2012013996  C2012-000276   14-11-2011   \n",
       "39      102  2011008477  B2011-005462   31-08-2011   \n",
       "\n",
       "                                       reparto  \\\n",
       "1                        Degenze OCB Senologia   \n",
       "11                       Degenze OCB Senologia   \n",
       "20                                     Esterni   \n",
       "28                                     Esterni   \n",
       "39  AMB RDC Radiologia C RADIOLOGIA SENOLOGICA   \n",
       "\n",
       "                                             diagnosi  \\\n",
       "1   CARCINOMA DELLA MAMMELLA DUTTALE IN SITU con a...   \n",
       "11  CARCINOMA DELLA MAMMELLA DUTTALE IN SITU con a...   \n",
       "20  CARCINOMA INVASIVO DELLA MAMMELLASottotipo: DU...   \n",
       "28  CARCINOMA INVASIVO DELLA MAMMELLASottotipo: DU...   \n",
       "39  Risultato degli esami immunoistochimici effett...   \n",
       "\n",
       "              pezzo operatorio topografia                        summary  \\\n",
       "1      quadr. sup. mammella dx     T-1749               npl. mammella dx   \n",
       "11     quadr. sup. mammella dx     T-1749               npl. mammella dx   \n",
       "20  11- I- 19036 ; mammella sx     T-1749  carcinoma duttale infiltrante   \n",
       "28  11- I- 19036 ; mammella sx     T-1749  carcinoma duttale infiltrante   \n",
       "39                         nan        NaN                            nan   \n",
       "\n",
       "                                                gross        er      pgr her2  \\\n",
       "1   Parenchima mammario di cm 5 x 4 x 4 con al tag...  [66,100]  [33,66)   3+   \n",
       "11  Parenchima mammario di cm 5 x 4 x 4 con al tag...  [66,100]  [33,66)   3+   \n",
       "20  N del caso:  11 -I -19036 ( 1,2,3,4,5 )Ospedal...  [66,100]  [10,33)   1+   \n",
       "28  N del caso:  11 -I -19036 ( 1,2,3,4,5 )Ospedal...  [66,100]  [10,33)   1+   \n",
       "39                                                NaN     [0,1)   [1,10)    0   \n",
       "\n",
       "        ki67 fish  modificato  \\\n",
       "1        nan  nan         NaN   \n",
       "11       nan  nan         NaN   \n",
       "20        15  nan         NaN   \n",
       "28        15  nan         NaN   \n",
       "39  (30,100]  nan         NaN   \n",
       "\n",
       "                                                 text  \\\n",
       "1   CARCINOMA DELLA MAMMELLA DUTTALE IN SITU con a...   \n",
       "11  CARCINOMA DELLA MAMMELLA DUTTALE IN SITU con a...   \n",
       "20  CARCINOMA INVASIVO DELLA MAMMELLASottotipo: DU...   \n",
       "28  CARCINOMA INVASIVO DELLA MAMMELLASottotipo: DU...   \n",
       "39  Risultato degli esami immunoistochimici effett...   \n",
       "\n",
       "                                         text_cleaned  \\\n",
       "1   carcinoma mammella duttale situ aspetti tipo a...   \n",
       "11  carcinoma mammella duttale situ aspetti tipo a...   \n",
       "20  carcinoma invasivo mammellasottotipo duttale n...   \n",
       "28  carcinoma invasivo mammellasottotipo duttale n...   \n",
       "39  risultato esami immunoistochimici effettuatier...   \n",
       "\n",
       "                                        text_tokenize  \n",
       "1   [carcinoma, mammella, duttale, situ, aspetti, ...  \n",
       "11  [carcinoma, mammella, duttale, situ, aspetti, ...  \n",
       "20  [carcinoma, invasivo, mammellasottotipo, dutta...  \n",
       "28  [carcinoma, invasivo, mammellasottotipo, dutta...  \n",
       "39  [risultato, esami, immunoistochimici, effettua...  "
      ]
     },
     "execution_count": 277,
     "metadata": {},
     "output_type": "execute_result"
    }
   ],
   "source": [
    "data.head()"
   ]
  },
  {
   "cell_type": "code",
   "execution_count": 278,
   "id": "ca1c2864",
   "metadata": {},
   "outputs": [
    {
     "data": {
      "text/plain": [
       "'carcinoma mammella duttale situ aspetti tipo apocrinogrado nucleare iiigrado istologico epwgiii cancerizzazione lobularenecrosi tumoralepresentecalcificazionipresentidistribuzione carcinoma situmultifocaledimensioni neoplasia situ foci multifocali maggiore cm focale immagine permeazione neoplastica vascolare attribuibile trasporto manovre biopticheassetto recettoriale immunoreattivita membrana herneu frazione proliferanteer proporzione cellule positive sezione esaminata pgr proporzione cellule positive sezione esaminata immunoreattivit membrana herneu anticorpo policlonale dako fortemente positivoquadr sup mammella dxnpl mammella dx'"
      ]
     },
     "execution_count": 278,
     "metadata": {},
     "output_type": "execute_result"
    }
   ],
   "source": [
    "data.text_cleaned.values[0]"
   ]
  },
  {
   "cell_type": "code",
   "execution_count": 279,
   "id": "c5cc6c61",
   "metadata": {},
   "outputs": [
    {
     "data": {
      "text/plain": [
       "['carcinoma',\n",
       " 'mammella',\n",
       " 'duttale',\n",
       " 'situ',\n",
       " 'aspetti',\n",
       " 'tipo',\n",
       " 'apocrinogrado',\n",
       " 'nucleare',\n",
       " 'iiigrado',\n",
       " 'istologico',\n",
       " 'epwgiii',\n",
       " 'cancerizzazione',\n",
       " 'lobularenecrosi',\n",
       " 'tumoralepresentecalcificazionipresentidistribuzione',\n",
       " 'carcinoma',\n",
       " 'situmultifocaledimensioni',\n",
       " 'neoplasia',\n",
       " 'situ',\n",
       " 'foci',\n",
       " 'multifocali',\n",
       " 'maggiore',\n",
       " 'cm',\n",
       " 'focale',\n",
       " 'immagine',\n",
       " 'permeazione',\n",
       " 'neoplastica',\n",
       " 'vascolare',\n",
       " 'attribuibile',\n",
       " 'trasporto',\n",
       " 'manovre',\n",
       " 'biopticheassetto',\n",
       " 'recettoriale',\n",
       " 'immunoreattivita',\n",
       " 'membrana',\n",
       " 'herneu',\n",
       " 'frazione',\n",
       " 'proliferanteer',\n",
       " 'proporzione',\n",
       " 'cellule',\n",
       " 'positive',\n",
       " 'sezione',\n",
       " 'esaminata',\n",
       " 'pgr',\n",
       " 'proporzione',\n",
       " 'cellule',\n",
       " 'positive',\n",
       " 'sezione',\n",
       " 'esaminata',\n",
       " 'immunoreattivit',\n",
       " 'membrana',\n",
       " 'herneu',\n",
       " 'anticorpo',\n",
       " 'policlonale',\n",
       " 'dako',\n",
       " 'fortemente',\n",
       " 'positivoquadr',\n",
       " 'sup',\n",
       " 'mammella',\n",
       " 'dxnpl',\n",
       " 'mammella',\n",
       " 'dx']"
      ]
     },
     "execution_count": 279,
     "metadata": {},
     "output_type": "execute_result"
    }
   ],
   "source": [
    "data.text_tokenize.values[0]"
   ]
  },
  {
   "cell_type": "code",
   "execution_count": 280,
   "id": "ff6cd581",
   "metadata": {},
   "outputs": [],
   "source": [
    "def stemming(text):\n",
    "  stemming = SnowballStemmer(language='italian')\n",
    "  return[stemming.stem(word) for word in text]"
   ]
  },
  {
   "cell_type": "code",
   "execution_count": 281,
   "id": "2251508e",
   "metadata": {},
   "outputs": [],
   "source": [
    "data[\"text_stemming\"] = data[\"text_tokenize\"].apply(stemming)"
   ]
  },
  {
   "cell_type": "code",
   "execution_count": 282,
   "id": "9898fe74",
   "metadata": {},
   "outputs": [
    {
     "data": {
      "text/html": [
       "<div>\n",
       "<style scoped>\n",
       "    .dataframe tbody tr th:only-of-type {\n",
       "        vertical-align: middle;\n",
       "    }\n",
       "\n",
       "    .dataframe tbody tr th {\n",
       "        vertical-align: top;\n",
       "    }\n",
       "\n",
       "    .dataframe thead th {\n",
       "        text-align: right;\n",
       "    }\n",
       "</style>\n",
       "<table border=\"1\" class=\"dataframe\">\n",
       "  <thead>\n",
       "    <tr style=\"text-align: right;\">\n",
       "      <th></th>\n",
       "      <th>cod paz</th>\n",
       "      <th>id</th>\n",
       "      <th>numero caso</th>\n",
       "      <th>data referto</th>\n",
       "      <th>reparto</th>\n",
       "      <th>diagnosi</th>\n",
       "      <th>pezzo operatorio</th>\n",
       "      <th>topografia</th>\n",
       "      <th>summary</th>\n",
       "      <th>gross</th>\n",
       "      <th>er</th>\n",
       "      <th>pgr</th>\n",
       "      <th>her2</th>\n",
       "      <th>ki67</th>\n",
       "      <th>fish</th>\n",
       "      <th>modificato</th>\n",
       "      <th>text</th>\n",
       "      <th>text_cleaned</th>\n",
       "      <th>text_tokenize</th>\n",
       "      <th>text_stemming</th>\n",
       "    </tr>\n",
       "  </thead>\n",
       "  <tbody>\n",
       "    <tr>\n",
       "      <th>74859</th>\n",
       "      <td>8682</td>\n",
       "      <td>2018110062</td>\n",
       "      <td>S2018-007188</td>\n",
       "      <td>03-10-2018</td>\n",
       "      <td>Degenze OCB Senologia</td>\n",
       "      <td>Assetto recettoriale, immunoreattivita' di mem...</td>\n",
       "      <td>nan</td>\n",
       "      <td>NaN</td>\n",
       "      <td>nan</td>\n",
       "      <td>NaN</td>\n",
       "      <td>90</td>\n",
       "      <td>0</td>\n",
       "      <td>1+</td>\n",
       "      <td>3</td>\n",
       "      <td>nan</td>\n",
       "      <td>NaN</td>\n",
       "      <td>Assetto recettoriale, immunoreattivita' di mem...</td>\n",
       "      <td>assetto recettoriale immunoreattivita membrana...</td>\n",
       "      <td>[assetto, recettoriale, immunoreattivita, memb...</td>\n",
       "      <td>[assett, recettorial, immunoreattiv, membran, ...</td>\n",
       "    </tr>\n",
       "    <tr>\n",
       "      <th>74861</th>\n",
       "      <td>8682</td>\n",
       "      <td>2018010721</td>\n",
       "      <td>B2018-000077</td>\n",
       "      <td>04-01-2018</td>\n",
       "      <td>AMB RDC Radiologia C RADIOLOGIA SENOLOGICA</td>\n",
       "      <td>Assetto recettoriale, immunoreattivita' di mem...</td>\n",
       "      <td>frammenti da nodulo sospetto diametro 17 mm a ...</td>\n",
       "      <td>T-1749</td>\n",
       "      <td>nodulo solido sospetto</td>\n",
       "      <td>In formalina:  numero 6 frammenti  di dimensio...</td>\n",
       "      <td>[95,100]</td>\n",
       "      <td>[95,100]</td>\n",
       "      <td>1+</td>\n",
       "      <td>8</td>\n",
       "      <td>nan</td>\n",
       "      <td>NaN</td>\n",
       "      <td>Assetto recettoriale, immunoreattivita' di mem...</td>\n",
       "      <td>assetto recettoriale immunoreattivita membrana...</td>\n",
       "      <td>[assetto, recettoriale, immunoreattivita, memb...</td>\n",
       "      <td>[assett, recettorial, immunoreattiv, membran, ...</td>\n",
       "    </tr>\n",
       "    <tr>\n",
       "      <th>74865</th>\n",
       "      <td>8682</td>\n",
       "      <td>2018005513</td>\n",
       "      <td>B2018-000081</td>\n",
       "      <td>04-01-2018</td>\n",
       "      <td>AMB RDC Radiologia C RADIOLOGIA SENOLOGICA</td>\n",
       "      <td>Assetto recettoriale, immunoreattivita' di mem...</td>\n",
       "      <td>frammenti da adenopatia ascellare dx diametro ...</td>\n",
       "      <td>T-1749</td>\n",
       "      <td>adenopatia ascellare a dx</td>\n",
       "      <td>In formalina:  numero 3 frammenti  di dimensio...</td>\n",
       "      <td>[95,100]</td>\n",
       "      <td>15</td>\n",
       "      <td>2+</td>\n",
       "      <td>35</td>\n",
       "      <td>nan</td>\n",
       "      <td>NaN</td>\n",
       "      <td>Assetto recettoriale, immunoreattivita' di mem...</td>\n",
       "      <td>assetto recettoriale immunoreattivita membrana...</td>\n",
       "      <td>[assetto, recettoriale, immunoreattivita, memb...</td>\n",
       "      <td>[assett, recettorial, immunoreattiv, membran, ...</td>\n",
       "    </tr>\n",
       "    <tr>\n",
       "      <th>74866</th>\n",
       "      <td>8682</td>\n",
       "      <td>2018010720</td>\n",
       "      <td>B2018-000072</td>\n",
       "      <td>04-01-2018</td>\n",
       "      <td>AMB RDC Radiologia C RADIOLOGIA SENOLOGICA</td>\n",
       "      <td>Assetto recettoriale, immunoreattivita' di mem...</td>\n",
       "      <td>frammenti da nodulo sospetto diametro 15 mm QI...</td>\n",
       "      <td>T-1749</td>\n",
       "      <td>nodulo solido sospetto</td>\n",
       "      <td>In formalina:  numero 2 frammenti  di dimensio...</td>\n",
       "      <td>[95,100]</td>\n",
       "      <td>20</td>\n",
       "      <td>3+</td>\n",
       "      <td>20</td>\n",
       "      <td>nan</td>\n",
       "      <td>NaN</td>\n",
       "      <td>Assetto recettoriale, immunoreattivita' di mem...</td>\n",
       "      <td>assetto recettoriale immunoreattivita membrana...</td>\n",
       "      <td>[assetto, recettoriale, immunoreattivita, memb...</td>\n",
       "      <td>[assett, recettorial, immunoreattiv, membran, ...</td>\n",
       "    </tr>\n",
       "    <tr>\n",
       "      <th>74869</th>\n",
       "      <td>8682</td>\n",
       "      <td>2018110062</td>\n",
       "      <td>S2018-007188</td>\n",
       "      <td>03-10-2018</td>\n",
       "      <td>Degenze OCB Senologia</td>\n",
       "      <td>Assetto recettoriale, immunoreattivita' di mem...</td>\n",
       "      <td>nan</td>\n",
       "      <td>NaN</td>\n",
       "      <td>nan</td>\n",
       "      <td>NaN</td>\n",
       "      <td>90</td>\n",
       "      <td>0</td>\n",
       "      <td>1+</td>\n",
       "      <td>3</td>\n",
       "      <td>nan</td>\n",
       "      <td>NaN</td>\n",
       "      <td>Assetto recettoriale, immunoreattivita' di mem...</td>\n",
       "      <td>assetto recettoriale immunoreattivita membrana...</td>\n",
       "      <td>[assetto, recettoriale, immunoreattivita, memb...</td>\n",
       "      <td>[assett, recettorial, immunoreattiv, membran, ...</td>\n",
       "    </tr>\n",
       "  </tbody>\n",
       "</table>\n",
       "</div>"
      ],
      "text/plain": [
       "       cod paz          id   numero caso data referto  \\\n",
       "74859     8682  2018110062  S2018-007188   03-10-2018   \n",
       "74861     8682  2018010721  B2018-000077   04-01-2018   \n",
       "74865     8682  2018005513  B2018-000081   04-01-2018   \n",
       "74866     8682  2018010720  B2018-000072   04-01-2018   \n",
       "74869     8682  2018110062  S2018-007188   03-10-2018   \n",
       "\n",
       "                                          reparto  \\\n",
       "74859                       Degenze OCB Senologia   \n",
       "74861  AMB RDC Radiologia C RADIOLOGIA SENOLOGICA   \n",
       "74865  AMB RDC Radiologia C RADIOLOGIA SENOLOGICA   \n",
       "74866  AMB RDC Radiologia C RADIOLOGIA SENOLOGICA   \n",
       "74869                       Degenze OCB Senologia   \n",
       "\n",
       "                                                diagnosi  \\\n",
       "74859  Assetto recettoriale, immunoreattivita' di mem...   \n",
       "74861  Assetto recettoriale, immunoreattivita' di mem...   \n",
       "74865  Assetto recettoriale, immunoreattivita' di mem...   \n",
       "74866  Assetto recettoriale, immunoreattivita' di mem...   \n",
       "74869  Assetto recettoriale, immunoreattivita' di mem...   \n",
       "\n",
       "                                        pezzo operatorio topografia  \\\n",
       "74859                                                nan        NaN   \n",
       "74861  frammenti da nodulo sospetto diametro 17 mm a ...     T-1749   \n",
       "74865  frammenti da adenopatia ascellare dx diametro ...     T-1749   \n",
       "74866  frammenti da nodulo sospetto diametro 15 mm QI...     T-1749   \n",
       "74869                                                nan        NaN   \n",
       "\n",
       "                         summary  \\\n",
       "74859                        nan   \n",
       "74861     nodulo solido sospetto   \n",
       "74865  adenopatia ascellare a dx   \n",
       "74866     nodulo solido sospetto   \n",
       "74869                        nan   \n",
       "\n",
       "                                                   gross        er       pgr  \\\n",
       "74859                                                NaN        90         0   \n",
       "74861  In formalina:  numero 6 frammenti  di dimensio...  [95,100]  [95,100]   \n",
       "74865  In formalina:  numero 3 frammenti  di dimensio...  [95,100]        15   \n",
       "74866  In formalina:  numero 2 frammenti  di dimensio...  [95,100]        20   \n",
       "74869                                                NaN        90         0   \n",
       "\n",
       "      her2 ki67 fish  modificato  \\\n",
       "74859   1+    3  nan         NaN   \n",
       "74861   1+    8  nan         NaN   \n",
       "74865   2+   35  nan         NaN   \n",
       "74866   3+   20  nan         NaN   \n",
       "74869   1+    3  nan         NaN   \n",
       "\n",
       "                                                    text  \\\n",
       "74859  Assetto recettoriale, immunoreattivita' di mem...   \n",
       "74861  Assetto recettoriale, immunoreattivita' di mem...   \n",
       "74865  Assetto recettoriale, immunoreattivita' di mem...   \n",
       "74866  Assetto recettoriale, immunoreattivita' di mem...   \n",
       "74869  Assetto recettoriale, immunoreattivita' di mem...   \n",
       "\n",
       "                                            text_cleaned  \\\n",
       "74859  assetto recettoriale immunoreattivita membrana...   \n",
       "74861  assetto recettoriale immunoreattivita membrana...   \n",
       "74865  assetto recettoriale immunoreattivita membrana...   \n",
       "74866  assetto recettoriale immunoreattivita membrana...   \n",
       "74869  assetto recettoriale immunoreattivita membrana...   \n",
       "\n",
       "                                           text_tokenize  \\\n",
       "74859  [assetto, recettoriale, immunoreattivita, memb...   \n",
       "74861  [assetto, recettoriale, immunoreattivita, memb...   \n",
       "74865  [assetto, recettoriale, immunoreattivita, memb...   \n",
       "74866  [assetto, recettoriale, immunoreattivita, memb...   \n",
       "74869  [assetto, recettoriale, immunoreattivita, memb...   \n",
       "\n",
       "                                           text_stemming  \n",
       "74859  [assett, recettorial, immunoreattiv, membran, ...  \n",
       "74861  [assett, recettorial, immunoreattiv, membran, ...  \n",
       "74865  [assett, recettorial, immunoreattiv, membran, ...  \n",
       "74866  [assett, recettorial, immunoreattiv, membran, ...  \n",
       "74869  [assett, recettorial, immunoreattiv, membran, ...  "
      ]
     },
     "execution_count": 282,
     "metadata": {},
     "output_type": "execute_result"
    }
   ],
   "source": [
    "data.tail()"
   ]
  },
  {
   "cell_type": "code",
   "execution_count": 283,
   "id": "42efa851",
   "metadata": {},
   "outputs": [
    {
     "data": {
      "text/plain": [
       "(14828, 20)"
      ]
     },
     "execution_count": 283,
     "metadata": {},
     "output_type": "execute_result"
    }
   ],
   "source": [
    "data.shape"
   ]
  },
  {
   "cell_type": "code",
   "execution_count": 284,
   "id": "77b167cf",
   "metadata": {},
   "outputs": [
    {
     "data": {
      "text/plain": [
       "['carcinom',\n",
       " 'mammell',\n",
       " 'duttal',\n",
       " 'situ',\n",
       " 'aspett',\n",
       " 'tip',\n",
       " 'apocrinograd',\n",
       " 'nucl',\n",
       " 'iiigrad',\n",
       " 'istolog',\n",
       " 'epwgii',\n",
       " 'cancerizz',\n",
       " 'lobularenecr',\n",
       " 'tumoralepresentecalcificazionipresentidistribu',\n",
       " 'carcinom',\n",
       " 'situmultifocaledimension',\n",
       " 'neoplas',\n",
       " 'situ',\n",
       " 'foc',\n",
       " 'multifocal',\n",
       " 'maggior',\n",
       " 'cm',\n",
       " 'focal',\n",
       " 'immagin',\n",
       " 'permeazion',\n",
       " 'neoplast',\n",
       " 'vascol',\n",
       " 'attribu',\n",
       " 'trasport',\n",
       " 'manovr',\n",
       " 'biopticheassett',\n",
       " 'recettorial',\n",
       " 'immunoreattiv',\n",
       " 'membran',\n",
       " 'herneu',\n",
       " 'frazion',\n",
       " 'proliferanteer',\n",
       " 'proporzion',\n",
       " 'cellul',\n",
       " 'posit',\n",
       " 'sezion',\n",
       " 'esamin',\n",
       " 'pgr',\n",
       " 'proporzion',\n",
       " 'cellul',\n",
       " 'posit',\n",
       " 'sezion',\n",
       " 'esamin',\n",
       " 'immunoreattivit',\n",
       " 'membran',\n",
       " 'herneu',\n",
       " 'anticorp',\n",
       " 'policlonal',\n",
       " 'dak',\n",
       " 'fortement',\n",
       " 'positivoquadr',\n",
       " 'sup',\n",
       " 'mammell',\n",
       " 'dxnpl',\n",
       " 'mammell',\n",
       " 'dx']"
      ]
     },
     "execution_count": 284,
     "metadata": {},
     "output_type": "execute_result"
    }
   ],
   "source": [
    "data.text_stemming.values[0]"
   ]
  },
  {
   "cell_type": "code",
   "execution_count": 285,
   "id": "a0015ea8",
   "metadata": {},
   "outputs": [
    {
     "data": {
      "text/html": [
       "<div>\n",
       "<style scoped>\n",
       "    .dataframe tbody tr th:only-of-type {\n",
       "        vertical-align: middle;\n",
       "    }\n",
       "\n",
       "    .dataframe tbody tr th {\n",
       "        vertical-align: top;\n",
       "    }\n",
       "\n",
       "    .dataframe thead th {\n",
       "        text-align: right;\n",
       "    }\n",
       "</style>\n",
       "<table border=\"1\" class=\"dataframe\">\n",
       "  <thead>\n",
       "    <tr style=\"text-align: right;\">\n",
       "      <th></th>\n",
       "      <th>cod paz</th>\n",
       "      <th>id</th>\n",
       "      <th>numero caso</th>\n",
       "      <th>data referto</th>\n",
       "      <th>reparto</th>\n",
       "      <th>diagnosi</th>\n",
       "      <th>pezzo operatorio</th>\n",
       "      <th>topografia</th>\n",
       "      <th>summary</th>\n",
       "      <th>gross</th>\n",
       "      <th>...</th>\n",
       "      <th>pgr</th>\n",
       "      <th>her2</th>\n",
       "      <th>ki67</th>\n",
       "      <th>fish</th>\n",
       "      <th>modificato</th>\n",
       "      <th>text</th>\n",
       "      <th>text_cleaned</th>\n",
       "      <th>text_tokenize</th>\n",
       "      <th>text_stemming</th>\n",
       "      <th>text_final</th>\n",
       "    </tr>\n",
       "  </thead>\n",
       "  <tbody>\n",
       "    <tr>\n",
       "      <th>1</th>\n",
       "      <td>74</td>\n",
       "      <td>2011055891</td>\n",
       "      <td>S2011-006911</td>\n",
       "      <td>12-09-2011</td>\n",
       "      <td>Degenze OCB Senologia</td>\n",
       "      <td>CARCINOMA DELLA MAMMELLA DUTTALE IN SITU con a...</td>\n",
       "      <td>quadr. sup. mammella dx</td>\n",
       "      <td>T-1749</td>\n",
       "      <td>npl. mammella dx</td>\n",
       "      <td>Parenchima mammario di cm 5 x 4 x 4 con al tag...</td>\n",
       "      <td>...</td>\n",
       "      <td>[33,66)</td>\n",
       "      <td>3+</td>\n",
       "      <td>nan</td>\n",
       "      <td>nan</td>\n",
       "      <td>NaN</td>\n",
       "      <td>CARCINOMA DELLA MAMMELLA DUTTALE IN SITU con a...</td>\n",
       "      <td>carcinoma mammella duttale situ aspetti tipo a...</td>\n",
       "      <td>[carcinoma, mammella, duttale, situ, aspetti, ...</td>\n",
       "      <td>[carcinom, mammell, duttal, situ, aspett, tip,...</td>\n",
       "      <td>carcinom mammell duttal situ aspett tip apocri...</td>\n",
       "    </tr>\n",
       "    <tr>\n",
       "      <th>11</th>\n",
       "      <td>74</td>\n",
       "      <td>2011055891</td>\n",
       "      <td>S2011-006911</td>\n",
       "      <td>12-09-2011</td>\n",
       "      <td>Degenze OCB Senologia</td>\n",
       "      <td>CARCINOMA DELLA MAMMELLA DUTTALE IN SITU con a...</td>\n",
       "      <td>quadr. sup. mammella dx</td>\n",
       "      <td>T-1749</td>\n",
       "      <td>npl. mammella dx</td>\n",
       "      <td>Parenchima mammario di cm 5 x 4 x 4 con al tag...</td>\n",
       "      <td>...</td>\n",
       "      <td>[33,66)</td>\n",
       "      <td>3+</td>\n",
       "      <td>nan</td>\n",
       "      <td>nan</td>\n",
       "      <td>NaN</td>\n",
       "      <td>CARCINOMA DELLA MAMMELLA DUTTALE IN SITU con a...</td>\n",
       "      <td>carcinoma mammella duttale situ aspetti tipo a...</td>\n",
       "      <td>[carcinoma, mammella, duttale, situ, aspetti, ...</td>\n",
       "      <td>[carcinom, mammell, duttal, situ, aspett, tip,...</td>\n",
       "      <td>carcinom mammell duttal situ aspett tip apocri...</td>\n",
       "    </tr>\n",
       "    <tr>\n",
       "      <th>20</th>\n",
       "      <td>299</td>\n",
       "      <td>2012013996</td>\n",
       "      <td>C2012-000276</td>\n",
       "      <td>14-11-2011</td>\n",
       "      <td>Esterni</td>\n",
       "      <td>CARCINOMA INVASIVO DELLA MAMMELLASottotipo: DU...</td>\n",
       "      <td>11- I- 19036 ; mammella sx</td>\n",
       "      <td>T-1749</td>\n",
       "      <td>carcinoma duttale infiltrante</td>\n",
       "      <td>N del caso:  11 -I -19036 ( 1,2,3,4,5 )Ospedal...</td>\n",
       "      <td>...</td>\n",
       "      <td>[10,33)</td>\n",
       "      <td>1+</td>\n",
       "      <td>15</td>\n",
       "      <td>nan</td>\n",
       "      <td>NaN</td>\n",
       "      <td>CARCINOMA INVASIVO DELLA MAMMELLASottotipo: DU...</td>\n",
       "      <td>carcinoma invasivo mammellasottotipo duttale n...</td>\n",
       "      <td>[carcinoma, invasivo, mammellasottotipo, dutta...</td>\n",
       "      <td>[carcinom, invas, mammellasottotip, duttal, na...</td>\n",
       "      <td>carcinom invas mammellasottotip duttal nasgrad...</td>\n",
       "    </tr>\n",
       "    <tr>\n",
       "      <th>28</th>\n",
       "      <td>299</td>\n",
       "      <td>2012013996</td>\n",
       "      <td>C2012-000276</td>\n",
       "      <td>14-11-2011</td>\n",
       "      <td>Esterni</td>\n",
       "      <td>CARCINOMA INVASIVO DELLA MAMMELLASottotipo: DU...</td>\n",
       "      <td>11- I- 19036 ; mammella sx</td>\n",
       "      <td>T-1749</td>\n",
       "      <td>carcinoma duttale infiltrante</td>\n",
       "      <td>N del caso:  11 -I -19036 ( 1,2,3,4,5 )Ospedal...</td>\n",
       "      <td>...</td>\n",
       "      <td>[10,33)</td>\n",
       "      <td>1+</td>\n",
       "      <td>15</td>\n",
       "      <td>nan</td>\n",
       "      <td>NaN</td>\n",
       "      <td>CARCINOMA INVASIVO DELLA MAMMELLASottotipo: DU...</td>\n",
       "      <td>carcinoma invasivo mammellasottotipo duttale n...</td>\n",
       "      <td>[carcinoma, invasivo, mammellasottotipo, dutta...</td>\n",
       "      <td>[carcinom, invas, mammellasottotip, duttal, na...</td>\n",
       "      <td>carcinom invas mammellasottotip duttal nasgrad...</td>\n",
       "    </tr>\n",
       "    <tr>\n",
       "      <th>39</th>\n",
       "      <td>102</td>\n",
       "      <td>2011008477</td>\n",
       "      <td>B2011-005462</td>\n",
       "      <td>31-08-2011</td>\n",
       "      <td>AMB RDC Radiologia C RADIOLOGIA SENOLOGICA</td>\n",
       "      <td>Risultato degli esami immunoistochimici effett...</td>\n",
       "      <td>nan</td>\n",
       "      <td>NaN</td>\n",
       "      <td>nan</td>\n",
       "      <td>NaN</td>\n",
       "      <td>...</td>\n",
       "      <td>[1,10)</td>\n",
       "      <td>0</td>\n",
       "      <td>(30,100]</td>\n",
       "      <td>nan</td>\n",
       "      <td>NaN</td>\n",
       "      <td>Risultato degli esami immunoistochimici effett...</td>\n",
       "      <td>risultato esami immunoistochimici effettuatier...</td>\n",
       "      <td>[risultato, esami, immunoistochimici, effettua...</td>\n",
       "      <td>[risult, esam, immunoistochim, effettuatier, p...</td>\n",
       "      <td>risult esam immunoistochim effettuatier propor...</td>\n",
       "    </tr>\n",
       "  </tbody>\n",
       "</table>\n",
       "<p>5 rows × 21 columns</p>\n",
       "</div>"
      ],
      "text/plain": [
       "    cod paz          id   numero caso data referto  \\\n",
       "1        74  2011055891  S2011-006911   12-09-2011   \n",
       "11       74  2011055891  S2011-006911   12-09-2011   \n",
       "20      299  2012013996  C2012-000276   14-11-2011   \n",
       "28      299  2012013996  C2012-000276   14-11-2011   \n",
       "39      102  2011008477  B2011-005462   31-08-2011   \n",
       "\n",
       "                                       reparto  \\\n",
       "1                        Degenze OCB Senologia   \n",
       "11                       Degenze OCB Senologia   \n",
       "20                                     Esterni   \n",
       "28                                     Esterni   \n",
       "39  AMB RDC Radiologia C RADIOLOGIA SENOLOGICA   \n",
       "\n",
       "                                             diagnosi  \\\n",
       "1   CARCINOMA DELLA MAMMELLA DUTTALE IN SITU con a...   \n",
       "11  CARCINOMA DELLA MAMMELLA DUTTALE IN SITU con a...   \n",
       "20  CARCINOMA INVASIVO DELLA MAMMELLASottotipo: DU...   \n",
       "28  CARCINOMA INVASIVO DELLA MAMMELLASottotipo: DU...   \n",
       "39  Risultato degli esami immunoistochimici effett...   \n",
       "\n",
       "              pezzo operatorio topografia                        summary  \\\n",
       "1      quadr. sup. mammella dx     T-1749               npl. mammella dx   \n",
       "11     quadr. sup. mammella dx     T-1749               npl. mammella dx   \n",
       "20  11- I- 19036 ; mammella sx     T-1749  carcinoma duttale infiltrante   \n",
       "28  11- I- 19036 ; mammella sx     T-1749  carcinoma duttale infiltrante   \n",
       "39                         nan        NaN                            nan   \n",
       "\n",
       "                                                gross  ...      pgr her2  \\\n",
       "1   Parenchima mammario di cm 5 x 4 x 4 con al tag...  ...  [33,66)   3+   \n",
       "11  Parenchima mammario di cm 5 x 4 x 4 con al tag...  ...  [33,66)   3+   \n",
       "20  N del caso:  11 -I -19036 ( 1,2,3,4,5 )Ospedal...  ...  [10,33)   1+   \n",
       "28  N del caso:  11 -I -19036 ( 1,2,3,4,5 )Ospedal...  ...  [10,33)   1+   \n",
       "39                                                NaN  ...   [1,10)    0   \n",
       "\n",
       "        ki67 fish modificato  \\\n",
       "1        nan  nan        NaN   \n",
       "11       nan  nan        NaN   \n",
       "20        15  nan        NaN   \n",
       "28        15  nan        NaN   \n",
       "39  (30,100]  nan        NaN   \n",
       "\n",
       "                                                 text  \\\n",
       "1   CARCINOMA DELLA MAMMELLA DUTTALE IN SITU con a...   \n",
       "11  CARCINOMA DELLA MAMMELLA DUTTALE IN SITU con a...   \n",
       "20  CARCINOMA INVASIVO DELLA MAMMELLASottotipo: DU...   \n",
       "28  CARCINOMA INVASIVO DELLA MAMMELLASottotipo: DU...   \n",
       "39  Risultato degli esami immunoistochimici effett...   \n",
       "\n",
       "                                         text_cleaned  \\\n",
       "1   carcinoma mammella duttale situ aspetti tipo a...   \n",
       "11  carcinoma mammella duttale situ aspetti tipo a...   \n",
       "20  carcinoma invasivo mammellasottotipo duttale n...   \n",
       "28  carcinoma invasivo mammellasottotipo duttale n...   \n",
       "39  risultato esami immunoistochimici effettuatier...   \n",
       "\n",
       "                                        text_tokenize  \\\n",
       "1   [carcinoma, mammella, duttale, situ, aspetti, ...   \n",
       "11  [carcinoma, mammella, duttale, situ, aspetti, ...   \n",
       "20  [carcinoma, invasivo, mammellasottotipo, dutta...   \n",
       "28  [carcinoma, invasivo, mammellasottotipo, dutta...   \n",
       "39  [risultato, esami, immunoistochimici, effettua...   \n",
       "\n",
       "                                        text_stemming  \\\n",
       "1   [carcinom, mammell, duttal, situ, aspett, tip,...   \n",
       "11  [carcinom, mammell, duttal, situ, aspett, tip,...   \n",
       "20  [carcinom, invas, mammellasottotip, duttal, na...   \n",
       "28  [carcinom, invas, mammellasottotip, duttal, na...   \n",
       "39  [risult, esam, immunoistochim, effettuatier, p...   \n",
       "\n",
       "                                           text_final  \n",
       "1   carcinom mammell duttal situ aspett tip apocri...  \n",
       "11  carcinom mammell duttal situ aspett tip apocri...  \n",
       "20  carcinom invas mammellasottotip duttal nasgrad...  \n",
       "28  carcinom invas mammellasottotip duttal nasgrad...  \n",
       "39  risult esam immunoistochim effettuatier propor...  \n",
       "\n",
       "[5 rows x 21 columns]"
      ]
     },
     "execution_count": 285,
     "metadata": {},
     "output_type": "execute_result"
    }
   ],
   "source": [
    "data['text_final'] = data.text_stemming.apply(TreebankWordDetokenizer().detokenize)\n",
    "data.head()"
   ]
  },
  {
   "cell_type": "code",
   "execution_count": 286,
   "id": "feb50734",
   "metadata": {},
   "outputs": [],
   "source": [
    "#take only the columns of er,pgr and text\n",
    "data_model = data.iloc[:,[10,11,20]]\n"
   ]
  },
  {
   "cell_type": "code",
   "execution_count": 287,
   "id": "85287f2c",
   "metadata": {},
   "outputs": [
    {
     "name": "stderr",
     "output_type": "stream",
     "text": [
      "C:\\Users\\Paola\\AppData\\Local\\Temp\\ipykernel_15328\\2282329528.py:5: SettingWithCopyWarning: \n",
      "A value is trying to be set on a copy of a slice from a DataFrame\n",
      "\n",
      "See the caveats in the documentation: https://pandas.pydata.org/pandas-docs/stable/user_guide/indexing.html#returning-a-view-versus-a-copy\n",
      "  data_model.loc[row_indexes,'pgr']= '-1'\n",
      "C:\\Users\\Paola\\AppData\\Local\\Temp\\ipykernel_15328\\2282329528.py:6: SettingWithCopyWarning: \n",
      "A value is trying to be set on a copy of a slice from a DataFrame\n",
      "\n",
      "See the caveats in the documentation: https://pandas.pydata.org/pandas-docs/stable/user_guide/indexing.html#returning-a-view-versus-a-copy\n",
      "  data_model.loc[row_index,'er']= '-1'\n",
      "C:\\Users\\Paola\\AppData\\Local\\Temp\\ipykernel_15328\\2282329528.py:9: SettingWithCopyWarning: \n",
      "A value is trying to be set on a copy of a slice from a DataFrame.\n",
      "Try using .loc[row_indexer,col_indexer] = value instead\n",
      "\n",
      "See the caveats in the documentation: https://pandas.pydata.org/pandas-docs/stable/user_guide/indexing.html#returning-a-view-versus-a-copy\n",
      "  data_model['pgr']=data_model['pgr'].astype(str)\n",
      "C:\\Users\\Paola\\AppData\\Local\\Temp\\ipykernel_15328\\2282329528.py:10: SettingWithCopyWarning: \n",
      "A value is trying to be set on a copy of a slice from a DataFrame.\n",
      "Try using .loc[row_indexer,col_indexer] = value instead\n",
      "\n",
      "See the caveats in the documentation: https://pandas.pydata.org/pandas-docs/stable/user_guide/indexing.html#returning-a-view-versus-a-copy\n",
      "  data_model['er']=data_model['er'].astype(str)\n"
     ]
    }
   ],
   "source": [
    "#assign -1 to negative values\n",
    "row_indexes=data_model[data_model['pgr']=='negativo'].index\n",
    "row_index=data_model[data_model['er']=='negativo'].index\n",
    "#step 2: Using .loc we can assign a new value to column based on indexes\n",
    "data_model.loc[row_indexes,'pgr']= '-1'\n",
    "data_model.loc[row_index,'er']= '-1'\n",
    "\n",
    "\n",
    "data_model['pgr']=data_model['pgr'].astype(str)\n",
    "data_model['er']=data_model['er'].astype(str)"
   ]
  },
  {
   "cell_type": "code",
   "execution_count": 288,
   "id": "501389d0",
   "metadata": {},
   "outputs": [
    {
     "data": {
      "text/plain": [
       "1+          6691\n",
       "2+          3185\n",
       "0           2842\n",
       "3+          1989\n",
       "nan          105\n",
       "negativo      15\n",
       "positivo       1\n",
       "Name: her2, dtype: int64"
      ]
     },
     "execution_count": 288,
     "metadata": {},
     "output_type": "execute_result"
    }
   ],
   "source": [
    "#data[data['her2']=='negativo']\n",
    "data.her2.value_counts()"
   ]
  },
  {
   "cell_type": "code",
   "execution_count": 289,
   "id": "c3f047f6",
   "metadata": {},
   "outputs": [
    {
     "name": "stderr",
     "output_type": "stream",
     "text": [
      "C:\\Users\\Paola\\AppData\\Local\\Temp\\ipykernel_15328\\3429494079.py:2: SettingWithCopyWarning: \n",
      "A value is trying to be set on a copy of a slice from a DataFrame.\n",
      "Try using .loc[row_indexer,col_indexer] = value instead\n",
      "\n",
      "See the caveats in the documentation: https://pandas.pydata.org/pandas-docs/stable/user_guide/indexing.html#returning-a-view-versus-a-copy\n",
      "  data_model['int_er'] = data_model['er'].str.split(',')\n",
      "C:\\Users\\Paola\\AppData\\Local\\Temp\\ipykernel_15328\\3429494079.py:3: SettingWithCopyWarning: \n",
      "A value is trying to be set on a copy of a slice from a DataFrame.\n",
      "Try using .loc[row_indexer,col_indexer] = value instead\n",
      "\n",
      "See the caveats in the documentation: https://pandas.pydata.org/pandas-docs/stable/user_guide/indexing.html#returning-a-view-versus-a-copy\n",
      "  data_model['int_pgr'] = data_model['pgr'].str.split(',')\n"
     ]
    },
    {
     "data": {
      "text/html": [
       "<div>\n",
       "<style scoped>\n",
       "    .dataframe tbody tr th:only-of-type {\n",
       "        vertical-align: middle;\n",
       "    }\n",
       "\n",
       "    .dataframe tbody tr th {\n",
       "        vertical-align: top;\n",
       "    }\n",
       "\n",
       "    .dataframe thead th {\n",
       "        text-align: right;\n",
       "    }\n",
       "</style>\n",
       "<table border=\"1\" class=\"dataframe\">\n",
       "  <thead>\n",
       "    <tr style=\"text-align: right;\">\n",
       "      <th></th>\n",
       "      <th>er</th>\n",
       "      <th>pgr</th>\n",
       "      <th>text_final</th>\n",
       "      <th>int_er</th>\n",
       "      <th>int_pgr</th>\n",
       "      <th>limits_0</th>\n",
       "      <th>limits_1</th>\n",
       "      <th>limit_0</th>\n",
       "      <th>limit_1</th>\n",
       "    </tr>\n",
       "  </thead>\n",
       "  <tbody>\n",
       "    <tr>\n",
       "      <th>14823</th>\n",
       "      <td>90</td>\n",
       "      <td>0</td>\n",
       "      <td>assett recettorial immunoreattiv membran herne...</td>\n",
       "      <td>[90]</td>\n",
       "      <td>[0]</td>\n",
       "      <td>0</td>\n",
       "      <td>0</td>\n",
       "      <td>90</td>\n",
       "      <td>0</td>\n",
       "    </tr>\n",
       "    <tr>\n",
       "      <th>14824</th>\n",
       "      <td>[95,100]</td>\n",
       "      <td>[95,100]</td>\n",
       "      <td>assett recettorial immunoreattiv membran herne...</td>\n",
       "      <td>[[95, 100]]</td>\n",
       "      <td>[[95, 100]]</td>\n",
       "      <td>[95</td>\n",
       "      <td>100]</td>\n",
       "      <td>[95</td>\n",
       "      <td>100]</td>\n",
       "    </tr>\n",
       "    <tr>\n",
       "      <th>14825</th>\n",
       "      <td>[95,100]</td>\n",
       "      <td>15</td>\n",
       "      <td>assett recettorial immunoreattiv membran herne...</td>\n",
       "      <td>[[95, 100]]</td>\n",
       "      <td>[15]</td>\n",
       "      <td>15</td>\n",
       "      <td>0</td>\n",
       "      <td>[95</td>\n",
       "      <td>100]</td>\n",
       "    </tr>\n",
       "    <tr>\n",
       "      <th>14826</th>\n",
       "      <td>[95,100]</td>\n",
       "      <td>20</td>\n",
       "      <td>assett recettorial immunoreattiv membran herne...</td>\n",
       "      <td>[[95, 100]]</td>\n",
       "      <td>[20]</td>\n",
       "      <td>20</td>\n",
       "      <td>0</td>\n",
       "      <td>[95</td>\n",
       "      <td>100]</td>\n",
       "    </tr>\n",
       "    <tr>\n",
       "      <th>14827</th>\n",
       "      <td>90</td>\n",
       "      <td>0</td>\n",
       "      <td>assett recettorial immunoreattiv membran herne...</td>\n",
       "      <td>[90]</td>\n",
       "      <td>[0]</td>\n",
       "      <td>0</td>\n",
       "      <td>0</td>\n",
       "      <td>90</td>\n",
       "      <td>0</td>\n",
       "    </tr>\n",
       "  </tbody>\n",
       "</table>\n",
       "</div>"
      ],
      "text/plain": [
       "             er       pgr                                         text_final  \\\n",
       "14823        90         0  assett recettorial immunoreattiv membran herne...   \n",
       "14824  [95,100]  [95,100]  assett recettorial immunoreattiv membran herne...   \n",
       "14825  [95,100]        15  assett recettorial immunoreattiv membran herne...   \n",
       "14826  [95,100]        20  assett recettorial immunoreattiv membran herne...   \n",
       "14827        90         0  assett recettorial immunoreattiv membran herne...   \n",
       "\n",
       "            int_er      int_pgr limits_0 limits_1 limit_0 limit_1  \n",
       "14823         [90]          [0]        0        0      90       0  \n",
       "14824  [[95, 100]]  [[95, 100]]      [95     100]     [95    100]  \n",
       "14825  [[95, 100]]         [15]       15        0     [95    100]  \n",
       "14826  [[95, 100]]         [20]       20        0     [95    100]  \n",
       "14827         [90]          [0]        0        0      90       0  "
      ]
     },
     "execution_count": 289,
     "metadata": {},
     "output_type": "execute_result"
    }
   ],
   "source": [
    "#transorm values in intervals\n",
    "data_model['int_er'] = data_model['er'].str.split(',')\n",
    "data_model['int_pgr'] = data_model['pgr'].str.split(',')\n",
    "data_model.tail()\n",
    "data_model.shape\n",
    "df1_model= pd.DataFrame(data_model['int_er'].tolist()).fillna('0').add_prefix('limit_')\n",
    "df_model= pd.DataFrame(data_model['int_pgr'].tolist()).fillna('0').add_prefix('limits_')\n",
    "data_models = data_model.reset_index(drop=True)\n",
    "df1 = pd.concat([data_models, df_model, df1_model], axis=1)\n",
    "df1.tail()\n"
   ]
  },
  {
   "cell_type": "code",
   "execution_count": 290,
   "id": "cef1e225",
   "metadata": {},
   "outputs": [
    {
     "data": {
      "text/plain": [
       "(14828, 9)"
      ]
     },
     "execution_count": 290,
     "metadata": {},
     "output_type": "execute_result"
    }
   ],
   "source": [
    "df1.shape"
   ]
  },
  {
   "cell_type": "code",
   "execution_count": 291,
   "id": "b7673a4a",
   "metadata": {},
   "outputs": [
    {
     "data": {
      "text/html": [
       "<div>\n",
       "<style scoped>\n",
       "    .dataframe tbody tr th:only-of-type {\n",
       "        vertical-align: middle;\n",
       "    }\n",
       "\n",
       "    .dataframe tbody tr th {\n",
       "        vertical-align: top;\n",
       "    }\n",
       "\n",
       "    .dataframe thead th {\n",
       "        text-align: right;\n",
       "    }\n",
       "</style>\n",
       "<table border=\"1\" class=\"dataframe\">\n",
       "  <thead>\n",
       "    <tr style=\"text-align: right;\">\n",
       "      <th></th>\n",
       "      <th>er</th>\n",
       "      <th>pgr</th>\n",
       "      <th>text_final</th>\n",
       "      <th>int_er</th>\n",
       "      <th>int_pgr</th>\n",
       "      <th>limits_0</th>\n",
       "      <th>limits_1</th>\n",
       "      <th>limit_0</th>\n",
       "      <th>limit_1</th>\n",
       "    </tr>\n",
       "  </thead>\n",
       "  <tbody>\n",
       "    <tr>\n",
       "      <th>0</th>\n",
       "      <td>[66,100]</td>\n",
       "      <td>[33,66)</td>\n",
       "      <td>carcinom mammell duttal situ aspett tip apocri...</td>\n",
       "      <td>[[66, 100]]</td>\n",
       "      <td>[[33, 66)]</td>\n",
       "      <td>33</td>\n",
       "      <td>66</td>\n",
       "      <td>66</td>\n",
       "      <td>100</td>\n",
       "    </tr>\n",
       "    <tr>\n",
       "      <th>1</th>\n",
       "      <td>[66,100]</td>\n",
       "      <td>[33,66)</td>\n",
       "      <td>carcinom mammell duttal situ aspett tip apocri...</td>\n",
       "      <td>[[66, 100]]</td>\n",
       "      <td>[[33, 66)]</td>\n",
       "      <td>33</td>\n",
       "      <td>66</td>\n",
       "      <td>66</td>\n",
       "      <td>100</td>\n",
       "    </tr>\n",
       "    <tr>\n",
       "      <th>2</th>\n",
       "      <td>[66,100]</td>\n",
       "      <td>[10,33)</td>\n",
       "      <td>carcinom invas mammellasottotip duttal nasgrad...</td>\n",
       "      <td>[[66, 100]]</td>\n",
       "      <td>[[10, 33)]</td>\n",
       "      <td>10</td>\n",
       "      <td>33</td>\n",
       "      <td>66</td>\n",
       "      <td>100</td>\n",
       "    </tr>\n",
       "    <tr>\n",
       "      <th>3</th>\n",
       "      <td>[66,100]</td>\n",
       "      <td>[10,33)</td>\n",
       "      <td>carcinom invas mammellasottotip duttal nasgrad...</td>\n",
       "      <td>[[66, 100]]</td>\n",
       "      <td>[[10, 33)]</td>\n",
       "      <td>10</td>\n",
       "      <td>33</td>\n",
       "      <td>66</td>\n",
       "      <td>100</td>\n",
       "    </tr>\n",
       "    <tr>\n",
       "      <th>4</th>\n",
       "      <td>[0,1)</td>\n",
       "      <td>[1,10)</td>\n",
       "      <td>risult esam immunoistochim effettuatier propor...</td>\n",
       "      <td>[[0, 1)]</td>\n",
       "      <td>[[1, 10)]</td>\n",
       "      <td>1</td>\n",
       "      <td>10</td>\n",
       "      <td>0</td>\n",
       "      <td>1</td>\n",
       "    </tr>\n",
       "  </tbody>\n",
       "</table>\n",
       "</div>"
      ],
      "text/plain": [
       "         er      pgr                                         text_final  \\\n",
       "0  [66,100]  [33,66)  carcinom mammell duttal situ aspett tip apocri...   \n",
       "1  [66,100]  [33,66)  carcinom mammell duttal situ aspett tip apocri...   \n",
       "2  [66,100]  [10,33)  carcinom invas mammellasottotip duttal nasgrad...   \n",
       "3  [66,100]  [10,33)  carcinom invas mammellasottotip duttal nasgrad...   \n",
       "4     [0,1)   [1,10)  risult esam immunoistochim effettuatier propor...   \n",
       "\n",
       "        int_er     int_pgr  limits_0  limits_1  limit_0  limit_1  \n",
       "0  [[66, 100]]  [[33, 66)]        33        66       66      100  \n",
       "1  [[66, 100]]  [[33, 66)]        33        66       66      100  \n",
       "2  [[66, 100]]  [[10, 33)]        10        33       66      100  \n",
       "3  [[66, 100]]  [[10, 33)]        10        33       66      100  \n",
       "4     [[0, 1)]   [[1, 10)]         1        10        0        1  "
      ]
     },
     "execution_count": 291,
     "metadata": {},
     "output_type": "execute_result"
    }
   ],
   "source": [
    "#e riesci sistema valori negativi e più se no ciao\n",
    "lim = ['limit_0','limit_1','limits_0','limits_1']\n",
    "\n",
    "for l in lim:\n",
    "    df1= df1[df1[l] != \"+\"]\n",
    "    df1= df1[df1[l] != \"-\"]\n",
    "    df1= df1[df1[l] != \"nan\"]\n",
    "    df1= df1[df1[l] != \"\"]\n",
    "    df1[l]=df1[l].astype(str)\n",
    "    df1[l]=df1[l].apply(nfx.remove_special_characters)\n",
    "    df1[l]=df1[l].astype(int)\n",
    "\n",
    "    \n",
    "df1.head()"
   ]
  },
  {
   "cell_type": "code",
   "execution_count": 292,
   "id": "715bbaf0",
   "metadata": {},
   "outputs": [
    {
     "data": {
      "text/html": [
       "<div>\n",
       "<style scoped>\n",
       "    .dataframe tbody tr th:only-of-type {\n",
       "        vertical-align: middle;\n",
       "    }\n",
       "\n",
       "    .dataframe tbody tr th {\n",
       "        vertical-align: top;\n",
       "    }\n",
       "\n",
       "    .dataframe thead th {\n",
       "        text-align: right;\n",
       "    }\n",
       "</style>\n",
       "<table border=\"1\" class=\"dataframe\">\n",
       "  <thead>\n",
       "    <tr style=\"text-align: right;\">\n",
       "      <th></th>\n",
       "      <th>er</th>\n",
       "      <th>pgr</th>\n",
       "      <th>text_final</th>\n",
       "      <th>int_er</th>\n",
       "      <th>int_pgr</th>\n",
       "      <th>limits_0</th>\n",
       "      <th>limits_1</th>\n",
       "      <th>limit_0</th>\n",
       "      <th>limit_1</th>\n",
       "    </tr>\n",
       "  </thead>\n",
       "  <tbody>\n",
       "    <tr>\n",
       "      <th>0</th>\n",
       "      <td>[66,100]</td>\n",
       "      <td>[33,66)</td>\n",
       "      <td>carcinom mammell duttal situ aspett tip apocri...</td>\n",
       "      <td>[[66, 100]]</td>\n",
       "      <td>[[33, 66)]</td>\n",
       "      <td>33</td>\n",
       "      <td>66</td>\n",
       "      <td>66</td>\n",
       "      <td>100</td>\n",
       "    </tr>\n",
       "    <tr>\n",
       "      <th>1</th>\n",
       "      <td>[66,100]</td>\n",
       "      <td>[33,66)</td>\n",
       "      <td>carcinom mammell duttal situ aspett tip apocri...</td>\n",
       "      <td>[[66, 100]]</td>\n",
       "      <td>[[33, 66)]</td>\n",
       "      <td>33</td>\n",
       "      <td>66</td>\n",
       "      <td>66</td>\n",
       "      <td>100</td>\n",
       "    </tr>\n",
       "    <tr>\n",
       "      <th>2</th>\n",
       "      <td>[66,100]</td>\n",
       "      <td>[10,33)</td>\n",
       "      <td>carcinom invas mammellasottotip duttal nasgrad...</td>\n",
       "      <td>[[66, 100]]</td>\n",
       "      <td>[[10, 33)]</td>\n",
       "      <td>10</td>\n",
       "      <td>33</td>\n",
       "      <td>66</td>\n",
       "      <td>100</td>\n",
       "    </tr>\n",
       "    <tr>\n",
       "      <th>3</th>\n",
       "      <td>[66,100]</td>\n",
       "      <td>[10,33)</td>\n",
       "      <td>carcinom invas mammellasottotip duttal nasgrad...</td>\n",
       "      <td>[[66, 100]]</td>\n",
       "      <td>[[10, 33)]</td>\n",
       "      <td>10</td>\n",
       "      <td>33</td>\n",
       "      <td>66</td>\n",
       "      <td>100</td>\n",
       "    </tr>\n",
       "    <tr>\n",
       "      <th>4</th>\n",
       "      <td>[0,1)</td>\n",
       "      <td>[1,10)</td>\n",
       "      <td>risult esam immunoistochim effettuatier propor...</td>\n",
       "      <td>[[0, 1)]</td>\n",
       "      <td>[[1, 10)]</td>\n",
       "      <td>1</td>\n",
       "      <td>10</td>\n",
       "      <td>0</td>\n",
       "      <td>1</td>\n",
       "    </tr>\n",
       "  </tbody>\n",
       "</table>\n",
       "</div>"
      ],
      "text/plain": [
       "         er      pgr                                         text_final  \\\n",
       "0  [66,100]  [33,66)  carcinom mammell duttal situ aspett tip apocri...   \n",
       "1  [66,100]  [33,66)  carcinom mammell duttal situ aspett tip apocri...   \n",
       "2  [66,100]  [10,33)  carcinom invas mammellasottotip duttal nasgrad...   \n",
       "3  [66,100]  [10,33)  carcinom invas mammellasottotip duttal nasgrad...   \n",
       "4     [0,1)   [1,10)  risult esam immunoistochim effettuatier propor...   \n",
       "\n",
       "        int_er     int_pgr  limits_0  limits_1  limit_0  limit_1  \n",
       "0  [[66, 100]]  [[33, 66)]        33        66       66      100  \n",
       "1  [[66, 100]]  [[33, 66)]        33        66       66      100  \n",
       "2  [[66, 100]]  [[10, 33)]        10        33       66      100  \n",
       "3  [[66, 100]]  [[10, 33)]        10        33       66      100  \n",
       "4     [[0, 1)]   [[1, 10)]         1        10        0        1  "
      ]
     },
     "execution_count": 292,
     "metadata": {},
     "output_type": "execute_result"
    }
   ],
   "source": [
    "#some values are integers not intervals, so give them the same limit as ther min\n",
    "#step 1: filter index \n",
    "row_indexes=df1[df1['limit_1']==0].index\n",
    "row_index=df1[df1['limits_1']==0].index\n",
    "#step 2: Using .loc we can assign a new value to column based on indexes\n",
    "df1.loc[row_indexes,'limit_1']=df1['limit_0']\n",
    "df1.loc[row_index,'limits_1']=df1['limits_0']\n",
    "\n",
    "df1.head()"
   ]
  },
  {
   "cell_type": "code",
   "execution_count": 293,
   "id": "75bc1ce5",
   "metadata": {},
   "outputs": [
    {
     "data": {
      "text/html": [
       "<div>\n",
       "<style scoped>\n",
       "    .dataframe tbody tr th:only-of-type {\n",
       "        vertical-align: middle;\n",
       "    }\n",
       "\n",
       "    .dataframe tbody tr th {\n",
       "        vertical-align: top;\n",
       "    }\n",
       "\n",
       "    .dataframe thead th {\n",
       "        text-align: right;\n",
       "    }\n",
       "</style>\n",
       "<table border=\"1\" class=\"dataframe\">\n",
       "  <thead>\n",
       "    <tr style=\"text-align: right;\">\n",
       "      <th></th>\n",
       "      <th>er</th>\n",
       "      <th>pgr</th>\n",
       "      <th>text_final</th>\n",
       "      <th>int_er</th>\n",
       "      <th>int_pgr</th>\n",
       "      <th>limits_0</th>\n",
       "      <th>limits_1</th>\n",
       "      <th>limit_0</th>\n",
       "      <th>limit_1</th>\n",
       "      <th>inter</th>\n",
       "      <th>lab</th>\n",
       "    </tr>\n",
       "  </thead>\n",
       "  <tbody>\n",
       "    <tr>\n",
       "      <th>0</th>\n",
       "      <td>[66,100]</td>\n",
       "      <td>[33,66)</td>\n",
       "      <td>carcinom mammell duttal situ aspett tip apocri...</td>\n",
       "      <td>[[66, 100]]</td>\n",
       "      <td>[[33, 66)]</td>\n",
       "      <td>33</td>\n",
       "      <td>66</td>\n",
       "      <td>66</td>\n",
       "      <td>100</td>\n",
       "      <td>66-100</td>\n",
       "      <td>0</td>\n",
       "    </tr>\n",
       "    <tr>\n",
       "      <th>1</th>\n",
       "      <td>[66,100]</td>\n",
       "      <td>[33,66)</td>\n",
       "      <td>carcinom mammell duttal situ aspett tip apocri...</td>\n",
       "      <td>[[66, 100]]</td>\n",
       "      <td>[[33, 66)]</td>\n",
       "      <td>33</td>\n",
       "      <td>66</td>\n",
       "      <td>66</td>\n",
       "      <td>100</td>\n",
       "      <td>66-100</td>\n",
       "      <td>0</td>\n",
       "    </tr>\n",
       "    <tr>\n",
       "      <th>2</th>\n",
       "      <td>[66,100]</td>\n",
       "      <td>[10,33)</td>\n",
       "      <td>carcinom invas mammellasottotip duttal nasgrad...</td>\n",
       "      <td>[[66, 100]]</td>\n",
       "      <td>[[10, 33)]</td>\n",
       "      <td>10</td>\n",
       "      <td>33</td>\n",
       "      <td>66</td>\n",
       "      <td>100</td>\n",
       "      <td>66-100</td>\n",
       "      <td>0</td>\n",
       "    </tr>\n",
       "    <tr>\n",
       "      <th>3</th>\n",
       "      <td>[66,100]</td>\n",
       "      <td>[10,33)</td>\n",
       "      <td>carcinom invas mammellasottotip duttal nasgrad...</td>\n",
       "      <td>[[66, 100]]</td>\n",
       "      <td>[[10, 33)]</td>\n",
       "      <td>10</td>\n",
       "      <td>33</td>\n",
       "      <td>66</td>\n",
       "      <td>100</td>\n",
       "      <td>66-100</td>\n",
       "      <td>0</td>\n",
       "    </tr>\n",
       "    <tr>\n",
       "      <th>4</th>\n",
       "      <td>[0,1)</td>\n",
       "      <td>[1,10)</td>\n",
       "      <td>risult esam immunoistochim effettuatier propor...</td>\n",
       "      <td>[[0, 1)]</td>\n",
       "      <td>[[1, 10)]</td>\n",
       "      <td>1</td>\n",
       "      <td>10</td>\n",
       "      <td>0</td>\n",
       "      <td>1</td>\n",
       "      <td>negativo</td>\n",
       "      <td>1</td>\n",
       "    </tr>\n",
       "  </tbody>\n",
       "</table>\n",
       "</div>"
      ],
      "text/plain": [
       "         er      pgr                                         text_final  \\\n",
       "0  [66,100]  [33,66)  carcinom mammell duttal situ aspett tip apocri...   \n",
       "1  [66,100]  [33,66)  carcinom mammell duttal situ aspett tip apocri...   \n",
       "2  [66,100]  [10,33)  carcinom invas mammellasottotip duttal nasgrad...   \n",
       "3  [66,100]  [10,33)  carcinom invas mammellasottotip duttal nasgrad...   \n",
       "4     [0,1)   [1,10)  risult esam immunoistochim effettuatier propor...   \n",
       "\n",
       "        int_er     int_pgr  limits_0  limits_1  limit_0  limit_1     inter  \\\n",
       "0  [[66, 100]]  [[33, 66)]        33        66       66      100    66-100   \n",
       "1  [[66, 100]]  [[33, 66)]        33        66       66      100    66-100   \n",
       "2  [[66, 100]]  [[10, 33)]        10        33       66      100    66-100   \n",
       "3  [[66, 100]]  [[10, 33)]        10        33       66      100    66-100   \n",
       "4     [[0, 1)]   [[1, 10)]         1        10        0        1  negativo   \n",
       "\n",
       "   lab  \n",
       "0    0  \n",
       "1    0  \n",
       "2    0  \n",
       "3    0  \n",
       "4    1  "
      ]
     },
     "execution_count": 293,
     "metadata": {},
     "output_type": "execute_result"
    }
   ],
   "source": [
    "#specify the limit conditions for intervals\n",
    "#uncomment other condition to see the example of 13 labels\n",
    "conditions = [\n",
    "    (df1['limit_0'] <= 0),\n",
    "    (df1['limit_0'] > 0) & (df1['limit_1'] <= 33),\n",
    "    (df1['limit_0'] >= 33) & (df1['limit_1'] <= 66),\n",
    "    (df1['limit_0'] >= 66) & (df1['limit_1'] <= 100),\n",
    "  #  ,(df1['limit_0'] > 75) & (df1['limit_1'] <= 100)\n",
    "]\n",
    "\n",
    "'''\n",
    "#conditions = [\n",
    "    (df1['limits_0'] <= 10),\n",
    "    (df1['limits_0'] > 10) & (df1['limits_1'] <= 20),\n",
    "    (df1['limits_0'] > 20) & (df1['limits_1'] <= 30),\n",
    "    (df1['limits_0'] > 30) & (df1['limits_1'] <= 40),\n",
    "    (df1['limits_0'] > 40) & (df1['limits_1'] <= 50),\n",
    "    (df1['limits_0'] > 50) & (df1['limits_1'] <= 60),\n",
    "    (df1['limits_0'] > 60) & (df1['limits_1'] <= 70),\n",
    "    (df1['limits_0'] > 70) & (df1['limits_1'] <= 80),\n",
    "    (df1['limits_0'] > 80) & (df1['limits_1'] <= 90),\n",
    "    (df1['limits_0'] > 90) & (df1['limits_1'] <= 100),\n",
    "    (df1['limits_0'] >= 0) & (df1['limits_1'] <= 33),\n",
    "    (df1['limits_0'] >= 33) & (df1['limits_1'] <= 66),\n",
    "    (df1['limits_0'] >= 66) & (df1['limits_1'] <= 100)\n",
    "    ]\n",
    "'''\n",
    "\n",
    "# create a list of the values we want to assign for each condition\n",
    "#values = ['0-10', '11-20', '21-30', '31-40','41-50','51-60','61-70','71-80','81-90','91-100','0-33','33-66','66-100']\n",
    "values = ['negativo',  '1-33','33-66','66-100']\n",
    "          #'1-25', '26-50', '51-75' , '76-100']\n",
    "\n",
    "# create a new column and use np.select to assign values to it using our lists as arguments\n",
    "df1['inter'] = np.select(conditions, values)\n",
    "\n",
    "# display updated DataFrame\n",
    "df1.head(20)\n",
    "\n",
    "df1['lab'] = df1['inter'].factorize()[0]\n",
    "df1.head()\n",
    "\n"
   ]
  },
  {
   "cell_type": "code",
   "execution_count": 294,
   "id": "ea7f1b7e",
   "metadata": {},
   "outputs": [
    {
     "data": {
      "text/html": [
       "<div>\n",
       "<style scoped>\n",
       "    .dataframe tbody tr th:only-of-type {\n",
       "        vertical-align: middle;\n",
       "    }\n",
       "\n",
       "    .dataframe tbody tr th {\n",
       "        vertical-align: top;\n",
       "    }\n",
       "\n",
       "    .dataframe thead th {\n",
       "        text-align: right;\n",
       "    }\n",
       "</style>\n",
       "<table border=\"1\" class=\"dataframe\">\n",
       "  <thead>\n",
       "    <tr style=\"text-align: right;\">\n",
       "      <th></th>\n",
       "      <th>er</th>\n",
       "      <th>pgr</th>\n",
       "      <th>text_final</th>\n",
       "      <th>int_er</th>\n",
       "      <th>int_pgr</th>\n",
       "      <th>limits_0</th>\n",
       "      <th>limits_1</th>\n",
       "      <th>limit_0</th>\n",
       "      <th>limit_1</th>\n",
       "      <th>inter</th>\n",
       "      <th>lab</th>\n",
       "      <th>intervalpgr</th>\n",
       "    </tr>\n",
       "  </thead>\n",
       "  <tbody>\n",
       "    <tr>\n",
       "      <th>0</th>\n",
       "      <td>[66,100]</td>\n",
       "      <td>[33,66)</td>\n",
       "      <td>carcinom mammell duttal situ aspett tip apocri...</td>\n",
       "      <td>[[66, 100]]</td>\n",
       "      <td>[[33, 66)]</td>\n",
       "      <td>33</td>\n",
       "      <td>66</td>\n",
       "      <td>66</td>\n",
       "      <td>100</td>\n",
       "      <td>66-100</td>\n",
       "      <td>0</td>\n",
       "      <td>33-66</td>\n",
       "    </tr>\n",
       "    <tr>\n",
       "      <th>1</th>\n",
       "      <td>[66,100]</td>\n",
       "      <td>[33,66)</td>\n",
       "      <td>carcinom mammell duttal situ aspett tip apocri...</td>\n",
       "      <td>[[66, 100]]</td>\n",
       "      <td>[[33, 66)]</td>\n",
       "      <td>33</td>\n",
       "      <td>66</td>\n",
       "      <td>66</td>\n",
       "      <td>100</td>\n",
       "      <td>66-100</td>\n",
       "      <td>0</td>\n",
       "      <td>33-66</td>\n",
       "    </tr>\n",
       "    <tr>\n",
       "      <th>2</th>\n",
       "      <td>[66,100]</td>\n",
       "      <td>[10,33)</td>\n",
       "      <td>carcinom invas mammellasottotip duttal nasgrad...</td>\n",
       "      <td>[[66, 100]]</td>\n",
       "      <td>[[10, 33)]</td>\n",
       "      <td>10</td>\n",
       "      <td>33</td>\n",
       "      <td>66</td>\n",
       "      <td>100</td>\n",
       "      <td>66-100</td>\n",
       "      <td>0</td>\n",
       "      <td>1-33</td>\n",
       "    </tr>\n",
       "    <tr>\n",
       "      <th>3</th>\n",
       "      <td>[66,100]</td>\n",
       "      <td>[10,33)</td>\n",
       "      <td>carcinom invas mammellasottotip duttal nasgrad...</td>\n",
       "      <td>[[66, 100]]</td>\n",
       "      <td>[[10, 33)]</td>\n",
       "      <td>10</td>\n",
       "      <td>33</td>\n",
       "      <td>66</td>\n",
       "      <td>100</td>\n",
       "      <td>66-100</td>\n",
       "      <td>0</td>\n",
       "      <td>1-33</td>\n",
       "    </tr>\n",
       "    <tr>\n",
       "      <th>4</th>\n",
       "      <td>[0,1)</td>\n",
       "      <td>[1,10)</td>\n",
       "      <td>risult esam immunoistochim effettuatier propor...</td>\n",
       "      <td>[[0, 1)]</td>\n",
       "      <td>[[1, 10)]</td>\n",
       "      <td>1</td>\n",
       "      <td>10</td>\n",
       "      <td>0</td>\n",
       "      <td>1</td>\n",
       "      <td>negativo</td>\n",
       "      <td>1</td>\n",
       "      <td>1-33</td>\n",
       "    </tr>\n",
       "  </tbody>\n",
       "</table>\n",
       "</div>"
      ],
      "text/plain": [
       "         er      pgr                                         text_final  \\\n",
       "0  [66,100]  [33,66)  carcinom mammell duttal situ aspett tip apocri...   \n",
       "1  [66,100]  [33,66)  carcinom mammell duttal situ aspett tip apocri...   \n",
       "2  [66,100]  [10,33)  carcinom invas mammellasottotip duttal nasgrad...   \n",
       "3  [66,100]  [10,33)  carcinom invas mammellasottotip duttal nasgrad...   \n",
       "4     [0,1)   [1,10)  risult esam immunoistochim effettuatier propor...   \n",
       "\n",
       "        int_er     int_pgr  limits_0  limits_1  limit_0  limit_1     inter  \\\n",
       "0  [[66, 100]]  [[33, 66)]        33        66       66      100    66-100   \n",
       "1  [[66, 100]]  [[33, 66)]        33        66       66      100    66-100   \n",
       "2  [[66, 100]]  [[10, 33)]        10        33       66      100    66-100   \n",
       "3  [[66, 100]]  [[10, 33)]        10        33       66      100    66-100   \n",
       "4     [[0, 1)]   [[1, 10)]         1        10        0        1  negativo   \n",
       "\n",
       "   lab intervalpgr  \n",
       "0    0       33-66  \n",
       "1    0       33-66  \n",
       "2    0        1-33  \n",
       "3    0        1-33  \n",
       "4    1        1-33  "
      ]
     },
     "execution_count": 294,
     "metadata": {},
     "output_type": "execute_result"
    }
   ],
   "source": [
    "condition = [\n",
    "    (df1['limits_0'] <= 0),\n",
    "    (df1['limits_0'] > 0) & (df1['limits_1'] <= 33),\n",
    "    (df1['limits_0'] >= 33) & (df1['limits_1'] <= 66),\n",
    "    (df1['limits_0'] >= 66) & (df1['limits_1'] <= 100)\n",
    " #   (df1['limits_0'] > 75) & (df1['limits_1'] <= 100)\n",
    "]\n",
    "\n",
    "\n",
    "'''\n",
    "condition = [\n",
    "    (df1['limit_0'] <= 10),\n",
    "    (df1['limit_0'] > 10) & (df1['limit_1'] <= 20),\n",
    "    (df1['limit_0'] > 20) & (df1['limit_1'] <= 30),\n",
    "    (df1['limit_0'] > 30) & (df1['limit_1'] <= 40),\n",
    "    (df1['limit_0'] > 40) & (df1['limit_1'] <= 50),\n",
    "    (df1['limit_0'] > 50) & (df1['limit_1'] <= 60),\n",
    "    (df1['limit_0'] > 60) & (df1['limit_1'] <= 70),\n",
    "    (df1['limit_0'] > 70) & (df1['limit_1'] <= 80),\n",
    "    (df1['limit_0'] > 80) & (df1['limit_1'] <= 90),\n",
    "    (df1['limit_0'] > 90) & (df1['limit_1'] <= 100),\n",
    "    (df1['limit_0'] >= 0) & (df1['limit_1'] <= 33),\n",
    "    (df1['limit_0'] >= 33) & (df1['limit_1'] <= 66),\n",
    "    (df1['limit_0'] >= 66) & (df1['limit_1'] <= 100)\n",
    "    ]\n",
    "\n",
    "'''\n",
    "# create a list of the val we want to assign for each condition\n",
    "#val = ['0-10', '11-20', '21-30', '31-40','41-50','51-60','61-70','71-80','81-90','91-100','0-33','33-66','66-100']\n",
    "val = ['negativo',  '1-33','33-66','66-100']\n",
    "       #'1-25', '26-50', '51-75' , '76-100']\n",
    "\n",
    "# create a new column and use np.select to assign val to it using our lists as arguments\n",
    "df1['intervalpgr'] = np.select(condition, val)\n",
    "df1 = df1[df1['intervalpgr'] !='0']\n",
    "df1.head()\n",
    "\n"
   ]
  },
  {
   "cell_type": "code",
   "execution_count": 295,
   "id": "90d98015",
   "metadata": {},
   "outputs": [
    {
     "name": "stderr",
     "output_type": "stream",
     "text": [
      "C:\\Users\\Paola\\anaconda3\\lib\\site-packages\\seaborn\\_decorators.py:36: FutureWarning: Pass the following variable as a keyword arg: x. From version 0.12, the only valid positional argument will be `data`, and passing other arguments without an explicit keyword will result in an error or misinterpretation.\n",
      "  warnings.warn(\n"
     ]
    },
    {
     "data": {
      "image/png": "[encoded data removed]",
      "text/plain": [
       "<Figure size 1224x720 with 1 Axes>"
      ]
     },
     "metadata": {
      "needs_background": "light"
     },
     "output_type": "display_data"
    }
   ],
   "source": [
    "#pgr 0-10 5k - 91-100 - 66-100\n",
    "plt.figure(figsize=(17, 10))\n",
    "count = sns.countplot(df1['intervalpgr'],order=['negativo',  '1-33','33-66','66-100'])\n",
    "                      #['negativo', '1-25', '26-50', '51-75' , '76-100'])\n",
    "#['0-10','0-33', '11-20', '21-30', '31-40','33-66','41-50','51-60','61-70','66-100','71-80','81-90','91-100'])"
   ]
  },
  {
   "cell_type": "code",
   "execution_count": 296,
   "id": "0b57f17d",
   "metadata": {},
   "outputs": [
    {
     "name": "stderr",
     "output_type": "stream",
     "text": [
      "C:\\Users\\Paola\\anaconda3\\lib\\site-packages\\seaborn\\_decorators.py:36: FutureWarning: Pass the following variable as a keyword arg: x. From version 0.12, the only valid positional argument will be `data`, and passing other arguments without an explicit keyword will result in an error or misinterpretation.\n",
      "  warnings.warn(\n"
     ]
    },
    {
     "data": {
      "image/png": "[encoded data removed]",
      "text/plain": [
       "<Figure size 1224x720 with 1 Axes>"
      ]
     },
     "metadata": {
      "needs_background": "light"
     },
     "output_type": "display_data"
    }
   ],
   "source": [
    "plt.figure(figsize=(17, 10))\n",
    "count = sns.countplot(df1['inter'],order=['negativo',  '1-33','33-66','66-100'])"
   ]
  },
  {
   "cell_type": "code",
   "execution_count": 297,
   "id": "77cdbfe1",
   "metadata": {},
   "outputs": [
    {
     "data": {
      "text/plain": [
       "66-100      11415\n",
       "negativo     1905\n",
       "1-33         1035\n",
       "33-66         438\n",
       "Name: inter, dtype: int64"
      ]
     },
     "execution_count": 297,
     "metadata": {},
     "output_type": "execute_result"
    }
   ],
   "source": [
    "df1.inter.value_counts()  #unbalanced"
   ]
  },
  {
   "cell_type": "code",
   "execution_count": 298,
   "id": "69e32833",
   "metadata": {},
   "outputs": [
    {
     "data": {
      "text/html": [
       "<div>\n",
       "<style scoped>\n",
       "    .dataframe tbody tr th:only-of-type {\n",
       "        vertical-align: middle;\n",
       "    }\n",
       "\n",
       "    .dataframe tbody tr th {\n",
       "        vertical-align: top;\n",
       "    }\n",
       "\n",
       "    .dataframe thead th {\n",
       "        text-align: right;\n",
       "    }\n",
       "</style>\n",
       "<table border=\"1\" class=\"dataframe\">\n",
       "  <thead>\n",
       "    <tr style=\"text-align: right;\">\n",
       "      <th></th>\n",
       "      <th>text_final</th>\n",
       "      <th>inter</th>\n",
       "      <th>lab</th>\n",
       "      <th>intervalpgr</th>\n",
       "    </tr>\n",
       "  </thead>\n",
       "  <tbody>\n",
       "    <tr>\n",
       "      <th>0</th>\n",
       "      <td>carcinom mammell duttal situ aspett tip apocri...</td>\n",
       "      <td>66-100</td>\n",
       "      <td>0</td>\n",
       "      <td>33-66</td>\n",
       "    </tr>\n",
       "    <tr>\n",
       "      <th>1</th>\n",
       "      <td>carcinom mammell duttal situ aspett tip apocri...</td>\n",
       "      <td>66-100</td>\n",
       "      <td>0</td>\n",
       "      <td>33-66</td>\n",
       "    </tr>\n",
       "    <tr>\n",
       "      <th>2</th>\n",
       "      <td>carcinom invas mammellasottotip duttal nasgrad...</td>\n",
       "      <td>66-100</td>\n",
       "      <td>0</td>\n",
       "      <td>1-33</td>\n",
       "    </tr>\n",
       "    <tr>\n",
       "      <th>3</th>\n",
       "      <td>carcinom invas mammellasottotip duttal nasgrad...</td>\n",
       "      <td>66-100</td>\n",
       "      <td>0</td>\n",
       "      <td>1-33</td>\n",
       "    </tr>\n",
       "    <tr>\n",
       "      <th>4</th>\n",
       "      <td>risult esam immunoistochim effettuatier propor...</td>\n",
       "      <td>negativo</td>\n",
       "      <td>1</td>\n",
       "      <td>1-33</td>\n",
       "    </tr>\n",
       "    <tr>\n",
       "      <th>5</th>\n",
       "      <td>carcinom invas mammellagrad istolog ntiiinecr ...</td>\n",
       "      <td>negativo</td>\n",
       "      <td>1</td>\n",
       "      <td>negativo</td>\n",
       "    </tr>\n",
       "    <tr>\n",
       "      <th>6</th>\n",
       "      <td>carcinom invas mammellasottotip duttaletip ist...</td>\n",
       "      <td>66-100</td>\n",
       "      <td>0</td>\n",
       "      <td>1-33</td>\n",
       "    </tr>\n",
       "    <tr>\n",
       "      <th>7</th>\n",
       "      <td>carcinom invas mammellasottotip duttal nasgrad...</td>\n",
       "      <td>66-100</td>\n",
       "      <td>0</td>\n",
       "      <td>66-100</td>\n",
       "    </tr>\n",
       "    <tr>\n",
       "      <th>8</th>\n",
       "      <td>carcinom invas mammellasottotip duttaletip ist...</td>\n",
       "      <td>66-100</td>\n",
       "      <td>0</td>\n",
       "      <td>66-100</td>\n",
       "    </tr>\n",
       "    <tr>\n",
       "      <th>9</th>\n",
       "      <td>carcinom invas mammellasottotip duttaletip ist...</td>\n",
       "      <td>66-100</td>\n",
       "      <td>0</td>\n",
       "      <td>66-100</td>\n",
       "    </tr>\n",
       "    <tr>\n",
       "      <th>10</th>\n",
       "      <td>carcinom invas mammellasottotip duttal nas are...</td>\n",
       "      <td>33-66</td>\n",
       "      <td>2</td>\n",
       "      <td>66-100</td>\n",
       "    </tr>\n",
       "    <tr>\n",
       "      <th>11</th>\n",
       "      <td>carcinom invas mammellagrad istolog ntiiiasset...</td>\n",
       "      <td>66-100</td>\n",
       "      <td>0</td>\n",
       "      <td>33-66</td>\n",
       "    </tr>\n",
       "    <tr>\n",
       "      <th>12</th>\n",
       "      <td>carcinom invas mammellagrad istolog ntiiiasset...</td>\n",
       "      <td>66-100</td>\n",
       "      <td>0</td>\n",
       "      <td>33-66</td>\n",
       "    </tr>\n",
       "    <tr>\n",
       "      <th>13</th>\n",
       "      <td>risult esam immunoistochim effettuatier propor...</td>\n",
       "      <td>66-100</td>\n",
       "      <td>0</td>\n",
       "      <td>1-33</td>\n",
       "    </tr>\n",
       "    <tr>\n",
       "      <th>14</th>\n",
       "      <td>carcinom duttal invas nas mammellagrad istolog...</td>\n",
       "      <td>1-33</td>\n",
       "      <td>3</td>\n",
       "      <td>66-100</td>\n",
       "    </tr>\n",
       "    <tr>\n",
       "      <th>15</th>\n",
       "      <td>carcinom invas mammellasottotipoduttaletip ist...</td>\n",
       "      <td>1-33</td>\n",
       "      <td>3</td>\n",
       "      <td>1-33</td>\n",
       "    </tr>\n",
       "    <tr>\n",
       "      <th>16</th>\n",
       "      <td>carcinom invas mammellasottotip duttal nas asp...</td>\n",
       "      <td>66-100</td>\n",
       "      <td>0</td>\n",
       "      <td>1-33</td>\n",
       "    </tr>\n",
       "    <tr>\n",
       "      <th>17</th>\n",
       "      <td>assett recettorial frazion proliferanteposit d...</td>\n",
       "      <td>66-100</td>\n",
       "      <td>0</td>\n",
       "      <td>33-66</td>\n",
       "    </tr>\n",
       "    <tr>\n",
       "      <th>18</th>\n",
       "      <td>carcinom invas mammellasottotip duttal nas asp...</td>\n",
       "      <td>66-100</td>\n",
       "      <td>0</td>\n",
       "      <td>1-33</td>\n",
       "    </tr>\n",
       "    <tr>\n",
       "      <th>19</th>\n",
       "      <td>assett recettorial frazion proliferanteposit d...</td>\n",
       "      <td>66-100</td>\n",
       "      <td>0</td>\n",
       "      <td>33-66</td>\n",
       "    </tr>\n",
       "  </tbody>\n",
       "</table>\n",
       "</div>"
      ],
      "text/plain": [
       "                                           text_final     inter  lab  \\\n",
       "0   carcinom mammell duttal situ aspett tip apocri...    66-100    0   \n",
       "1   carcinom mammell duttal situ aspett tip apocri...    66-100    0   \n",
       "2   carcinom invas mammellasottotip duttal nasgrad...    66-100    0   \n",
       "3   carcinom invas mammellasottotip duttal nasgrad...    66-100    0   \n",
       "4   risult esam immunoistochim effettuatier propor...  negativo    1   \n",
       "5   carcinom invas mammellagrad istolog ntiiinecr ...  negativo    1   \n",
       "6   carcinom invas mammellasottotip duttaletip ist...    66-100    0   \n",
       "7   carcinom invas mammellasottotip duttal nasgrad...    66-100    0   \n",
       "8   carcinom invas mammellasottotip duttaletip ist...    66-100    0   \n",
       "9   carcinom invas mammellasottotip duttaletip ist...    66-100    0   \n",
       "10  carcinom invas mammellasottotip duttal nas are...     33-66    2   \n",
       "11  carcinom invas mammellagrad istolog ntiiiasset...    66-100    0   \n",
       "12  carcinom invas mammellagrad istolog ntiiiasset...    66-100    0   \n",
       "13  risult esam immunoistochim effettuatier propor...    66-100    0   \n",
       "14  carcinom duttal invas nas mammellagrad istolog...      1-33    3   \n",
       "15  carcinom invas mammellasottotipoduttaletip ist...      1-33    3   \n",
       "16  carcinom invas mammellasottotip duttal nas asp...    66-100    0   \n",
       "17  assett recettorial frazion proliferanteposit d...    66-100    0   \n",
       "18  carcinom invas mammellasottotip duttal nas asp...    66-100    0   \n",
       "19  assett recettorial frazion proliferanteposit d...    66-100    0   \n",
       "\n",
       "   intervalpgr  \n",
       "0        33-66  \n",
       "1        33-66  \n",
       "2         1-33  \n",
       "3         1-33  \n",
       "4         1-33  \n",
       "5     negativo  \n",
       "6         1-33  \n",
       "7       66-100  \n",
       "8       66-100  \n",
       "9       66-100  \n",
       "10      66-100  \n",
       "11       33-66  \n",
       "12       33-66  \n",
       "13        1-33  \n",
       "14      66-100  \n",
       "15        1-33  \n",
       "16        1-33  \n",
       "17       33-66  \n",
       "18        1-33  \n",
       "19       33-66  "
      ]
     },
     "execution_count": 298,
     "metadata": {},
     "output_type": "execute_result"
    }
   ],
   "source": [
    "#create the final dataset\n",
    "df1 = df1.iloc[:,[2,9,10,11]]\n",
    "\n",
    "df1.head(20)"
   ]
  },
  {
   "cell_type": "markdown",
   "id": "b30d22c0",
   "metadata": {},
   "source": [
    "## Modelling"
   ]
  },
  {
   "cell_type": "markdown",
   "id": "259ed01e",
   "metadata": {},
   "source": [
    "### Multiclass-multioutput classification"
   ]
  },
  {
   "cell_type": "code",
   "execution_count": 299,
   "id": "addf3025",
   "metadata": {},
   "outputs": [],
   "source": [
    "from sklearn.model_selection import train_test_split,RandomizedSearchCV\n",
    "from sklearn.pipeline import Pipeline\n",
    "from sklearn.feature_extraction.text import CountVectorizer,TfidfVectorizer\n",
    "from nltk.tokenize import word_tokenize\n",
    "from sklearn.feature_extraction.text import TfidfTransformer\n",
    "from sklearn.multioutput import MultiOutputClassifier \n",
    "from xgboost import XGBClassifier\n",
    "from sklearn.linear_model import LogisticRegression\n",
    "from sklearn.tree import DecisionTreeClassifier\n",
    "from sklearn.neighbors import KNeighborsClassifier\n",
    "from sklearn.naive_bayes import MultinomialNB\n",
    "from sklearn.metrics import confusion_matrix,f1_score,accuracy_score, classification_report\n",
    "from sklearn.svm import LinearSVC"
   ]
  },
  {
   "cell_type": "code",
   "execution_count": 300,
   "id": "59fb1e77",
   "metadata": {},
   "outputs": [
    {
     "data": {
      "text/html": [
       "<div>\n",
       "<style scoped>\n",
       "    .dataframe tbody tr th:only-of-type {\n",
       "        vertical-align: middle;\n",
       "    }\n",
       "\n",
       "    .dataframe tbody tr th {\n",
       "        vertical-align: top;\n",
       "    }\n",
       "\n",
       "    .dataframe thead th {\n",
       "        text-align: right;\n",
       "    }\n",
       "</style>\n",
       "<table border=\"1\" class=\"dataframe\">\n",
       "  <thead>\n",
       "    <tr style=\"text-align: right;\">\n",
       "      <th></th>\n",
       "      <th>text_final</th>\n",
       "      <th>inter</th>\n",
       "      <th>lab</th>\n",
       "      <th>intervalpgr</th>\n",
       "      <th>lab2</th>\n",
       "    </tr>\n",
       "  </thead>\n",
       "  <tbody>\n",
       "    <tr>\n",
       "      <th>0</th>\n",
       "      <td>carcinom mammell duttal situ aspett tip apocri...</td>\n",
       "      <td>66-100</td>\n",
       "      <td>0</td>\n",
       "      <td>33-66</td>\n",
       "      <td>0</td>\n",
       "    </tr>\n",
       "    <tr>\n",
       "      <th>1</th>\n",
       "      <td>carcinom mammell duttal situ aspett tip apocri...</td>\n",
       "      <td>66-100</td>\n",
       "      <td>0</td>\n",
       "      <td>33-66</td>\n",
       "      <td>0</td>\n",
       "    </tr>\n",
       "    <tr>\n",
       "      <th>2</th>\n",
       "      <td>carcinom invas mammellasottotip duttal nasgrad...</td>\n",
       "      <td>66-100</td>\n",
       "      <td>0</td>\n",
       "      <td>1-33</td>\n",
       "      <td>1</td>\n",
       "    </tr>\n",
       "    <tr>\n",
       "      <th>3</th>\n",
       "      <td>carcinom invas mammellasottotip duttal nasgrad...</td>\n",
       "      <td>66-100</td>\n",
       "      <td>0</td>\n",
       "      <td>1-33</td>\n",
       "      <td>1</td>\n",
       "    </tr>\n",
       "    <tr>\n",
       "      <th>4</th>\n",
       "      <td>risult esam immunoistochim effettuatier propor...</td>\n",
       "      <td>negativo</td>\n",
       "      <td>1</td>\n",
       "      <td>1-33</td>\n",
       "      <td>1</td>\n",
       "    </tr>\n",
       "  </tbody>\n",
       "</table>\n",
       "</div>"
      ],
      "text/plain": [
       "                                          text_final     inter  lab  \\\n",
       "0  carcinom mammell duttal situ aspett tip apocri...    66-100    0   \n",
       "1  carcinom mammell duttal situ aspett tip apocri...    66-100    0   \n",
       "2  carcinom invas mammellasottotip duttal nasgrad...    66-100    0   \n",
       "3  carcinom invas mammellasottotip duttal nasgrad...    66-100    0   \n",
       "4  risult esam immunoistochim effettuatier propor...  negativo    1   \n",
       "\n",
       "  intervalpgr  lab2  \n",
       "0       33-66     0  \n",
       "1       33-66     0  \n",
       "2        1-33     1  \n",
       "3        1-33     1  \n",
       "4        1-33     1  "
      ]
     },
     "execution_count": 300,
     "metadata": {},
     "output_type": "execute_result"
    }
   ],
   "source": [
    "df1['lab2'] = df1['intervalpgr'].factorize()[0]\n",
    "df1.head()"
   ]
  },
  {
   "cell_type": "code",
   "execution_count": 301,
   "id": "47f6bb46",
   "metadata": {},
   "outputs": [],
   "source": [
    "#ER :  0:'66-100',1 : 'NEGATIVO', 2:'33-66', 3: '1-33'\n",
    "#PGR: 0:'33:66',1 : '1-33', 2:'NEGATIVO', 3: '66:100' "
   ]
  },
  {
   "cell_type": "code",
   "execution_count": 387,
   "id": "b7f592c1",
   "metadata": {},
   "outputs": [],
   "source": [
    "X = df1['text_final']\n",
    "y = df1[['lab2','lab']]"
   ]
  },
  {
   "cell_type": "code",
   "execution_count": 303,
   "id": "d04bc93f",
   "metadata": {},
   "outputs": [
    {
     "data": {
      "text/plain": [
       "0        carcinom mammell duttal situ aspett tip apocri...\n",
       "1        carcinom mammell duttal situ aspett tip apocri...\n",
       "2        carcinom invas mammellasottotip duttal nasgrad...\n",
       "3        carcinom invas mammellasottotip duttal nasgrad...\n",
       "4        risult esam immunoistochim effettuatier propor...\n",
       "                               ...                        \n",
       "14823    assett recettorial immunoreattiv membran herne...\n",
       "14824    assett recettorial immunoreattiv membran herne...\n",
       "14825    assett recettorial immunoreattiv membran herne...\n",
       "14826    assett recettorial immunoreattiv membran herne...\n",
       "14827    assett recettorial immunoreattiv membran herne...\n",
       "Name: text_final, Length: 14793, dtype: object"
      ]
     },
     "execution_count": 303,
     "metadata": {},
     "output_type": "execute_result"
    }
   ],
   "source": [
    "X"
   ]
  },
  {
   "cell_type": "code",
   "execution_count": 304,
   "id": "2a0d6e3b",
   "metadata": {},
   "outputs": [
    {
     "data": {
      "text/html": [
       "<div>\n",
       "<style scoped>\n",
       "    .dataframe tbody tr th:only-of-type {\n",
       "        vertical-align: middle;\n",
       "    }\n",
       "\n",
       "    .dataframe tbody tr th {\n",
       "        vertical-align: top;\n",
       "    }\n",
       "\n",
       "    .dataframe thead th {\n",
       "        text-align: right;\n",
       "    }\n",
       "</style>\n",
       "<table border=\"1\" class=\"dataframe\">\n",
       "  <thead>\n",
       "    <tr style=\"text-align: right;\">\n",
       "      <th></th>\n",
       "      <th>lab2</th>\n",
       "      <th>lab</th>\n",
       "    </tr>\n",
       "  </thead>\n",
       "  <tbody>\n",
       "    <tr>\n",
       "      <th>0</th>\n",
       "      <td>0</td>\n",
       "      <td>0</td>\n",
       "    </tr>\n",
       "    <tr>\n",
       "      <th>1</th>\n",
       "      <td>0</td>\n",
       "      <td>0</td>\n",
       "    </tr>\n",
       "    <tr>\n",
       "      <th>2</th>\n",
       "      <td>1</td>\n",
       "      <td>0</td>\n",
       "    </tr>\n",
       "    <tr>\n",
       "      <th>3</th>\n",
       "      <td>1</td>\n",
       "      <td>0</td>\n",
       "    </tr>\n",
       "    <tr>\n",
       "      <th>4</th>\n",
       "      <td>1</td>\n",
       "      <td>1</td>\n",
       "    </tr>\n",
       "    <tr>\n",
       "      <th>...</th>\n",
       "      <td>...</td>\n",
       "      <td>...</td>\n",
       "    </tr>\n",
       "    <tr>\n",
       "      <th>14823</th>\n",
       "      <td>2</td>\n",
       "      <td>0</td>\n",
       "    </tr>\n",
       "    <tr>\n",
       "      <th>14824</th>\n",
       "      <td>3</td>\n",
       "      <td>0</td>\n",
       "    </tr>\n",
       "    <tr>\n",
       "      <th>14825</th>\n",
       "      <td>1</td>\n",
       "      <td>0</td>\n",
       "    </tr>\n",
       "    <tr>\n",
       "      <th>14826</th>\n",
       "      <td>1</td>\n",
       "      <td>0</td>\n",
       "    </tr>\n",
       "    <tr>\n",
       "      <th>14827</th>\n",
       "      <td>2</td>\n",
       "      <td>0</td>\n",
       "    </tr>\n",
       "  </tbody>\n",
       "</table>\n",
       "<p>14793 rows × 2 columns</p>\n",
       "</div>"
      ],
      "text/plain": [
       "       lab2  lab\n",
       "0         0    0\n",
       "1         0    0\n",
       "2         1    0\n",
       "3         1    0\n",
       "4         1    1\n",
       "...     ...  ...\n",
       "14823     2    0\n",
       "14824     3    0\n",
       "14825     1    0\n",
       "14826     1    0\n",
       "14827     2    0\n",
       "\n",
       "[14793 rows x 2 columns]"
      ]
     },
     "execution_count": 304,
     "metadata": {},
     "output_type": "execute_result"
    }
   ],
   "source": [
    "y"
   ]
  },
  {
   "cell_type": "code",
   "execution_count": 388,
   "id": "fb533236",
   "metadata": {},
   "outputs": [],
   "source": [
    "X_train, X_test, y_train, y_test = train_test_split(X, y,test_size=0.33, random_state=42)"
   ]
  },
  {
   "cell_type": "markdown",
   "id": "0cc44603",
   "metadata": {},
   "source": [
    "### XGBoost"
   ]
  },
  {
   "cell_type": "code",
   "execution_count": 306,
   "id": "e72c469d",
   "metadata": {},
   "outputs": [],
   "source": [
    "pipeline_xgb =Pipeline([\n",
    "                ('vect', CountVectorizer(tokenizer=word_tokenize)),\n",
    "                ('tfidf', TfidfTransformer()),\n",
    "                ('clf', MultiOutputClassifier(XGBClassifier())) ])"
   ]
  },
  {
   "cell_type": "code",
   "execution_count": 307,
   "id": "60358be0",
   "metadata": {},
   "outputs": [],
   "source": [
    "xgbparams = {\n",
    "        'clf__estimator__learning_rate':[0.05, 0.10, 0.15, 0.20],\n",
    "         'clf__estimator__max_depth' : [ 3, 4, 5, 6],\n",
    "         \"clf__estimator__min_child_weight\" : [ 1, 3, 5, 7 ],\n",
    "         \"clf__estimator__gamma\": [ 0.0, 0.1, 0.2 , 0.3, 0.4],\n",
    "        \"clf__estimator__colsample_bytree\" : [ 0.3, 0.4, 0.5 , 0.7],\n",
    "}"
   ]
  },
  {
   "cell_type": "code",
   "execution_count": 308,
   "id": "674c3538",
   "metadata": {},
   "outputs": [
    {
     "name": "stdout",
     "output_type": "stream",
     "text": [
      "Fitting 5 folds for each of 5 candidates, totalling 25 fits\n"
     ]
    },
    {
     "name": "stderr",
     "output_type": "stream",
     "text": [
      "C:\\Users\\Paola\\anaconda3\\lib\\site-packages\\sklearn\\model_selection\\_search.py:953: UserWarning: One or more of the test scores are non-finite: [nan nan nan nan nan]\n",
      "  warnings.warn(\n"
     ]
    },
    {
     "data": {
      "text/html": [
       "<style>#sk-container-id-14 {color: black;background-color: white;}#sk-container-id-14 pre{padding: 0;}#sk-container-id-14 div.sk-toggleable {background-color: white;}#sk-container-id-14 label.sk-toggleable__label {cursor: pointer;display: block;width: 100%;margin-bottom: 0;padding: 0.3em;box-sizing: border-box;text-align: center;}#sk-container-id-14 label.sk-toggleable__label-arrow:before {content: \"▸\";float: left;margin-right: 0.25em;color: #696969;}#sk-container-id-14 label.sk-toggleable__label-arrow:hover:before {color: black;}#sk-container-id-14 div.sk-estimator:hover label.sk-toggleable__label-arrow:before {color: black;}#sk-container-id-14 div.sk-toggleable__content {max-height: 0;max-width: 0;overflow: hidden;text-align: left;background-color: #f0f8ff;}#sk-container-id-14 div.sk-toggleable__content pre {margin: 0.2em;color: black;border-radius: 0.25em;background-color: #f0f8ff;}#sk-container-id-14 input.sk-toggleable__control:checked~div.sk-toggleable__content {max-height: 200px;max-width: 100%;overflow: auto;}#sk-container-id-14 input.sk-toggleable__control:checked~label.sk-toggleable__label-arrow:before {content: \"▾\";}#sk-container-id-14 div.sk-estimator input.sk-toggleable__control:checked~label.sk-toggleable__label {background-color: #d4ebff;}#sk-container-id-14 div.sk-label input.sk-toggleable__control:checked~label.sk-toggleable__label {background-color: #d4ebff;}#sk-container-id-14 input.sk-hidden--visually {border: 0;clip: rect(1px 1px 1px 1px);clip: rect(1px, 1px, 1px, 1px);height: 1px;margin: -1px;overflow: hidden;padding: 0;position: absolute;width: 1px;}#sk-container-id-14 div.sk-estimator {font-family: monospace;background-color: #f0f8ff;border: 1px dotted black;border-radius: 0.25em;box-sizing: border-box;margin-bottom: 0.5em;}#sk-container-id-14 div.sk-estimator:hover {background-color: #d4ebff;}#sk-container-id-14 div.sk-parallel-item::after {content: \"\";width: 100%;border-bottom: 1px solid gray;flex-grow: 1;}#sk-container-id-14 div.sk-label:hover label.sk-toggleable__label {background-color: #d4ebff;}#sk-container-id-14 div.sk-serial::before {content: \"\";position: absolute;border-left: 1px solid gray;box-sizing: border-box;top: 0;bottom: 0;left: 50%;z-index: 0;}#sk-container-id-14 div.sk-serial {display: flex;flex-direction: column;align-items: center;background-color: white;padding-right: 0.2em;padding-left: 0.2em;position: relative;}#sk-container-id-14 div.sk-item {position: relative;z-index: 1;}#sk-container-id-14 div.sk-parallel {display: flex;align-items: stretch;justify-content: center;background-color: white;position: relative;}#sk-container-id-14 div.sk-item::before, #sk-container-id-14 div.sk-parallel-item::before {content: \"\";position: absolute;border-left: 1px solid gray;box-sizing: border-box;top: 0;bottom: 0;left: 50%;z-index: -1;}#sk-container-id-14 div.sk-parallel-item {display: flex;flex-direction: column;z-index: 1;position: relative;background-color: white;}#sk-container-id-14 div.sk-parallel-item:first-child::after {align-self: flex-end;width: 50%;}#sk-container-id-14 div.sk-parallel-item:last-child::after {align-self: flex-start;width: 50%;}#sk-container-id-14 div.sk-parallel-item:only-child::after {width: 0;}#sk-container-id-14 div.sk-dashed-wrapped {border: 1px dashed gray;margin: 0 0.4em 0.5em 0.4em;box-sizing: border-box;padding-bottom: 0.4em;background-color: white;}#sk-container-id-14 div.sk-label label {font-family: monospace;font-weight: bold;display: inline-block;line-height: 1.2em;}#sk-container-id-14 div.sk-label-container {text-align: center;}#sk-container-id-14 div.sk-container {/* jupyter's `normalize.less` sets `[hidden] { display: none; }` but bootstrap.min.css set `[hidden] { display: none !important; }` so we also need the `!important` here to be able to override the default hidden behavior on the sphinx rendered scikit-learn.org. See: https://github.com/scikit-learn/scikit-learn/issues/21755 */display: inline-block !important;position: relative;}#sk-container-id-14 div.sk-text-repr-fallback {display: none;}</style><div id=\"sk-container-id-14\" class=\"sk-top-container\"><div class=\"sk-text-repr-fallback\"><pre>RandomizedSearchCV(cv=5,\n",
       "                   estimator=Pipeline(steps=[(&#x27;vect&#x27;,\n",
       "                                              CountVectorizer(tokenizer=&lt;function word_tokenize at 0x00000254425D5AF0&gt;)),\n",
       "                                             (&#x27;tfidf&#x27;, TfidfTransformer()),\n",
       "                                             (&#x27;clf&#x27;,\n",
       "                                              MultiOutputClassifier(estimator=XGBClassifier(base_score=None,\n",
       "                                                                                            booster=None,\n",
       "                                                                                            callbacks=None,\n",
       "                                                                                            colsample_bylevel=None,\n",
       "                                                                                            colsample_bynode=None,\n",
       "                                                                                            colsample_bytree=None,\n",
       "                                                                                            early_stopping_rounds=None,...\n",
       "                                                                                            num_parallel_tree=None,\n",
       "                                                                                            predictor=None,\n",
       "                                                                                            random_state=None, ...)))]),\n",
       "                   n_iter=5, n_jobs=-1,\n",
       "                   param_distributions={&#x27;clf__estimator__colsample_bytree&#x27;: [0.3,\n",
       "                                                                             0.4,\n",
       "                                                                             0.5,\n",
       "                                                                             0.7],\n",
       "                                        &#x27;clf__estimator__gamma&#x27;: [0.0, 0.1, 0.2,\n",
       "                                                                  0.3, 0.4],\n",
       "                                        &#x27;clf__estimator__learning_rate&#x27;: [0.05,\n",
       "                                                                          0.1,\n",
       "                                                                          0.15,\n",
       "                                                                          0.2],\n",
       "                                        &#x27;clf__estimator__max_depth&#x27;: [3, 4, 5,\n",
       "                                                                      6],\n",
       "                                        &#x27;clf__estimator__min_child_weight&#x27;: [1,\n",
       "                                                                             3,\n",
       "                                                                             5,\n",
       "                                                                             7]},\n",
       "                   scoring=&#x27;roc_auc&#x27;, verbose=3)</pre><b>In a Jupyter environment, please rerun this cell to show the HTML representation or trust the notebook. <br />On GitHub, the HTML representation is unable to render, please try loading this page with nbviewer.org.</b></div><div class=\"sk-container\" hidden><div class=\"sk-item sk-dashed-wrapped\"><div class=\"sk-label-container\"><div class=\"sk-label sk-toggleable\"><input class=\"sk-toggleable__control sk-hidden--visually\" id=\"sk-estimator-id-84\" type=\"checkbox\" ><label for=\"sk-estimator-id-84\" class=\"sk-toggleable__label sk-toggleable__label-arrow\">RandomizedSearchCV</label><div class=\"sk-toggleable__content\"><pre>RandomizedSearchCV(cv=5,\n",
       "                   estimator=Pipeline(steps=[(&#x27;vect&#x27;,\n",
       "                                              CountVectorizer(tokenizer=&lt;function word_tokenize at 0x00000254425D5AF0&gt;)),\n",
       "                                             (&#x27;tfidf&#x27;, TfidfTransformer()),\n",
       "                                             (&#x27;clf&#x27;,\n",
       "                                              MultiOutputClassifier(estimator=XGBClassifier(base_score=None,\n",
       "                                                                                            booster=None,\n",
       "                                                                                            callbacks=None,\n",
       "                                                                                            colsample_bylevel=None,\n",
       "                                                                                            colsample_bynode=None,\n",
       "                                                                                            colsample_bytree=None,\n",
       "                                                                                            early_stopping_rounds=None,...\n",
       "                                                                                            num_parallel_tree=None,\n",
       "                                                                                            predictor=None,\n",
       "                                                                                            random_state=None, ...)))]),\n",
       "                   n_iter=5, n_jobs=-1,\n",
       "                   param_distributions={&#x27;clf__estimator__colsample_bytree&#x27;: [0.3,\n",
       "                                                                             0.4,\n",
       "                                                                             0.5,\n",
       "                                                                             0.7],\n",
       "                                        &#x27;clf__estimator__gamma&#x27;: [0.0, 0.1, 0.2,\n",
       "                                                                  0.3, 0.4],\n",
       "                                        &#x27;clf__estimator__learning_rate&#x27;: [0.05,\n",
       "                                                                          0.1,\n",
       "                                                                          0.15,\n",
       "                                                                          0.2],\n",
       "                                        &#x27;clf__estimator__max_depth&#x27;: [3, 4, 5,\n",
       "                                                                      6],\n",
       "                                        &#x27;clf__estimator__min_child_weight&#x27;: [1,\n",
       "                                                                             3,\n",
       "                                                                             5,\n",
       "                                                                             7]},\n",
       "                   scoring=&#x27;roc_auc&#x27;, verbose=3)</pre></div></div></div><div class=\"sk-parallel\"><div class=\"sk-parallel-item\"><div class=\"sk-item\"><div class=\"sk-label-container\"><div class=\"sk-label sk-toggleable\"><input class=\"sk-toggleable__control sk-hidden--visually\" id=\"sk-estimator-id-85\" type=\"checkbox\" ><label for=\"sk-estimator-id-85\" class=\"sk-toggleable__label sk-toggleable__label-arrow\">estimator: Pipeline</label><div class=\"sk-toggleable__content\"><pre>Pipeline(steps=[(&#x27;vect&#x27;,\n",
       "                 CountVectorizer(tokenizer=&lt;function word_tokenize at 0x00000254425D5AF0&gt;)),\n",
       "                (&#x27;tfidf&#x27;, TfidfTransformer()),\n",
       "                (&#x27;clf&#x27;,\n",
       "                 MultiOutputClassifier(estimator=XGBClassifier(base_score=None,\n",
       "                                                               booster=None,\n",
       "                                                               callbacks=None,\n",
       "                                                               colsample_bylevel=None,\n",
       "                                                               colsample_bynode=None,\n",
       "                                                               colsample_bytree=None,\n",
       "                                                               early_stopping_rounds=None,\n",
       "                                                               enable_categorical=False,\n",
       "                                                               eval_metr...\n",
       "                                                               gpu_id=None,\n",
       "                                                               grow_policy=None,\n",
       "                                                               importance_type=None,\n",
       "                                                               interaction_constraints=None,\n",
       "                                                               learning_rate=None,\n",
       "                                                               max_bin=None,\n",
       "                                                               max_cat_threshold=None,\n",
       "                                                               max_cat_to_onehot=None,\n",
       "                                                               max_delta_step=None,\n",
       "                                                               max_depth=None,\n",
       "                                                               max_leaves=None,\n",
       "                                                               min_child_weight=None,\n",
       "                                                               missing=nan,\n",
       "                                                               monotone_constraints=None,\n",
       "                                                               n_estimators=100,\n",
       "                                                               n_jobs=None,\n",
       "                                                               num_parallel_tree=None,\n",
       "                                                               predictor=None,\n",
       "                                                               random_state=None, ...)))])</pre></div></div></div><div class=\"sk-serial\"><div class=\"sk-item\"><div class=\"sk-serial\"><div class=\"sk-item\"><div class=\"sk-estimator sk-toggleable\"><input class=\"sk-toggleable__control sk-hidden--visually\" id=\"sk-estimator-id-86\" type=\"checkbox\" ><label for=\"sk-estimator-id-86\" class=\"sk-toggleable__label sk-toggleable__label-arrow\">CountVectorizer</label><div class=\"sk-toggleable__content\"><pre>CountVectorizer(tokenizer=&lt;function word_tokenize at 0x00000254425D5AF0&gt;)</pre></div></div></div><div class=\"sk-item\"><div class=\"sk-estimator sk-toggleable\"><input class=\"sk-toggleable__control sk-hidden--visually\" id=\"sk-estimator-id-87\" type=\"checkbox\" ><label for=\"sk-estimator-id-87\" class=\"sk-toggleable__label sk-toggleable__label-arrow\">TfidfTransformer</label><div class=\"sk-toggleable__content\"><pre>TfidfTransformer()</pre></div></div></div><div class=\"sk-item sk-dashed-wrapped\"><div class=\"sk-label-container\"><div class=\"sk-label sk-toggleable\"><input class=\"sk-toggleable__control sk-hidden--visually\" id=\"sk-estimator-id-88\" type=\"checkbox\" ><label for=\"sk-estimator-id-88\" class=\"sk-toggleable__label sk-toggleable__label-arrow\">clf: MultiOutputClassifier</label><div class=\"sk-toggleable__content\"><pre>MultiOutputClassifier(estimator=XGBClassifier(base_score=None, booster=None,\n",
       "                                              callbacks=None,\n",
       "                                              colsample_bylevel=None,\n",
       "                                              colsample_bynode=None,\n",
       "                                              colsample_bytree=None,\n",
       "                                              early_stopping_rounds=None,\n",
       "                                              enable_categorical=False,\n",
       "                                              eval_metric=None,\n",
       "                                              feature_types=None, gamma=None,\n",
       "                                              gpu_id=None, grow_policy=None,\n",
       "                                              importance_type=None,\n",
       "                                              interaction_constraints=None,\n",
       "                                              learning_rate=None, max_bin=None,\n",
       "                                              max_cat_threshold=None,\n",
       "                                              max_cat_to_onehot=None,\n",
       "                                              max_delta_step=None,\n",
       "                                              max_depth=None, max_leaves=None,\n",
       "                                              min_child_weight=None,\n",
       "                                              missing=nan,\n",
       "                                              monotone_constraints=None,\n",
       "                                              n_estimators=100, n_jobs=None,\n",
       "                                              num_parallel_tree=None,\n",
       "                                              predictor=None, random_state=None, ...))</pre></div></div></div><div class=\"sk-parallel\"><div class=\"sk-parallel-item\"><div class=\"sk-item\"><div class=\"sk-label-container\"><div class=\"sk-label sk-toggleable\"><input class=\"sk-toggleable__control sk-hidden--visually\" id=\"sk-estimator-id-89\" type=\"checkbox\" ><label for=\"sk-estimator-id-89\" class=\"sk-toggleable__label sk-toggleable__label-arrow\">estimator: XGBClassifier</label><div class=\"sk-toggleable__content\"><pre>XGBClassifier(base_score=None, booster=None, callbacks=None,\n",
       "              colsample_bylevel=None, colsample_bynode=None,\n",
       "              colsample_bytree=None, early_stopping_rounds=None,\n",
       "              enable_categorical=False, eval_metric=None, feature_types=None,\n",
       "              gamma=None, gpu_id=None, grow_policy=None, importance_type=None,\n",
       "              interaction_constraints=None, learning_rate=None, max_bin=None,\n",
       "              max_cat_threshold=None, max_cat_to_onehot=None,\n",
       "              max_delta_step=None, max_depth=None, max_leaves=None,\n",
       "              min_child_weight=None, missing=nan, monotone_constraints=None,\n",
       "              n_estimators=100, n_jobs=None, num_parallel_tree=None,\n",
       "              predictor=None, random_state=None, ...)</pre></div></div></div><div class=\"sk-serial\"><div class=\"sk-item\"><div class=\"sk-estimator sk-toggleable\"><input class=\"sk-toggleable__control sk-hidden--visually\" id=\"sk-estimator-id-90\" type=\"checkbox\" ><label for=\"sk-estimator-id-90\" class=\"sk-toggleable__label sk-toggleable__label-arrow\">XGBClassifier</label><div class=\"sk-toggleable__content\"><pre>XGBClassifier(base_score=None, booster=None, callbacks=None,\n",
       "              colsample_bylevel=None, colsample_bynode=None,\n",
       "              colsample_bytree=None, early_stopping_rounds=None,\n",
       "              enable_categorical=False, eval_metric=None, feature_types=None,\n",
       "              gamma=None, gpu_id=None, grow_policy=None, importance_type=None,\n",
       "              interaction_constraints=None, learning_rate=None, max_bin=None,\n",
       "              max_cat_threshold=None, max_cat_to_onehot=None,\n",
       "              max_delta_step=None, max_depth=None, max_leaves=None,\n",
       "              min_child_weight=None, missing=nan, monotone_constraints=None,\n",
       "              n_estimators=100, n_jobs=None, num_parallel_tree=None,\n",
       "              predictor=None, random_state=None, ...)</pre></div></div></div></div></div></div></div></div></div></div></div></div></div></div></div></div></div>"
      ],
      "text/plain": [
       "RandomizedSearchCV(cv=5,\n",
       "                   estimator=Pipeline(steps=[('vect',\n",
       "                                              CountVectorizer(tokenizer=<function word_tokenize at 0x00000254425D5AF0>)),\n",
       "                                             ('tfidf', TfidfTransformer()),\n",
       "                                             ('clf',\n",
       "                                              MultiOutputClassifier(estimator=XGBClassifier(base_score=None,\n",
       "                                                                                            booster=None,\n",
       "                                                                                            callbacks=None,\n",
       "                                                                                            colsample_bylevel=None,\n",
       "                                                                                            colsample_bynode=None,\n",
       "                                                                                            colsample_bytree=None,\n",
       "                                                                                            early_stopping_rounds=None,...\n",
       "                                                                                            num_parallel_tree=None,\n",
       "                                                                                            predictor=None,\n",
       "                                                                                            random_state=None, ...)))]),\n",
       "                   n_iter=5, n_jobs=-1,\n",
       "                   param_distributions={'clf__estimator__colsample_bytree': [0.3,\n",
       "                                                                             0.4,\n",
       "                                                                             0.5,\n",
       "                                                                             0.7],\n",
       "                                        'clf__estimator__gamma': [0.0, 0.1, 0.2,\n",
       "                                                                  0.3, 0.4],\n",
       "                                        'clf__estimator__learning_rate': [0.05,\n",
       "                                                                          0.1,\n",
       "                                                                          0.15,\n",
       "                                                                          0.2],\n",
       "                                        'clf__estimator__max_depth': [3, 4, 5,\n",
       "                                                                      6],\n",
       "                                        'clf__estimator__min_child_weight': [1,\n",
       "                                                                             3,\n",
       "                                                                             5,\n",
       "                                                                             7]},\n",
       "                   scoring='roc_auc', verbose=3)"
      ]
     },
     "execution_count": 308,
     "metadata": {},
     "output_type": "execute_result"
    }
   ],
   "source": [
    "random_search = RandomizedSearchCV(pipeline_xgb,param_distributions=xgbparams,n_iter=5,scoring='roc_auc',n_jobs=-1,cv=5,verbose=3)\n",
    "random_search.fit(X_train, y_train)"
   ]
  },
  {
   "cell_type": "code",
   "execution_count": 309,
   "id": "ca3c4f22",
   "metadata": {},
   "outputs": [
    {
     "data": {
      "text/html": [
       "<style>#sk-container-id-15 {color: black;background-color: white;}#sk-container-id-15 pre{padding: 0;}#sk-container-id-15 div.sk-toggleable {background-color: white;}#sk-container-id-15 label.sk-toggleable__label {cursor: pointer;display: block;width: 100%;margin-bottom: 0;padding: 0.3em;box-sizing: border-box;text-align: center;}#sk-container-id-15 label.sk-toggleable__label-arrow:before {content: \"▸\";float: left;margin-right: 0.25em;color: #696969;}#sk-container-id-15 label.sk-toggleable__label-arrow:hover:before {color: black;}#sk-container-id-15 div.sk-estimator:hover label.sk-toggleable__label-arrow:before {color: black;}#sk-container-id-15 div.sk-toggleable__content {max-height: 0;max-width: 0;overflow: hidden;text-align: left;background-color: #f0f8ff;}#sk-container-id-15 div.sk-toggleable__content pre {margin: 0.2em;color: black;border-radius: 0.25em;background-color: #f0f8ff;}#sk-container-id-15 input.sk-toggleable__control:checked~div.sk-toggleable__content {max-height: 200px;max-width: 100%;overflow: auto;}#sk-container-id-15 input.sk-toggleable__control:checked~label.sk-toggleable__label-arrow:before {content: \"▾\";}#sk-container-id-15 div.sk-estimator input.sk-toggleable__control:checked~label.sk-toggleable__label {background-color: #d4ebff;}#sk-container-id-15 div.sk-label input.sk-toggleable__control:checked~label.sk-toggleable__label {background-color: #d4ebff;}#sk-container-id-15 input.sk-hidden--visually {border: 0;clip: rect(1px 1px 1px 1px);clip: rect(1px, 1px, 1px, 1px);height: 1px;margin: -1px;overflow: hidden;padding: 0;position: absolute;width: 1px;}#sk-container-id-15 div.sk-estimator {font-family: monospace;background-color: #f0f8ff;border: 1px dotted black;border-radius: 0.25em;box-sizing: border-box;margin-bottom: 0.5em;}#sk-container-id-15 div.sk-estimator:hover {background-color: #d4ebff;}#sk-container-id-15 div.sk-parallel-item::after {content: \"\";width: 100%;border-bottom: 1px solid gray;flex-grow: 1;}#sk-container-id-15 div.sk-label:hover label.sk-toggleable__label {background-color: #d4ebff;}#sk-container-id-15 div.sk-serial::before {content: \"\";position: absolute;border-left: 1px solid gray;box-sizing: border-box;top: 0;bottom: 0;left: 50%;z-index: 0;}#sk-container-id-15 div.sk-serial {display: flex;flex-direction: column;align-items: center;background-color: white;padding-right: 0.2em;padding-left: 0.2em;position: relative;}#sk-container-id-15 div.sk-item {position: relative;z-index: 1;}#sk-container-id-15 div.sk-parallel {display: flex;align-items: stretch;justify-content: center;background-color: white;position: relative;}#sk-container-id-15 div.sk-item::before, #sk-container-id-15 div.sk-parallel-item::before {content: \"\";position: absolute;border-left: 1px solid gray;box-sizing: border-box;top: 0;bottom: 0;left: 50%;z-index: -1;}#sk-container-id-15 div.sk-parallel-item {display: flex;flex-direction: column;z-index: 1;position: relative;background-color: white;}#sk-container-id-15 div.sk-parallel-item:first-child::after {align-self: flex-end;width: 50%;}#sk-container-id-15 div.sk-parallel-item:last-child::after {align-self: flex-start;width: 50%;}#sk-container-id-15 div.sk-parallel-item:only-child::after {width: 0;}#sk-container-id-15 div.sk-dashed-wrapped {border: 1px dashed gray;margin: 0 0.4em 0.5em 0.4em;box-sizing: border-box;padding-bottom: 0.4em;background-color: white;}#sk-container-id-15 div.sk-label label {font-family: monospace;font-weight: bold;display: inline-block;line-height: 1.2em;}#sk-container-id-15 div.sk-label-container {text-align: center;}#sk-container-id-15 div.sk-container {/* jupyter's `normalize.less` sets `[hidden] { display: none; }` but bootstrap.min.css set `[hidden] { display: none !important; }` so we also need the `!important` here to be able to override the default hidden behavior on the sphinx rendered scikit-learn.org. See: https://github.com/scikit-learn/scikit-learn/issues/21755 */display: inline-block !important;position: relative;}#sk-container-id-15 div.sk-text-repr-fallback {display: none;}</style><div id=\"sk-container-id-15\" class=\"sk-top-container\"><div class=\"sk-text-repr-fallback\"><pre>Pipeline(steps=[(&#x27;vect&#x27;,\n",
       "                 CountVectorizer(tokenizer=&lt;function word_tokenize at 0x00000254425D5AF0&gt;)),\n",
       "                (&#x27;tfidf&#x27;, TfidfTransformer()),\n",
       "                (&#x27;clf&#x27;,\n",
       "                 MultiOutputClassifier(estimator=XGBClassifier(base_score=None,\n",
       "                                                               booster=None,\n",
       "                                                               callbacks=None,\n",
       "                                                               colsample_bylevel=None,\n",
       "                                                               colsample_bynode=None,\n",
       "                                                               colsample_bytree=0.3,\n",
       "                                                               early_stopping_rounds=None,\n",
       "                                                               enable_categorical=False,\n",
       "                                                               eval_metri...\n",
       "                                                               gpu_id=None,\n",
       "                                                               grow_policy=None,\n",
       "                                                               importance_type=None,\n",
       "                                                               interaction_constraints=None,\n",
       "                                                               learning_rate=0.2,\n",
       "                                                               max_bin=None,\n",
       "                                                               max_cat_threshold=None,\n",
       "                                                               max_cat_to_onehot=None,\n",
       "                                                               max_delta_step=None,\n",
       "                                                               max_depth=5,\n",
       "                                                               max_leaves=None,\n",
       "                                                               min_child_weight=5,\n",
       "                                                               missing=nan,\n",
       "                                                               monotone_constraints=None,\n",
       "                                                               n_estimators=100,\n",
       "                                                               n_jobs=None,\n",
       "                                                               num_parallel_tree=None,\n",
       "                                                               predictor=None,\n",
       "                                                               random_state=None, ...)))])</pre><b>In a Jupyter environment, please rerun this cell to show the HTML representation or trust the notebook. <br />On GitHub, the HTML representation is unable to render, please try loading this page with nbviewer.org.</b></div><div class=\"sk-container\" hidden><div class=\"sk-item sk-dashed-wrapped\"><div class=\"sk-label-container\"><div class=\"sk-label sk-toggleable\"><input class=\"sk-toggleable__control sk-hidden--visually\" id=\"sk-estimator-id-91\" type=\"checkbox\" ><label for=\"sk-estimator-id-91\" class=\"sk-toggleable__label sk-toggleable__label-arrow\">Pipeline</label><div class=\"sk-toggleable__content\"><pre>Pipeline(steps=[(&#x27;vect&#x27;,\n",
       "                 CountVectorizer(tokenizer=&lt;function word_tokenize at 0x00000254425D5AF0&gt;)),\n",
       "                (&#x27;tfidf&#x27;, TfidfTransformer()),\n",
       "                (&#x27;clf&#x27;,\n",
       "                 MultiOutputClassifier(estimator=XGBClassifier(base_score=None,\n",
       "                                                               booster=None,\n",
       "                                                               callbacks=None,\n",
       "                                                               colsample_bylevel=None,\n",
       "                                                               colsample_bynode=None,\n",
       "                                                               colsample_bytree=0.3,\n",
       "                                                               early_stopping_rounds=None,\n",
       "                                                               enable_categorical=False,\n",
       "                                                               eval_metri...\n",
       "                                                               gpu_id=None,\n",
       "                                                               grow_policy=None,\n",
       "                                                               importance_type=None,\n",
       "                                                               interaction_constraints=None,\n",
       "                                                               learning_rate=0.2,\n",
       "                                                               max_bin=None,\n",
       "                                                               max_cat_threshold=None,\n",
       "                                                               max_cat_to_onehot=None,\n",
       "                                                               max_delta_step=None,\n",
       "                                                               max_depth=5,\n",
       "                                                               max_leaves=None,\n",
       "                                                               min_child_weight=5,\n",
       "                                                               missing=nan,\n",
       "                                                               monotone_constraints=None,\n",
       "                                                               n_estimators=100,\n",
       "                                                               n_jobs=None,\n",
       "                                                               num_parallel_tree=None,\n",
       "                                                               predictor=None,\n",
       "                                                               random_state=None, ...)))])</pre></div></div></div><div class=\"sk-serial\"><div class=\"sk-item\"><div class=\"sk-estimator sk-toggleable\"><input class=\"sk-toggleable__control sk-hidden--visually\" id=\"sk-estimator-id-92\" type=\"checkbox\" ><label for=\"sk-estimator-id-92\" class=\"sk-toggleable__label sk-toggleable__label-arrow\">CountVectorizer</label><div class=\"sk-toggleable__content\"><pre>CountVectorizer(tokenizer=&lt;function word_tokenize at 0x00000254425D5AF0&gt;)</pre></div></div></div><div class=\"sk-item\"><div class=\"sk-estimator sk-toggleable\"><input class=\"sk-toggleable__control sk-hidden--visually\" id=\"sk-estimator-id-93\" type=\"checkbox\" ><label for=\"sk-estimator-id-93\" class=\"sk-toggleable__label sk-toggleable__label-arrow\">TfidfTransformer</label><div class=\"sk-toggleable__content\"><pre>TfidfTransformer()</pre></div></div></div><div class=\"sk-item sk-dashed-wrapped\"><div class=\"sk-label-container\"><div class=\"sk-label sk-toggleable\"><input class=\"sk-toggleable__control sk-hidden--visually\" id=\"sk-estimator-id-94\" type=\"checkbox\" ><label for=\"sk-estimator-id-94\" class=\"sk-toggleable__label sk-toggleable__label-arrow\">clf: MultiOutputClassifier</label><div class=\"sk-toggleable__content\"><pre>MultiOutputClassifier(estimator=XGBClassifier(base_score=None, booster=None,\n",
       "                                              callbacks=None,\n",
       "                                              colsample_bylevel=None,\n",
       "                                              colsample_bynode=None,\n",
       "                                              colsample_bytree=0.3,\n",
       "                                              early_stopping_rounds=None,\n",
       "                                              enable_categorical=False,\n",
       "                                              eval_metric=None,\n",
       "                                              feature_types=None, gamma=0.3,\n",
       "                                              gpu_id=None, grow_policy=None,\n",
       "                                              importance_type=None,\n",
       "                                              interaction_constraints=None,\n",
       "                                              learning_rate=0.2, max_bin=None,\n",
       "                                              max_cat_threshold=None,\n",
       "                                              max_cat_to_onehot=None,\n",
       "                                              max_delta_step=None, max_depth=5,\n",
       "                                              max_leaves=None,\n",
       "                                              min_child_weight=5, missing=nan,\n",
       "                                              monotone_constraints=None,\n",
       "                                              n_estimators=100, n_jobs=None,\n",
       "                                              num_parallel_tree=None,\n",
       "                                              predictor=None, random_state=None, ...))</pre></div></div></div><div class=\"sk-parallel\"><div class=\"sk-parallel-item\"><div class=\"sk-item\"><div class=\"sk-label-container\"><div class=\"sk-label sk-toggleable\"><input class=\"sk-toggleable__control sk-hidden--visually\" id=\"sk-estimator-id-95\" type=\"checkbox\" ><label for=\"sk-estimator-id-95\" class=\"sk-toggleable__label sk-toggleable__label-arrow\">estimator: XGBClassifier</label><div class=\"sk-toggleable__content\"><pre>XGBClassifier(base_score=None, booster=None, callbacks=None,\n",
       "              colsample_bylevel=None, colsample_bynode=None,\n",
       "              colsample_bytree=0.3, early_stopping_rounds=None,\n",
       "              enable_categorical=False, eval_metric=None, feature_types=None,\n",
       "              gamma=0.3, gpu_id=None, grow_policy=None, importance_type=None,\n",
       "              interaction_constraints=None, learning_rate=0.2, max_bin=None,\n",
       "              max_cat_threshold=None, max_cat_to_onehot=None,\n",
       "              max_delta_step=None, max_depth=5, max_leaves=None,\n",
       "              min_child_weight=5, missing=nan, monotone_constraints=None,\n",
       "              n_estimators=100, n_jobs=None, num_parallel_tree=None,\n",
       "              predictor=None, random_state=None, ...)</pre></div></div></div><div class=\"sk-serial\"><div class=\"sk-item\"><div class=\"sk-estimator sk-toggleable\"><input class=\"sk-toggleable__control sk-hidden--visually\" id=\"sk-estimator-id-96\" type=\"checkbox\" ><label for=\"sk-estimator-id-96\" class=\"sk-toggleable__label sk-toggleable__label-arrow\">XGBClassifier</label><div class=\"sk-toggleable__content\"><pre>XGBClassifier(base_score=None, booster=None, callbacks=None,\n",
       "              colsample_bylevel=None, colsample_bynode=None,\n",
       "              colsample_bytree=0.3, early_stopping_rounds=None,\n",
       "              enable_categorical=False, eval_metric=None, feature_types=None,\n",
       "              gamma=0.3, gpu_id=None, grow_policy=None, importance_type=None,\n",
       "              interaction_constraints=None, learning_rate=0.2, max_bin=None,\n",
       "              max_cat_threshold=None, max_cat_to_onehot=None,\n",
       "              max_delta_step=None, max_depth=5, max_leaves=None,\n",
       "              min_child_weight=5, missing=nan, monotone_constraints=None,\n",
       "              n_estimators=100, n_jobs=None, num_parallel_tree=None,\n",
       "              predictor=None, random_state=None, ...)</pre></div></div></div></div></div></div></div></div></div></div></div></div>"
      ],
      "text/plain": [
       "Pipeline(steps=[('vect',\n",
       "                 CountVectorizer(tokenizer=<function word_tokenize at 0x00000254425D5AF0>)),\n",
       "                ('tfidf', TfidfTransformer()),\n",
       "                ('clf',\n",
       "                 MultiOutputClassifier(estimator=XGBClassifier(base_score=None,\n",
       "                                                               booster=None,\n",
       "                                                               callbacks=None,\n",
       "                                                               colsample_bylevel=None,\n",
       "                                                               colsample_bynode=None,\n",
       "                                                               colsample_bytree=0.3,\n",
       "                                                               early_stopping_rounds=None,\n",
       "                                                               enable_categorical=False,\n",
       "                                                               eval_metri...\n",
       "                                                               gpu_id=None,\n",
       "                                                               grow_policy=None,\n",
       "                                                               importance_type=None,\n",
       "                                                               interaction_constraints=None,\n",
       "                                                               learning_rate=0.2,\n",
       "                                                               max_bin=None,\n",
       "                                                               max_cat_threshold=None,\n",
       "                                                               max_cat_to_onehot=None,\n",
       "                                                               max_delta_step=None,\n",
       "                                                               max_depth=5,\n",
       "                                                               max_leaves=None,\n",
       "                                                               min_child_weight=5,\n",
       "                                                               missing=nan,\n",
       "                                                               monotone_constraints=None,\n",
       "                                                               n_estimators=100,\n",
       "                                                               n_jobs=None,\n",
       "                                                               num_parallel_tree=None,\n",
       "                                                               predictor=None,\n",
       "                                                               random_state=None, ...)))])"
      ]
     },
     "execution_count": 309,
     "metadata": {},
     "output_type": "execute_result"
    }
   ],
   "source": [
    "xgb = random_search.best_estimator_\n",
    "xgb"
   ]
  },
  {
   "cell_type": "code",
   "execution_count": 310,
   "id": "09dbff67",
   "metadata": {},
   "outputs": [
    {
     "data": {
      "text/plain": [
       "array([[2, 1],\n",
       "       [1, 0],\n",
       "       [2, 1],\n",
       "       ...,\n",
       "       [3, 0],\n",
       "       [3, 0],\n",
       "       [3, 0]], dtype=int64)"
      ]
     },
     "execution_count": 310,
     "metadata": {},
     "output_type": "execute_result"
    }
   ],
   "source": [
    "pred_xgb = xgb.predict(X_test)\n",
    "pred_xgb"
   ]
  },
  {
   "cell_type": "code",
   "execution_count": 311,
   "id": "7b99f842",
   "metadata": {},
   "outputs": [],
   "source": [
    "#function in order to extract first and second element\n",
    "def Extract(lst):\n",
    "    l1 = []\n",
    "    l1 = [item[0] for item in lst]\n",
    "    return l1\n",
    "\n",
    "def Extract2(lst):\n",
    "    l1 = []\n",
    "    l1 = [item[1] for item in lst]\n",
    "    return l1\n"
   ]
  },
  {
   "cell_type": "code",
   "execution_count": 312,
   "id": "e0b4c78a",
   "metadata": {},
   "outputs": [],
   "source": [
    "f1_score_pgr = []\n",
    "f1_score_er = []"
   ]
  },
  {
   "cell_type": "code",
   "execution_count": 313,
   "id": "35b3aa24",
   "metadata": {},
   "outputs": [
    {
     "data": {
      "text/plain": [
       "0.6731477572998379"
      ]
     },
     "execution_count": 313,
     "metadata": {},
     "output_type": "execute_result"
    }
   ],
   "source": [
    "e1 = Extract(pred_xgb)\n",
    "e2 = y_test['lab2']\n",
    "f1_pr_xgb = f1_score(e2, e1, average = 'weighted')\n",
    "f1_pr_xgb"
   ]
  },
  {
   "cell_type": "code",
   "execution_count": 314,
   "id": "cb793c4d",
   "metadata": {},
   "outputs": [
    {
     "data": {
      "text/plain": [
       "0.8922933528868316"
      ]
     },
     "execution_count": 314,
     "metadata": {},
     "output_type": "execute_result"
    }
   ],
   "source": [
    "e3 = Extract2(pred_xgb)\n",
    "e4 = y_test['lab']\n",
    "f1_er_xgb = f1_score(e4, e3, average = 'weighted')\n",
    "              #'weighted')\n",
    "f1_er_xgb"
   ]
  },
  {
   "cell_type": "code",
   "execution_count": 315,
   "id": "6583d358",
   "metadata": {},
   "outputs": [
    {
     "data": {
      "text/plain": [
       "0.6540352314625154"
      ]
     },
     "execution_count": 315,
     "metadata": {},
     "output_type": "execute_result"
    }
   ],
   "source": [
    "#see that accuracy is less than f1 score thats due unbalanced data\n",
    "xgb.fit(X_train,y_train)\n",
    "xgb_score = xgb.score(X_test,y_test)\n",
    "xgb_score"
   ]
  },
  {
   "cell_type": "code",
   "execution_count": 316,
   "id": "6bdbfafa",
   "metadata": {},
   "outputs": [
    {
     "name": "stdout",
     "output_type": "stream",
     "text": [
      "              precision    recall  f1-score   support\n",
      "\n",
      "           0       0.69      0.14      0.23       493\n",
      "           1       0.72      0.44      0.55      1190\n",
      "           2       0.85      0.79      0.82      1070\n",
      "           3       0.65      0.94      0.77      2129\n",
      "\n",
      "    accuracy                           0.70      4882\n",
      "   macro avg       0.73      0.58      0.59      4882\n",
      "weighted avg       0.72      0.70      0.67      4882\n",
      "\n"
     ]
    }
   ],
   "source": [
    "#print(multilabel_confusion_matrix(y_test, pred_xgb[1]))\n",
    "print(classification_report(e2, e1))\n",
    "\n",
    "#PGR: 0:'33:66',1 : '1-33', 2:'NEGATIVO', 3: '66:100' \n"
   ]
  },
  {
   "cell_type": "code",
   "execution_count": 317,
   "id": "6473fb4b",
   "metadata": {},
   "outputs": [
    {
     "name": "stdout",
     "output_type": "stream",
     "text": [
      "              precision    recall  f1-score   support\n",
      "\n",
      "           0       0.90      0.99      0.95      3781\n",
      "           1       0.92      0.69      0.79       609\n",
      "           2       0.85      0.18      0.29       129\n",
      "           3       0.95      0.59      0.72       363\n",
      "\n",
      "    accuracy                           0.90      4882\n",
      "   macro avg       0.90      0.61      0.69      4882\n",
      "weighted avg       0.91      0.90      0.89      4882\n",
      "\n"
     ]
    }
   ],
   "source": [
    "#ER :  0:'66-100',1 : 'NEGATIVO', 2:'33-66', 3: '1-33'\n",
    "print(classification_report(e4, e3))\n",
    "\n",
    "#WORST PREDICTION IN 33-66 but it's the class with lowest support"
   ]
  },
  {
   "cell_type": "code",
   "execution_count": 318,
   "id": "57e63643",
   "metadata": {},
   "outputs": [
    {
     "data": {
      "text/plain": [
       "{'1-33': 1, '33-66': 0, '66-100': 3, 'negativo': 2}"
      ]
     },
     "execution_count": 318,
     "metadata": {},
     "output_type": "execute_result"
    }
   ],
   "source": [
    "label_id_df = df1[['intervalpgr', 'lab2']].drop_duplicates().sort_values('intervalpgr')\n",
    "label_to_id = dict(label_id_df.values)\n",
    "label_to_id"
   ]
  },
  {
   "cell_type": "code",
   "execution_count": 319,
   "id": "c6fdafa8",
   "metadata": {},
   "outputs": [
    {
     "data": {
      "text/plain": [
       "{'66-100': 0, 'negativo': 1, '33-66': 2, '1-33': 3}"
      ]
     },
     "execution_count": 319,
     "metadata": {},
     "output_type": "execute_result"
    }
   ],
   "source": [
    "label_id_df = df1[['inter', 'lab']].drop_duplicates().sort_values('lab')\n",
    "label_to_id = dict(label_id_df.values)\n",
    "label_to_id\n"
   ]
  },
  {
   "cell_type": "code",
   "execution_count": 320,
   "id": "1cc5c6ba",
   "metadata": {},
   "outputs": [
    {
     "data": {
      "image/png": "[encoded data removed]",
      "text/plain": [
       "<Figure size 576x432 with 2 Axes>"
      ]
     },
     "metadata": {
      "needs_background": "light"
     },
     "output_type": "display_data"
    }
   ],
   "source": [
    "#example on er\n",
    "conf_mat = confusion_matrix(e4, e3)\n",
    "fig, ax = plt.subplots(figsize=(8,6))\n",
    "sns.heatmap(conf_mat, annot=True, fmt='d',\n",
    "            xticklabels=['66-100', '33-66','0-33','negativo'], yticklabels=['66-100', '33-66','0-33','negativo'])\n",
    "            #yticklabels=label_id_df.intervalpgr.values)\n",
    "plt.ylabel('Actual')\n",
    "plt.xlabel('Predicted')\n",
    "plt.show()"
   ]
  },
  {
   "cell_type": "markdown",
   "id": "6ab80daa",
   "metadata": {},
   "source": [
    "### Logistic regression"
   ]
  },
  {
   "cell_type": "code",
   "execution_count": 321,
   "id": "33a01b78",
   "metadata": {},
   "outputs": [],
   "source": [
    "pipe_lr = Pipeline(steps=[('vect', CountVectorizer(tokenizer=word_tokenize)),\n",
    "                          ('tfidf', TfidfTransformer()),\n",
    "                          ('lr_multi',MultiOutputClassifier(LogisticRegression(multi_class='multinomial')))])\n",
    "# ('lr_multi',MultiOutputClassifier(LogisticRegression(multi_class='multinomial')))])"
   ]
  },
  {
   "cell_type": "code",
   "execution_count": 322,
   "id": "023caf76",
   "metadata": {},
   "outputs": [],
   "source": [
    "lrparam= {\n",
    "          'lr_multi__estimator__C': [0.001, 0.01, 0.05, 0.1, 0.5, 1.0, 10.0], #penality strengh,\n",
    "          #'lr_multi__estimator__multi_class' : ['multinomial', 'ovr']\n",
    "    \n",
    "  #  Solver lbfgs supports only 'l2' or 'none' penalties, got l1 penalty.\n",
    "\n",
    "         }"
   ]
  },
  {
   "cell_type": "code",
   "execution_count": 323,
   "id": "f3154ebd",
   "metadata": {},
   "outputs": [
    {
     "name": "stdout",
     "output_type": "stream",
     "text": [
      "Fitting 5 folds for each of 5 candidates, totalling 25 fits\n"
     ]
    },
    {
     "name": "stderr",
     "output_type": "stream",
     "text": [
      "C:\\Users\\Paola\\anaconda3\\lib\\site-packages\\sklearn\\model_selection\\_search.py:953: UserWarning: One or more of the test scores are non-finite: [nan nan nan nan nan]\n",
      "  warnings.warn(\n",
      "C:\\Users\\Paola\\anaconda3\\lib\\site-packages\\sklearn\\linear_model\\_logistic.py:444: ConvergenceWarning: lbfgs failed to converge (status=1):\n",
      "STOP: TOTAL NO. of ITERATIONS REACHED LIMIT.\n",
      "\n",
      "Increase the number of iterations (max_iter) or scale the data as shown in:\n",
      "    https://scikit-learn.org/stable/modules/preprocessing.html\n",
      "Please also refer to the documentation for alternative solver options:\n",
      "    https://scikit-learn.org/stable/modules/linear_model.html#logistic-regression\n",
      "  n_iter_i = _check_optimize_result(\n",
      "C:\\Users\\Paola\\anaconda3\\lib\\site-packages\\sklearn\\linear_model\\_logistic.py:444: ConvergenceWarning: lbfgs failed to converge (status=1):\n",
      "STOP: TOTAL NO. of ITERATIONS REACHED LIMIT.\n",
      "\n",
      "Increase the number of iterations (max_iter) or scale the data as shown in:\n",
      "    https://scikit-learn.org/stable/modules/preprocessing.html\n",
      "Please also refer to the documentation for alternative solver options:\n",
      "    https://scikit-learn.org/stable/modules/linear_model.html#logistic-regression\n",
      "  n_iter_i = _check_optimize_result(\n"
     ]
    },
    {
     "data": {
      "text/html": [
       "<style>#sk-container-id-16 {color: black;background-color: white;}#sk-container-id-16 pre{padding: 0;}#sk-container-id-16 div.sk-toggleable {background-color: white;}#sk-container-id-16 label.sk-toggleable__label {cursor: pointer;display: block;width: 100%;margin-bottom: 0;padding: 0.3em;box-sizing: border-box;text-align: center;}#sk-container-id-16 label.sk-toggleable__label-arrow:before {content: \"▸\";float: left;margin-right: 0.25em;color: #696969;}#sk-container-id-16 label.sk-toggleable__label-arrow:hover:before {color: black;}#sk-container-id-16 div.sk-estimator:hover label.sk-toggleable__label-arrow:before {color: black;}#sk-container-id-16 div.sk-toggleable__content {max-height: 0;max-width: 0;overflow: hidden;text-align: left;background-color: #f0f8ff;}#sk-container-id-16 div.sk-toggleable__content pre {margin: 0.2em;color: black;border-radius: 0.25em;background-color: #f0f8ff;}#sk-container-id-16 input.sk-toggleable__control:checked~div.sk-toggleable__content {max-height: 200px;max-width: 100%;overflow: auto;}#sk-container-id-16 input.sk-toggleable__control:checked~label.sk-toggleable__label-arrow:before {content: \"▾\";}#sk-container-id-16 div.sk-estimator input.sk-toggleable__control:checked~label.sk-toggleable__label {background-color: #d4ebff;}#sk-container-id-16 div.sk-label input.sk-toggleable__control:checked~label.sk-toggleable__label {background-color: #d4ebff;}#sk-container-id-16 input.sk-hidden--visually {border: 0;clip: rect(1px 1px 1px 1px);clip: rect(1px, 1px, 1px, 1px);height: 1px;margin: -1px;overflow: hidden;padding: 0;position: absolute;width: 1px;}#sk-container-id-16 div.sk-estimator {font-family: monospace;background-color: #f0f8ff;border: 1px dotted black;border-radius: 0.25em;box-sizing: border-box;margin-bottom: 0.5em;}#sk-container-id-16 div.sk-estimator:hover {background-color: #d4ebff;}#sk-container-id-16 div.sk-parallel-item::after {content: \"\";width: 100%;border-bottom: 1px solid gray;flex-grow: 1;}#sk-container-id-16 div.sk-label:hover label.sk-toggleable__label {background-color: #d4ebff;}#sk-container-id-16 div.sk-serial::before {content: \"\";position: absolute;border-left: 1px solid gray;box-sizing: border-box;top: 0;bottom: 0;left: 50%;z-index: 0;}#sk-container-id-16 div.sk-serial {display: flex;flex-direction: column;align-items: center;background-color: white;padding-right: 0.2em;padding-left: 0.2em;position: relative;}#sk-container-id-16 div.sk-item {position: relative;z-index: 1;}#sk-container-id-16 div.sk-parallel {display: flex;align-items: stretch;justify-content: center;background-color: white;position: relative;}#sk-container-id-16 div.sk-item::before, #sk-container-id-16 div.sk-parallel-item::before {content: \"\";position: absolute;border-left: 1px solid gray;box-sizing: border-box;top: 0;bottom: 0;left: 50%;z-index: -1;}#sk-container-id-16 div.sk-parallel-item {display: flex;flex-direction: column;z-index: 1;position: relative;background-color: white;}#sk-container-id-16 div.sk-parallel-item:first-child::after {align-self: flex-end;width: 50%;}#sk-container-id-16 div.sk-parallel-item:last-child::after {align-self: flex-start;width: 50%;}#sk-container-id-16 div.sk-parallel-item:only-child::after {width: 0;}#sk-container-id-16 div.sk-dashed-wrapped {border: 1px dashed gray;margin: 0 0.4em 0.5em 0.4em;box-sizing: border-box;padding-bottom: 0.4em;background-color: white;}#sk-container-id-16 div.sk-label label {font-family: monospace;font-weight: bold;display: inline-block;line-height: 1.2em;}#sk-container-id-16 div.sk-label-container {text-align: center;}#sk-container-id-16 div.sk-container {/* jupyter's `normalize.less` sets `[hidden] { display: none; }` but bootstrap.min.css set `[hidden] { display: none !important; }` so we also need the `!important` here to be able to override the default hidden behavior on the sphinx rendered scikit-learn.org. See: https://github.com/scikit-learn/scikit-learn/issues/21755 */display: inline-block !important;position: relative;}#sk-container-id-16 div.sk-text-repr-fallback {display: none;}</style><div id=\"sk-container-id-16\" class=\"sk-top-container\"><div class=\"sk-text-repr-fallback\"><pre>RandomizedSearchCV(cv=5,\n",
       "                   estimator=Pipeline(steps=[(&#x27;vect&#x27;,\n",
       "                                              CountVectorizer(tokenizer=&lt;function word_tokenize at 0x00000254425D5AF0&gt;)),\n",
       "                                             (&#x27;tfidf&#x27;, TfidfTransformer()),\n",
       "                                             (&#x27;lr_multi&#x27;,\n",
       "                                              MultiOutputClassifier(estimator=LogisticRegression(multi_class=&#x27;multinomial&#x27;)))]),\n",
       "                   n_iter=5, n_jobs=-1,\n",
       "                   param_distributions={&#x27;lr_multi__estimator__C&#x27;: [0.001, 0.01,\n",
       "                                                                   0.05, 0.1,\n",
       "                                                                   0.5, 1.0,\n",
       "                                                                   10.0]},\n",
       "                   scoring=&#x27;roc_auc&#x27;, verbose=3)</pre><b>In a Jupyter environment, please rerun this cell to show the HTML representation or trust the notebook. <br />On GitHub, the HTML representation is unable to render, please try loading this page with nbviewer.org.</b></div><div class=\"sk-container\" hidden><div class=\"sk-item sk-dashed-wrapped\"><div class=\"sk-label-container\"><div class=\"sk-label sk-toggleable\"><input class=\"sk-toggleable__control sk-hidden--visually\" id=\"sk-estimator-id-97\" type=\"checkbox\" ><label for=\"sk-estimator-id-97\" class=\"sk-toggleable__label sk-toggleable__label-arrow\">RandomizedSearchCV</label><div class=\"sk-toggleable__content\"><pre>RandomizedSearchCV(cv=5,\n",
       "                   estimator=Pipeline(steps=[(&#x27;vect&#x27;,\n",
       "                                              CountVectorizer(tokenizer=&lt;function word_tokenize at 0x00000254425D5AF0&gt;)),\n",
       "                                             (&#x27;tfidf&#x27;, TfidfTransformer()),\n",
       "                                             (&#x27;lr_multi&#x27;,\n",
       "                                              MultiOutputClassifier(estimator=LogisticRegression(multi_class=&#x27;multinomial&#x27;)))]),\n",
       "                   n_iter=5, n_jobs=-1,\n",
       "                   param_distributions={&#x27;lr_multi__estimator__C&#x27;: [0.001, 0.01,\n",
       "                                                                   0.05, 0.1,\n",
       "                                                                   0.5, 1.0,\n",
       "                                                                   10.0]},\n",
       "                   scoring=&#x27;roc_auc&#x27;, verbose=3)</pre></div></div></div><div class=\"sk-parallel\"><div class=\"sk-parallel-item\"><div class=\"sk-item\"><div class=\"sk-label-container\"><div class=\"sk-label sk-toggleable\"><input class=\"sk-toggleable__control sk-hidden--visually\" id=\"sk-estimator-id-98\" type=\"checkbox\" ><label for=\"sk-estimator-id-98\" class=\"sk-toggleable__label sk-toggleable__label-arrow\">estimator: Pipeline</label><div class=\"sk-toggleable__content\"><pre>Pipeline(steps=[(&#x27;vect&#x27;,\n",
       "                 CountVectorizer(tokenizer=&lt;function word_tokenize at 0x00000254425D5AF0&gt;)),\n",
       "                (&#x27;tfidf&#x27;, TfidfTransformer()),\n",
       "                (&#x27;lr_multi&#x27;,\n",
       "                 MultiOutputClassifier(estimator=LogisticRegression(multi_class=&#x27;multinomial&#x27;)))])</pre></div></div></div><div class=\"sk-serial\"><div class=\"sk-item\"><div class=\"sk-serial\"><div class=\"sk-item\"><div class=\"sk-estimator sk-toggleable\"><input class=\"sk-toggleable__control sk-hidden--visually\" id=\"sk-estimator-id-99\" type=\"checkbox\" ><label for=\"sk-estimator-id-99\" class=\"sk-toggleable__label sk-toggleable__label-arrow\">CountVectorizer</label><div class=\"sk-toggleable__content\"><pre>CountVectorizer(tokenizer=&lt;function word_tokenize at 0x00000254425D5AF0&gt;)</pre></div></div></div><div class=\"sk-item\"><div class=\"sk-estimator sk-toggleable\"><input class=\"sk-toggleable__control sk-hidden--visually\" id=\"sk-estimator-id-100\" type=\"checkbox\" ><label for=\"sk-estimator-id-100\" class=\"sk-toggleable__label sk-toggleable__label-arrow\">TfidfTransformer</label><div class=\"sk-toggleable__content\"><pre>TfidfTransformer()</pre></div></div></div><div class=\"sk-item sk-dashed-wrapped\"><div class=\"sk-label-container\"><div class=\"sk-label sk-toggleable\"><input class=\"sk-toggleable__control sk-hidden--visually\" id=\"sk-estimator-id-101\" type=\"checkbox\" ><label for=\"sk-estimator-id-101\" class=\"sk-toggleable__label sk-toggleable__label-arrow\">lr_multi: MultiOutputClassifier</label><div class=\"sk-toggleable__content\"><pre>MultiOutputClassifier(estimator=LogisticRegression(multi_class=&#x27;multinomial&#x27;))</pre></div></div></div><div class=\"sk-parallel\"><div class=\"sk-parallel-item\"><div class=\"sk-item\"><div class=\"sk-label-container\"><div class=\"sk-label sk-toggleable\"><input class=\"sk-toggleable__control sk-hidden--visually\" id=\"sk-estimator-id-102\" type=\"checkbox\" ><label for=\"sk-estimator-id-102\" class=\"sk-toggleable__label sk-toggleable__label-arrow\">estimator: LogisticRegression</label><div class=\"sk-toggleable__content\"><pre>LogisticRegression(multi_class=&#x27;multinomial&#x27;)</pre></div></div></div><div class=\"sk-serial\"><div class=\"sk-item\"><div class=\"sk-estimator sk-toggleable\"><input class=\"sk-toggleable__control sk-hidden--visually\" id=\"sk-estimator-id-103\" type=\"checkbox\" ><label for=\"sk-estimator-id-103\" class=\"sk-toggleable__label sk-toggleable__label-arrow\">LogisticRegression</label><div class=\"sk-toggleable__content\"><pre>LogisticRegression(multi_class=&#x27;multinomial&#x27;)</pre></div></div></div></div></div></div></div></div></div></div></div></div></div></div></div></div></div>"
      ],
      "text/plain": [
       "RandomizedSearchCV(cv=5,\n",
       "                   estimator=Pipeline(steps=[('vect',\n",
       "                                              CountVectorizer(tokenizer=<function word_tokenize at 0x00000254425D5AF0>)),\n",
       "                                             ('tfidf', TfidfTransformer()),\n",
       "                                             ('lr_multi',\n",
       "                                              MultiOutputClassifier(estimator=LogisticRegression(multi_class='multinomial')))]),\n",
       "                   n_iter=5, n_jobs=-1,\n",
       "                   param_distributions={'lr_multi__estimator__C': [0.001, 0.01,\n",
       "                                                                   0.05, 0.1,\n",
       "                                                                   0.5, 1.0,\n",
       "                                                                   10.0]},\n",
       "                   scoring='roc_auc', verbose=3)"
      ]
     },
     "execution_count": 323,
     "metadata": {},
     "output_type": "execute_result"
    }
   ],
   "source": [
    "random_search = RandomizedSearchCV(pipe_lr,param_distributions=lrparam,n_iter=5,scoring='roc_auc',n_jobs=-1,cv=5,verbose=3)\n",
    "random_search.fit(X_train, y_train)"
   ]
  },
  {
   "cell_type": "code",
   "execution_count": 324,
   "id": "679156ff",
   "metadata": {},
   "outputs": [
    {
     "data": {
      "text/html": [
       "<style>#sk-container-id-17 {color: black;background-color: white;}#sk-container-id-17 pre{padding: 0;}#sk-container-id-17 div.sk-toggleable {background-color: white;}#sk-container-id-17 label.sk-toggleable__label {cursor: pointer;display: block;width: 100%;margin-bottom: 0;padding: 0.3em;box-sizing: border-box;text-align: center;}#sk-container-id-17 label.sk-toggleable__label-arrow:before {content: \"▸\";float: left;margin-right: 0.25em;color: #696969;}#sk-container-id-17 label.sk-toggleable__label-arrow:hover:before {color: black;}#sk-container-id-17 div.sk-estimator:hover label.sk-toggleable__label-arrow:before {color: black;}#sk-container-id-17 div.sk-toggleable__content {max-height: 0;max-width: 0;overflow: hidden;text-align: left;background-color: #f0f8ff;}#sk-container-id-17 div.sk-toggleable__content pre {margin: 0.2em;color: black;border-radius: 0.25em;background-color: #f0f8ff;}#sk-container-id-17 input.sk-toggleable__control:checked~div.sk-toggleable__content {max-height: 200px;max-width: 100%;overflow: auto;}#sk-container-id-17 input.sk-toggleable__control:checked~label.sk-toggleable__label-arrow:before {content: \"▾\";}#sk-container-id-17 div.sk-estimator input.sk-toggleable__control:checked~label.sk-toggleable__label {background-color: #d4ebff;}#sk-container-id-17 div.sk-label input.sk-toggleable__control:checked~label.sk-toggleable__label {background-color: #d4ebff;}#sk-container-id-17 input.sk-hidden--visually {border: 0;clip: rect(1px 1px 1px 1px);clip: rect(1px, 1px, 1px, 1px);height: 1px;margin: -1px;overflow: hidden;padding: 0;position: absolute;width: 1px;}#sk-container-id-17 div.sk-estimator {font-family: monospace;background-color: #f0f8ff;border: 1px dotted black;border-radius: 0.25em;box-sizing: border-box;margin-bottom: 0.5em;}#sk-container-id-17 div.sk-estimator:hover {background-color: #d4ebff;}#sk-container-id-17 div.sk-parallel-item::after {content: \"\";width: 100%;border-bottom: 1px solid gray;flex-grow: 1;}#sk-container-id-17 div.sk-label:hover label.sk-toggleable__label {background-color: #d4ebff;}#sk-container-id-17 div.sk-serial::before {content: \"\";position: absolute;border-left: 1px solid gray;box-sizing: border-box;top: 0;bottom: 0;left: 50%;z-index: 0;}#sk-container-id-17 div.sk-serial {display: flex;flex-direction: column;align-items: center;background-color: white;padding-right: 0.2em;padding-left: 0.2em;position: relative;}#sk-container-id-17 div.sk-item {position: relative;z-index: 1;}#sk-container-id-17 div.sk-parallel {display: flex;align-items: stretch;justify-content: center;background-color: white;position: relative;}#sk-container-id-17 div.sk-item::before, #sk-container-id-17 div.sk-parallel-item::before {content: \"\";position: absolute;border-left: 1px solid gray;box-sizing: border-box;top: 0;bottom: 0;left: 50%;z-index: -1;}#sk-container-id-17 div.sk-parallel-item {display: flex;flex-direction: column;z-index: 1;position: relative;background-color: white;}#sk-container-id-17 div.sk-parallel-item:first-child::after {align-self: flex-end;width: 50%;}#sk-container-id-17 div.sk-parallel-item:last-child::after {align-self: flex-start;width: 50%;}#sk-container-id-17 div.sk-parallel-item:only-child::after {width: 0;}#sk-container-id-17 div.sk-dashed-wrapped {border: 1px dashed gray;margin: 0 0.4em 0.5em 0.4em;box-sizing: border-box;padding-bottom: 0.4em;background-color: white;}#sk-container-id-17 div.sk-label label {font-family: monospace;font-weight: bold;display: inline-block;line-height: 1.2em;}#sk-container-id-17 div.sk-label-container {text-align: center;}#sk-container-id-17 div.sk-container {/* jupyter's `normalize.less` sets `[hidden] { display: none; }` but bootstrap.min.css set `[hidden] { display: none !important; }` so we also need the `!important` here to be able to override the default hidden behavior on the sphinx rendered scikit-learn.org. See: https://github.com/scikit-learn/scikit-learn/issues/21755 */display: inline-block !important;position: relative;}#sk-container-id-17 div.sk-text-repr-fallback {display: none;}</style><div id=\"sk-container-id-17\" class=\"sk-top-container\"><div class=\"sk-text-repr-fallback\"><pre>Pipeline(steps=[(&#x27;vect&#x27;,\n",
       "                 CountVectorizer(tokenizer=&lt;function word_tokenize at 0x00000254425D5AF0&gt;)),\n",
       "                (&#x27;tfidf&#x27;, TfidfTransformer()),\n",
       "                (&#x27;lr_multi&#x27;,\n",
       "                 MultiOutputClassifier(estimator=LogisticRegression(C=10.0,\n",
       "                                                                    multi_class=&#x27;multinomial&#x27;)))])</pre><b>In a Jupyter environment, please rerun this cell to show the HTML representation or trust the notebook. <br />On GitHub, the HTML representation is unable to render, please try loading this page with nbviewer.org.</b></div><div class=\"sk-container\" hidden><div class=\"sk-item sk-dashed-wrapped\"><div class=\"sk-label-container\"><div class=\"sk-label sk-toggleable\"><input class=\"sk-toggleable__control sk-hidden--visually\" id=\"sk-estimator-id-104\" type=\"checkbox\" ><label for=\"sk-estimator-id-104\" class=\"sk-toggleable__label sk-toggleable__label-arrow\">Pipeline</label><div class=\"sk-toggleable__content\"><pre>Pipeline(steps=[(&#x27;vect&#x27;,\n",
       "                 CountVectorizer(tokenizer=&lt;function word_tokenize at 0x00000254425D5AF0&gt;)),\n",
       "                (&#x27;tfidf&#x27;, TfidfTransformer()),\n",
       "                (&#x27;lr_multi&#x27;,\n",
       "                 MultiOutputClassifier(estimator=LogisticRegression(C=10.0,\n",
       "                                                                    multi_class=&#x27;multinomial&#x27;)))])</pre></div></div></div><div class=\"sk-serial\"><div class=\"sk-item\"><div class=\"sk-estimator sk-toggleable\"><input class=\"sk-toggleable__control sk-hidden--visually\" id=\"sk-estimator-id-105\" type=\"checkbox\" ><label for=\"sk-estimator-id-105\" class=\"sk-toggleable__label sk-toggleable__label-arrow\">CountVectorizer</label><div class=\"sk-toggleable__content\"><pre>CountVectorizer(tokenizer=&lt;function word_tokenize at 0x00000254425D5AF0&gt;)</pre></div></div></div><div class=\"sk-item\"><div class=\"sk-estimator sk-toggleable\"><input class=\"sk-toggleable__control sk-hidden--visually\" id=\"sk-estimator-id-106\" type=\"checkbox\" ><label for=\"sk-estimator-id-106\" class=\"sk-toggleable__label sk-toggleable__label-arrow\">TfidfTransformer</label><div class=\"sk-toggleable__content\"><pre>TfidfTransformer()</pre></div></div></div><div class=\"sk-item sk-dashed-wrapped\"><div class=\"sk-label-container\"><div class=\"sk-label sk-toggleable\"><input class=\"sk-toggleable__control sk-hidden--visually\" id=\"sk-estimator-id-107\" type=\"checkbox\" ><label for=\"sk-estimator-id-107\" class=\"sk-toggleable__label sk-toggleable__label-arrow\">lr_multi: MultiOutputClassifier</label><div class=\"sk-toggleable__content\"><pre>MultiOutputClassifier(estimator=LogisticRegression(C=10.0,\n",
       "                                                   multi_class=&#x27;multinomial&#x27;))</pre></div></div></div><div class=\"sk-parallel\"><div class=\"sk-parallel-item\"><div class=\"sk-item\"><div class=\"sk-label-container\"><div class=\"sk-label sk-toggleable\"><input class=\"sk-toggleable__control sk-hidden--visually\" id=\"sk-estimator-id-108\" type=\"checkbox\" ><label for=\"sk-estimator-id-108\" class=\"sk-toggleable__label sk-toggleable__label-arrow\">estimator: LogisticRegression</label><div class=\"sk-toggleable__content\"><pre>LogisticRegression(C=10.0, multi_class=&#x27;multinomial&#x27;)</pre></div></div></div><div class=\"sk-serial\"><div class=\"sk-item\"><div class=\"sk-estimator sk-toggleable\"><input class=\"sk-toggleable__control sk-hidden--visually\" id=\"sk-estimator-id-109\" type=\"checkbox\" ><label for=\"sk-estimator-id-109\" class=\"sk-toggleable__label sk-toggleable__label-arrow\">LogisticRegression</label><div class=\"sk-toggleable__content\"><pre>LogisticRegression(C=10.0, multi_class=&#x27;multinomial&#x27;)</pre></div></div></div></div></div></div></div></div></div></div></div></div>"
      ],
      "text/plain": [
       "Pipeline(steps=[('vect',\n",
       "                 CountVectorizer(tokenizer=<function word_tokenize at 0x00000254425D5AF0>)),\n",
       "                ('tfidf', TfidfTransformer()),\n",
       "                ('lr_multi',\n",
       "                 MultiOutputClassifier(estimator=LogisticRegression(C=10.0,\n",
       "                                                                    multi_class='multinomial')))])"
      ]
     },
     "execution_count": 324,
     "metadata": {},
     "output_type": "execute_result"
    }
   ],
   "source": [
    "logreg = random_search.best_estimator_\n",
    "logreg"
   ]
  },
  {
   "cell_type": "code",
   "execution_count": 325,
   "id": "05924624",
   "metadata": {},
   "outputs": [
    {
     "data": {
      "text/plain": [
       "array([[2, 0],\n",
       "       [1, 2],\n",
       "       [2, 1],\n",
       "       ...,\n",
       "       [3, 0],\n",
       "       [3, 0],\n",
       "       [3, 0]], dtype=int64)"
      ]
     },
     "execution_count": 325,
     "metadata": {},
     "output_type": "execute_result"
    }
   ],
   "source": [
    "pred_lr = logreg.predict(X_test)\n",
    "pred_lr"
   ]
  },
  {
   "cell_type": "code",
   "execution_count": 326,
   "id": "49e4a29b",
   "metadata": {},
   "outputs": [
    {
     "data": {
      "text/plain": [
       "0.7146454006022109"
      ]
     },
     "execution_count": 326,
     "metadata": {},
     "output_type": "execute_result"
    }
   ],
   "source": [
    "e1 = Extract(pred_lr)\n",
    "e2 = y_test['lab2']\n",
    "f1_pr_lr = f1_score(e2, e1, average = 'weighted')\n",
    "f1_pr_lr"
   ]
  },
  {
   "cell_type": "code",
   "execution_count": 327,
   "id": "fe159de4",
   "metadata": {},
   "outputs": [
    {
     "name": "stdout",
     "output_type": "stream",
     "text": [
      "              precision    recall  f1-score   support\n",
      "\n",
      "           0       0.60      0.29      0.39       493\n",
      "           1       0.69      0.58      0.63      1190\n",
      "           2       0.86      0.80      0.83      1070\n",
      "           3       0.70      0.87      0.78      2129\n",
      "\n",
      "    accuracy                           0.73      4882\n",
      "   macro avg       0.71      0.64      0.66      4882\n",
      "weighted avg       0.72      0.73      0.71      4882\n",
      "\n"
     ]
    }
   ],
   "source": [
    "print(classification_report(e2, e1))\n",
    "#PGR: 0:'33:66',1 : '1-33', 2:'NEGATIVO', 3: '66:100' "
   ]
  },
  {
   "cell_type": "code",
   "execution_count": 328,
   "id": "247c02ca",
   "metadata": {},
   "outputs": [
    {
     "data": {
      "text/plain": [
       "0.9126427240282341"
      ]
     },
     "execution_count": 328,
     "metadata": {},
     "output_type": "execute_result"
    }
   ],
   "source": [
    "e3 = Extract2(pred_lr)\n",
    "e4 = y_test['lab']\n",
    "f1_er_lr = f1_score(e4, e3, average = 'weighted')\n",
    "f1_er_lr"
   ]
  },
  {
   "cell_type": "code",
   "execution_count": 329,
   "id": "7e1ad536",
   "metadata": {},
   "outputs": [
    {
     "name": "stdout",
     "output_type": "stream",
     "text": [
      "              precision    recall  f1-score   support\n",
      "\n",
      "           0       0.93      0.98      0.95      3781\n",
      "           1       0.88      0.80      0.84       609\n",
      "           2       0.73      0.40      0.52       129\n",
      "           3       0.92      0.65      0.76       363\n",
      "\n",
      "    accuracy                           0.92      4882\n",
      "   macro avg       0.86      0.71      0.77      4882\n",
      "weighted avg       0.91      0.92      0.91      4882\n",
      "\n"
     ]
    }
   ],
   "source": [
    "print(classification_report(e4, e3))\n",
    "#ER :  0:'66-100',1 : 'NEGATIVO', 2:'33-66', 3: '1-33'\n",
    "#WORST PREDICTION IN 33-66 but it's the class with lowest support"
   ]
  },
  {
   "cell_type": "code",
   "execution_count": 330,
   "id": "4e1abbd4",
   "metadata": {},
   "outputs": [
    {
     "name": "stderr",
     "output_type": "stream",
     "text": [
      "C:\\Users\\Paola\\anaconda3\\lib\\site-packages\\sklearn\\linear_model\\_logistic.py:444: ConvergenceWarning: lbfgs failed to converge (status=1):\n",
      "STOP: TOTAL NO. of ITERATIONS REACHED LIMIT.\n",
      "\n",
      "Increase the number of iterations (max_iter) or scale the data as shown in:\n",
      "    https://scikit-learn.org/stable/modules/preprocessing.html\n",
      "Please also refer to the documentation for alternative solver options:\n",
      "    https://scikit-learn.org/stable/modules/linear_model.html#logistic-regression\n",
      "  n_iter_i = _check_optimize_result(\n",
      "C:\\Users\\Paola\\anaconda3\\lib\\site-packages\\sklearn\\linear_model\\_logistic.py:444: ConvergenceWarning: lbfgs failed to converge (status=1):\n",
      "STOP: TOTAL NO. of ITERATIONS REACHED LIMIT.\n",
      "\n",
      "Increase the number of iterations (max_iter) or scale the data as shown in:\n",
      "    https://scikit-learn.org/stable/modules/preprocessing.html\n",
      "Please also refer to the documentation for alternative solver options:\n",
      "    https://scikit-learn.org/stable/modules/linear_model.html#logistic-regression\n",
      "  n_iter_i = _check_optimize_result(\n"
     ]
    },
    {
     "data": {
      "text/plain": [
       "0.6868086849651782"
      ]
     },
     "execution_count": 330,
     "metadata": {},
     "output_type": "execute_result"
    }
   ],
   "source": [
    "# Fit on Dataset\n",
    "logreg.fit(X_train,y_train)\n",
    "lr = logreg.score(X_test,y_test)\n",
    "lr"
   ]
  },
  {
   "cell_type": "markdown",
   "id": "9c02e621",
   "metadata": {},
   "source": [
    "### KNN"
   ]
  },
  {
   "cell_type": "code",
   "execution_count": 331,
   "id": "ce0a0b1b",
   "metadata": {},
   "outputs": [],
   "source": [
    "pipeline_knn =Pipeline([\n",
    "                ('vect', CountVectorizer(tokenizer=word_tokenize)),\n",
    "                ('tfidf', TfidfTransformer()),\n",
    "                ('knn', MultiOutputClassifier(KNeighborsClassifier())) ])"
   ]
  },
  {
   "cell_type": "code",
   "execution_count": 332,
   "id": "66702379",
   "metadata": {},
   "outputs": [],
   "source": [
    "knnparams = {\n",
    "                'knn__estimator__n_neighbors' :[1,2,3,5,10],\n",
    "                'knn__estimator__weights' : ['uniform','distance'],\n",
    "                'knn__estimator__metric' : ['minkowski','euclidean','manhattan']\n",
    "}"
   ]
  },
  {
   "cell_type": "code",
   "execution_count": 400,
   "id": "af4b999e",
   "metadata": {},
   "outputs": [
    {
     "name": "stdout",
     "output_type": "stream",
     "text": [
      "Fitting 5 folds for each of 5 candidates, totalling 25 fits\n"
     ]
    },
    {
     "name": "stderr",
     "output_type": "stream",
     "text": [
      "C:\\Users\\Paola\\anaconda3\\lib\\site-packages\\sklearn\\model_selection\\_search.py:953: UserWarning: One or more of the test scores are non-finite: [nan nan nan nan nan]\n",
      "  warnings.warn(\n"
     ]
    },
    {
     "data": {
      "text/html": [
       "<style>#sk-container-id-27 {color: black;background-color: white;}#sk-container-id-27 pre{padding: 0;}#sk-container-id-27 div.sk-toggleable {background-color: white;}#sk-container-id-27 label.sk-toggleable__label {cursor: pointer;display: block;width: 100%;margin-bottom: 0;padding: 0.3em;box-sizing: border-box;text-align: center;}#sk-container-id-27 label.sk-toggleable__label-arrow:before {content: \"▸\";float: left;margin-right: 0.25em;color: #696969;}#sk-container-id-27 label.sk-toggleable__label-arrow:hover:before {color: black;}#sk-container-id-27 div.sk-estimator:hover label.sk-toggleable__label-arrow:before {color: black;}#sk-container-id-27 div.sk-toggleable__content {max-height: 0;max-width: 0;overflow: hidden;text-align: left;background-color: #f0f8ff;}#sk-container-id-27 div.sk-toggleable__content pre {margin: 0.2em;color: black;border-radius: 0.25em;background-color: #f0f8ff;}#sk-container-id-27 input.sk-toggleable__control:checked~div.sk-toggleable__content {max-height: 200px;max-width: 100%;overflow: auto;}#sk-container-id-27 input.sk-toggleable__control:checked~label.sk-toggleable__label-arrow:before {content: \"▾\";}#sk-container-id-27 div.sk-estimator input.sk-toggleable__control:checked~label.sk-toggleable__label {background-color: #d4ebff;}#sk-container-id-27 div.sk-label input.sk-toggleable__control:checked~label.sk-toggleable__label {background-color: #d4ebff;}#sk-container-id-27 input.sk-hidden--visually {border: 0;clip: rect(1px 1px 1px 1px);clip: rect(1px, 1px, 1px, 1px);height: 1px;margin: -1px;overflow: hidden;padding: 0;position: absolute;width: 1px;}#sk-container-id-27 div.sk-estimator {font-family: monospace;background-color: #f0f8ff;border: 1px dotted black;border-radius: 0.25em;box-sizing: border-box;margin-bottom: 0.5em;}#sk-container-id-27 div.sk-estimator:hover {background-color: #d4ebff;}#sk-container-id-27 div.sk-parallel-item::after {content: \"\";width: 100%;border-bottom: 1px solid gray;flex-grow: 1;}#sk-container-id-27 div.sk-label:hover label.sk-toggleable__label {background-color: #d4ebff;}#sk-container-id-27 div.sk-serial::before {content: \"\";position: absolute;border-left: 1px solid gray;box-sizing: border-box;top: 0;bottom: 0;left: 50%;z-index: 0;}#sk-container-id-27 div.sk-serial {display: flex;flex-direction: column;align-items: center;background-color: white;padding-right: 0.2em;padding-left: 0.2em;position: relative;}#sk-container-id-27 div.sk-item {position: relative;z-index: 1;}#sk-container-id-27 div.sk-parallel {display: flex;align-items: stretch;justify-content: center;background-color: white;position: relative;}#sk-container-id-27 div.sk-item::before, #sk-container-id-27 div.sk-parallel-item::before {content: \"\";position: absolute;border-left: 1px solid gray;box-sizing: border-box;top: 0;bottom: 0;left: 50%;z-index: -1;}#sk-container-id-27 div.sk-parallel-item {display: flex;flex-direction: column;z-index: 1;position: relative;background-color: white;}#sk-container-id-27 div.sk-parallel-item:first-child::after {align-self: flex-end;width: 50%;}#sk-container-id-27 div.sk-parallel-item:last-child::after {align-self: flex-start;width: 50%;}#sk-container-id-27 div.sk-parallel-item:only-child::after {width: 0;}#sk-container-id-27 div.sk-dashed-wrapped {border: 1px dashed gray;margin: 0 0.4em 0.5em 0.4em;box-sizing: border-box;padding-bottom: 0.4em;background-color: white;}#sk-container-id-27 div.sk-label label {font-family: monospace;font-weight: bold;display: inline-block;line-height: 1.2em;}#sk-container-id-27 div.sk-label-container {text-align: center;}#sk-container-id-27 div.sk-container {/* jupyter's `normalize.less` sets `[hidden] { display: none; }` but bootstrap.min.css set `[hidden] { display: none !important; }` so we also need the `!important` here to be able to override the default hidden behavior on the sphinx rendered scikit-learn.org. See: https://github.com/scikit-learn/scikit-learn/issues/21755 */display: inline-block !important;position: relative;}#sk-container-id-27 div.sk-text-repr-fallback {display: none;}</style><div id=\"sk-container-id-27\" class=\"sk-top-container\"><div class=\"sk-text-repr-fallback\"><pre>RandomizedSearchCV(cv=5,\n",
       "                   estimator=Pipeline(steps=[(&#x27;vect&#x27;,\n",
       "                                              CountVectorizer(tokenizer=&lt;function word_tokenize at 0x00000254425D5AF0&gt;)),\n",
       "                                             (&#x27;tfidf&#x27;, TfidfTransformer()),\n",
       "                                             (&#x27;knn&#x27;,\n",
       "                                              MultiOutputClassifier(estimator=KNeighborsClassifier()))]),\n",
       "                   n_iter=5, n_jobs=-1,\n",
       "                   param_distributions={&#x27;knn__estimator__metric&#x27;: [&#x27;minkowski&#x27;,\n",
       "                                                                   &#x27;euclidean&#x27;,\n",
       "                                                                   &#x27;manhattan&#x27;],\n",
       "                                        &#x27;knn__estimator__n_neighbors&#x27;: [1, 2, 3,\n",
       "                                                                        5, 10],\n",
       "                                        &#x27;knn__estimator__weights&#x27;: [&#x27;uniform&#x27;,\n",
       "                                                                    &#x27;distance&#x27;]},\n",
       "                   scoring=&#x27;roc_auc&#x27;, verbose=3)</pre><b>In a Jupyter environment, please rerun this cell to show the HTML representation or trust the notebook. <br />On GitHub, the HTML representation is unable to render, please try loading this page with nbviewer.org.</b></div><div class=\"sk-container\" hidden><div class=\"sk-item sk-dashed-wrapped\"><div class=\"sk-label-container\"><div class=\"sk-label sk-toggleable\"><input class=\"sk-toggleable__control sk-hidden--visually\" id=\"sk-estimator-id-167\" type=\"checkbox\" ><label for=\"sk-estimator-id-167\" class=\"sk-toggleable__label sk-toggleable__label-arrow\">RandomizedSearchCV</label><div class=\"sk-toggleable__content\"><pre>RandomizedSearchCV(cv=5,\n",
       "                   estimator=Pipeline(steps=[(&#x27;vect&#x27;,\n",
       "                                              CountVectorizer(tokenizer=&lt;function word_tokenize at 0x00000254425D5AF0&gt;)),\n",
       "                                             (&#x27;tfidf&#x27;, TfidfTransformer()),\n",
       "                                             (&#x27;knn&#x27;,\n",
       "                                              MultiOutputClassifier(estimator=KNeighborsClassifier()))]),\n",
       "                   n_iter=5, n_jobs=-1,\n",
       "                   param_distributions={&#x27;knn__estimator__metric&#x27;: [&#x27;minkowski&#x27;,\n",
       "                                                                   &#x27;euclidean&#x27;,\n",
       "                                                                   &#x27;manhattan&#x27;],\n",
       "                                        &#x27;knn__estimator__n_neighbors&#x27;: [1, 2, 3,\n",
       "                                                                        5, 10],\n",
       "                                        &#x27;knn__estimator__weights&#x27;: [&#x27;uniform&#x27;,\n",
       "                                                                    &#x27;distance&#x27;]},\n",
       "                   scoring=&#x27;roc_auc&#x27;, verbose=3)</pre></div></div></div><div class=\"sk-parallel\"><div class=\"sk-parallel-item\"><div class=\"sk-item\"><div class=\"sk-label-container\"><div class=\"sk-label sk-toggleable\"><input class=\"sk-toggleable__control sk-hidden--visually\" id=\"sk-estimator-id-168\" type=\"checkbox\" ><label for=\"sk-estimator-id-168\" class=\"sk-toggleable__label sk-toggleable__label-arrow\">estimator: Pipeline</label><div class=\"sk-toggleable__content\"><pre>Pipeline(steps=[(&#x27;vect&#x27;,\n",
       "                 CountVectorizer(tokenizer=&lt;function word_tokenize at 0x00000254425D5AF0&gt;)),\n",
       "                (&#x27;tfidf&#x27;, TfidfTransformer()),\n",
       "                (&#x27;knn&#x27;,\n",
       "                 MultiOutputClassifier(estimator=KNeighborsClassifier()))])</pre></div></div></div><div class=\"sk-serial\"><div class=\"sk-item\"><div class=\"sk-serial\"><div class=\"sk-item\"><div class=\"sk-estimator sk-toggleable\"><input class=\"sk-toggleable__control sk-hidden--visually\" id=\"sk-estimator-id-169\" type=\"checkbox\" ><label for=\"sk-estimator-id-169\" class=\"sk-toggleable__label sk-toggleable__label-arrow\">CountVectorizer</label><div class=\"sk-toggleable__content\"><pre>CountVectorizer(tokenizer=&lt;function word_tokenize at 0x00000254425D5AF0&gt;)</pre></div></div></div><div class=\"sk-item\"><div class=\"sk-estimator sk-toggleable\"><input class=\"sk-toggleable__control sk-hidden--visually\" id=\"sk-estimator-id-170\" type=\"checkbox\" ><label for=\"sk-estimator-id-170\" class=\"sk-toggleable__label sk-toggleable__label-arrow\">TfidfTransformer</label><div class=\"sk-toggleable__content\"><pre>TfidfTransformer()</pre></div></div></div><div class=\"sk-item sk-dashed-wrapped\"><div class=\"sk-label-container\"><div class=\"sk-label sk-toggleable\"><input class=\"sk-toggleable__control sk-hidden--visually\" id=\"sk-estimator-id-171\" type=\"checkbox\" ><label for=\"sk-estimator-id-171\" class=\"sk-toggleable__label sk-toggleable__label-arrow\">knn: MultiOutputClassifier</label><div class=\"sk-toggleable__content\"><pre>MultiOutputClassifier(estimator=KNeighborsClassifier())</pre></div></div></div><div class=\"sk-parallel\"><div class=\"sk-parallel-item\"><div class=\"sk-item\"><div class=\"sk-label-container\"><div class=\"sk-label sk-toggleable\"><input class=\"sk-toggleable__control sk-hidden--visually\" id=\"sk-estimator-id-172\" type=\"checkbox\" ><label for=\"sk-estimator-id-172\" class=\"sk-toggleable__label sk-toggleable__label-arrow\">estimator: KNeighborsClassifier</label><div class=\"sk-toggleable__content\"><pre>KNeighborsClassifier()</pre></div></div></div><div class=\"sk-serial\"><div class=\"sk-item\"><div class=\"sk-estimator sk-toggleable\"><input class=\"sk-toggleable__control sk-hidden--visually\" id=\"sk-estimator-id-173\" type=\"checkbox\" ><label for=\"sk-estimator-id-173\" class=\"sk-toggleable__label sk-toggleable__label-arrow\">KNeighborsClassifier</label><div class=\"sk-toggleable__content\"><pre>KNeighborsClassifier()</pre></div></div></div></div></div></div></div></div></div></div></div></div></div></div></div></div></div>"
      ],
      "text/plain": [
       "RandomizedSearchCV(cv=5,\n",
       "                   estimator=Pipeline(steps=[('vect',\n",
       "                                              CountVectorizer(tokenizer=<function word_tokenize at 0x00000254425D5AF0>)),\n",
       "                                             ('tfidf', TfidfTransformer()),\n",
       "                                             ('knn',\n",
       "                                              MultiOutputClassifier(estimator=KNeighborsClassifier()))]),\n",
       "                   n_iter=5, n_jobs=-1,\n",
       "                   param_distributions={'knn__estimator__metric': ['minkowski',\n",
       "                                                                   'euclidean',\n",
       "                                                                   'manhattan'],\n",
       "                                        'knn__estimator__n_neighbors': [1, 2, 3,\n",
       "                                                                        5, 10],\n",
       "                                        'knn__estimator__weights': ['uniform',\n",
       "                                                                    'distance']},\n",
       "                   scoring='roc_auc', verbose=3)"
      ]
     },
     "execution_count": 400,
     "metadata": {},
     "output_type": "execute_result"
    }
   ],
   "source": [
    "random_search = RandomizedSearchCV(pipeline_knn,param_distributions=knnparams,n_iter=5,scoring='roc_auc',n_jobs=-1,cv=5,verbose=3)\n",
    "random_search.fit(X_train, y_train)"
   ]
  },
  {
   "cell_type": "code",
   "execution_count": 401,
   "id": "27222d9e",
   "metadata": {},
   "outputs": [
    {
     "data": {
      "text/html": [
       "<style>#sk-container-id-28 {color: black;background-color: white;}#sk-container-id-28 pre{padding: 0;}#sk-container-id-28 div.sk-toggleable {background-color: white;}#sk-container-id-28 label.sk-toggleable__label {cursor: pointer;display: block;width: 100%;margin-bottom: 0;padding: 0.3em;box-sizing: border-box;text-align: center;}#sk-container-id-28 label.sk-toggleable__label-arrow:before {content: \"▸\";float: left;margin-right: 0.25em;color: #696969;}#sk-container-id-28 label.sk-toggleable__label-arrow:hover:before {color: black;}#sk-container-id-28 div.sk-estimator:hover label.sk-toggleable__label-arrow:before {color: black;}#sk-container-id-28 div.sk-toggleable__content {max-height: 0;max-width: 0;overflow: hidden;text-align: left;background-color: #f0f8ff;}#sk-container-id-28 div.sk-toggleable__content pre {margin: 0.2em;color: black;border-radius: 0.25em;background-color: #f0f8ff;}#sk-container-id-28 input.sk-toggleable__control:checked~div.sk-toggleable__content {max-height: 200px;max-width: 100%;overflow: auto;}#sk-container-id-28 input.sk-toggleable__control:checked~label.sk-toggleable__label-arrow:before {content: \"▾\";}#sk-container-id-28 div.sk-estimator input.sk-toggleable__control:checked~label.sk-toggleable__label {background-color: #d4ebff;}#sk-container-id-28 div.sk-label input.sk-toggleable__control:checked~label.sk-toggleable__label {background-color: #d4ebff;}#sk-container-id-28 input.sk-hidden--visually {border: 0;clip: rect(1px 1px 1px 1px);clip: rect(1px, 1px, 1px, 1px);height: 1px;margin: -1px;overflow: hidden;padding: 0;position: absolute;width: 1px;}#sk-container-id-28 div.sk-estimator {font-family: monospace;background-color: #f0f8ff;border: 1px dotted black;border-radius: 0.25em;box-sizing: border-box;margin-bottom: 0.5em;}#sk-container-id-28 div.sk-estimator:hover {background-color: #d4ebff;}#sk-container-id-28 div.sk-parallel-item::after {content: \"\";width: 100%;border-bottom: 1px solid gray;flex-grow: 1;}#sk-container-id-28 div.sk-label:hover label.sk-toggleable__label {background-color: #d4ebff;}#sk-container-id-28 div.sk-serial::before {content: \"\";position: absolute;border-left: 1px solid gray;box-sizing: border-box;top: 0;bottom: 0;left: 50%;z-index: 0;}#sk-container-id-28 div.sk-serial {display: flex;flex-direction: column;align-items: center;background-color: white;padding-right: 0.2em;padding-left: 0.2em;position: relative;}#sk-container-id-28 div.sk-item {position: relative;z-index: 1;}#sk-container-id-28 div.sk-parallel {display: flex;align-items: stretch;justify-content: center;background-color: white;position: relative;}#sk-container-id-28 div.sk-item::before, #sk-container-id-28 div.sk-parallel-item::before {content: \"\";position: absolute;border-left: 1px solid gray;box-sizing: border-box;top: 0;bottom: 0;left: 50%;z-index: -1;}#sk-container-id-28 div.sk-parallel-item {display: flex;flex-direction: column;z-index: 1;position: relative;background-color: white;}#sk-container-id-28 div.sk-parallel-item:first-child::after {align-self: flex-end;width: 50%;}#sk-container-id-28 div.sk-parallel-item:last-child::after {align-self: flex-start;width: 50%;}#sk-container-id-28 div.sk-parallel-item:only-child::after {width: 0;}#sk-container-id-28 div.sk-dashed-wrapped {border: 1px dashed gray;margin: 0 0.4em 0.5em 0.4em;box-sizing: border-box;padding-bottom: 0.4em;background-color: white;}#sk-container-id-28 div.sk-label label {font-family: monospace;font-weight: bold;display: inline-block;line-height: 1.2em;}#sk-container-id-28 div.sk-label-container {text-align: center;}#sk-container-id-28 div.sk-container {/* jupyter's `normalize.less` sets `[hidden] { display: none; }` but bootstrap.min.css set `[hidden] { display: none !important; }` so we also need the `!important` here to be able to override the default hidden behavior on the sphinx rendered scikit-learn.org. See: https://github.com/scikit-learn/scikit-learn/issues/21755 */display: inline-block !important;position: relative;}#sk-container-id-28 div.sk-text-repr-fallback {display: none;}</style><div id=\"sk-container-id-28\" class=\"sk-top-container\"><div class=\"sk-text-repr-fallback\"><pre>Pipeline(steps=[(&#x27;vect&#x27;,\n",
       "                 CountVectorizer(tokenizer=&lt;function word_tokenize at 0x00000254425D5AF0&gt;)),\n",
       "                (&#x27;tfidf&#x27;, TfidfTransformer()),\n",
       "                (&#x27;knn&#x27;,\n",
       "                 MultiOutputClassifier(estimator=KNeighborsClassifier(metric=&#x27;manhattan&#x27;,\n",
       "                                                                      n_neighbors=1,\n",
       "                                                                      weights=&#x27;distance&#x27;)))])</pre><b>In a Jupyter environment, please rerun this cell to show the HTML representation or trust the notebook. <br />On GitHub, the HTML representation is unable to render, please try loading this page with nbviewer.org.</b></div><div class=\"sk-container\" hidden><div class=\"sk-item sk-dashed-wrapped\"><div class=\"sk-label-container\"><div class=\"sk-label sk-toggleable\"><input class=\"sk-toggleable__control sk-hidden--visually\" id=\"sk-estimator-id-174\" type=\"checkbox\" ><label for=\"sk-estimator-id-174\" class=\"sk-toggleable__label sk-toggleable__label-arrow\">Pipeline</label><div class=\"sk-toggleable__content\"><pre>Pipeline(steps=[(&#x27;vect&#x27;,\n",
       "                 CountVectorizer(tokenizer=&lt;function word_tokenize at 0x00000254425D5AF0&gt;)),\n",
       "                (&#x27;tfidf&#x27;, TfidfTransformer()),\n",
       "                (&#x27;knn&#x27;,\n",
       "                 MultiOutputClassifier(estimator=KNeighborsClassifier(metric=&#x27;manhattan&#x27;,\n",
       "                                                                      n_neighbors=1,\n",
       "                                                                      weights=&#x27;distance&#x27;)))])</pre></div></div></div><div class=\"sk-serial\"><div class=\"sk-item\"><div class=\"sk-estimator sk-toggleable\"><input class=\"sk-toggleable__control sk-hidden--visually\" id=\"sk-estimator-id-175\" type=\"checkbox\" ><label for=\"sk-estimator-id-175\" class=\"sk-toggleable__label sk-toggleable__label-arrow\">CountVectorizer</label><div class=\"sk-toggleable__content\"><pre>CountVectorizer(tokenizer=&lt;function word_tokenize at 0x00000254425D5AF0&gt;)</pre></div></div></div><div class=\"sk-item\"><div class=\"sk-estimator sk-toggleable\"><input class=\"sk-toggleable__control sk-hidden--visually\" id=\"sk-estimator-id-176\" type=\"checkbox\" ><label for=\"sk-estimator-id-176\" class=\"sk-toggleable__label sk-toggleable__label-arrow\">TfidfTransformer</label><div class=\"sk-toggleable__content\"><pre>TfidfTransformer()</pre></div></div></div><div class=\"sk-item sk-dashed-wrapped\"><div class=\"sk-label-container\"><div class=\"sk-label sk-toggleable\"><input class=\"sk-toggleable__control sk-hidden--visually\" id=\"sk-estimator-id-177\" type=\"checkbox\" ><label for=\"sk-estimator-id-177\" class=\"sk-toggleable__label sk-toggleable__label-arrow\">knn: MultiOutputClassifier</label><div class=\"sk-toggleable__content\"><pre>MultiOutputClassifier(estimator=KNeighborsClassifier(metric=&#x27;manhattan&#x27;,\n",
       "                                                     n_neighbors=1,\n",
       "                                                     weights=&#x27;distance&#x27;))</pre></div></div></div><div class=\"sk-parallel\"><div class=\"sk-parallel-item\"><div class=\"sk-item\"><div class=\"sk-label-container\"><div class=\"sk-label sk-toggleable\"><input class=\"sk-toggleable__control sk-hidden--visually\" id=\"sk-estimator-id-178\" type=\"checkbox\" ><label for=\"sk-estimator-id-178\" class=\"sk-toggleable__label sk-toggleable__label-arrow\">estimator: KNeighborsClassifier</label><div class=\"sk-toggleable__content\"><pre>KNeighborsClassifier(metric=&#x27;manhattan&#x27;, n_neighbors=1, weights=&#x27;distance&#x27;)</pre></div></div></div><div class=\"sk-serial\"><div class=\"sk-item\"><div class=\"sk-estimator sk-toggleable\"><input class=\"sk-toggleable__control sk-hidden--visually\" id=\"sk-estimator-id-179\" type=\"checkbox\" ><label for=\"sk-estimator-id-179\" class=\"sk-toggleable__label sk-toggleable__label-arrow\">KNeighborsClassifier</label><div class=\"sk-toggleable__content\"><pre>KNeighborsClassifier(metric=&#x27;manhattan&#x27;, n_neighbors=1, weights=&#x27;distance&#x27;)</pre></div></div></div></div></div></div></div></div></div></div></div></div>"
      ],
      "text/plain": [
       "Pipeline(steps=[('vect',\n",
       "                 CountVectorizer(tokenizer=<function word_tokenize at 0x00000254425D5AF0>)),\n",
       "                ('tfidf', TfidfTransformer()),\n",
       "                ('knn',\n",
       "                 MultiOutputClassifier(estimator=KNeighborsClassifier(metric='manhattan',\n",
       "                                                                      n_neighbors=1,\n",
       "                                                                      weights='distance')))])"
      ]
     },
     "execution_count": 401,
     "metadata": {},
     "output_type": "execute_result"
    }
   ],
   "source": [
    "knn = random_search.best_estimator_\n",
    "knn"
   ]
  },
  {
   "cell_type": "code",
   "execution_count": 410,
   "id": "88e9f3bd",
   "metadata": {},
   "outputs": [
    {
     "data": {
      "text/plain": [
       "array([[2, 1],\n",
       "       [1, 2],\n",
       "       [2, 1],\n",
       "       ...,\n",
       "       [3, 0],\n",
       "       [3, 0],\n",
       "       [3, 0]], dtype=int64)"
      ]
     },
     "execution_count": 410,
     "metadata": {},
     "output_type": "execute_result"
    }
   ],
   "source": [
    "pred_knn = knn.predict(X_test)\n",
    "pred_knn"
   ]
  },
  {
   "cell_type": "code",
   "execution_count": 411,
   "id": "c5d96eae",
   "metadata": {},
   "outputs": [
    {
     "data": {
      "text/html": [
       "<style>#sk-container-id-30 {color: black;background-color: white;}#sk-container-id-30 pre{padding: 0;}#sk-container-id-30 div.sk-toggleable {background-color: white;}#sk-container-id-30 label.sk-toggleable__label {cursor: pointer;display: block;width: 100%;margin-bottom: 0;padding: 0.3em;box-sizing: border-box;text-align: center;}#sk-container-id-30 label.sk-toggleable__label-arrow:before {content: \"▸\";float: left;margin-right: 0.25em;color: #696969;}#sk-container-id-30 label.sk-toggleable__label-arrow:hover:before {color: black;}#sk-container-id-30 div.sk-estimator:hover label.sk-toggleable__label-arrow:before {color: black;}#sk-container-id-30 div.sk-toggleable__content {max-height: 0;max-width: 0;overflow: hidden;text-align: left;background-color: #f0f8ff;}#sk-container-id-30 div.sk-toggleable__content pre {margin: 0.2em;color: black;border-radius: 0.25em;background-color: #f0f8ff;}#sk-container-id-30 input.sk-toggleable__control:checked~div.sk-toggleable__content {max-height: 200px;max-width: 100%;overflow: auto;}#sk-container-id-30 input.sk-toggleable__control:checked~label.sk-toggleable__label-arrow:before {content: \"▾\";}#sk-container-id-30 div.sk-estimator input.sk-toggleable__control:checked~label.sk-toggleable__label {background-color: #d4ebff;}#sk-container-id-30 div.sk-label input.sk-toggleable__control:checked~label.sk-toggleable__label {background-color: #d4ebff;}#sk-container-id-30 input.sk-hidden--visually {border: 0;clip: rect(1px 1px 1px 1px);clip: rect(1px, 1px, 1px, 1px);height: 1px;margin: -1px;overflow: hidden;padding: 0;position: absolute;width: 1px;}#sk-container-id-30 div.sk-estimator {font-family: monospace;background-color: #f0f8ff;border: 1px dotted black;border-radius: 0.25em;box-sizing: border-box;margin-bottom: 0.5em;}#sk-container-id-30 div.sk-estimator:hover {background-color: #d4ebff;}#sk-container-id-30 div.sk-parallel-item::after {content: \"\";width: 100%;border-bottom: 1px solid gray;flex-grow: 1;}#sk-container-id-30 div.sk-label:hover label.sk-toggleable__label {background-color: #d4ebff;}#sk-container-id-30 div.sk-serial::before {content: \"\";position: absolute;border-left: 1px solid gray;box-sizing: border-box;top: 0;bottom: 0;left: 50%;z-index: 0;}#sk-container-id-30 div.sk-serial {display: flex;flex-direction: column;align-items: center;background-color: white;padding-right: 0.2em;padding-left: 0.2em;position: relative;}#sk-container-id-30 div.sk-item {position: relative;z-index: 1;}#sk-container-id-30 div.sk-parallel {display: flex;align-items: stretch;justify-content: center;background-color: white;position: relative;}#sk-container-id-30 div.sk-item::before, #sk-container-id-30 div.sk-parallel-item::before {content: \"\";position: absolute;border-left: 1px solid gray;box-sizing: border-box;top: 0;bottom: 0;left: 50%;z-index: -1;}#sk-container-id-30 div.sk-parallel-item {display: flex;flex-direction: column;z-index: 1;position: relative;background-color: white;}#sk-container-id-30 div.sk-parallel-item:first-child::after {align-self: flex-end;width: 50%;}#sk-container-id-30 div.sk-parallel-item:last-child::after {align-self: flex-start;width: 50%;}#sk-container-id-30 div.sk-parallel-item:only-child::after {width: 0;}#sk-container-id-30 div.sk-dashed-wrapped {border: 1px dashed gray;margin: 0 0.4em 0.5em 0.4em;box-sizing: border-box;padding-bottom: 0.4em;background-color: white;}#sk-container-id-30 div.sk-label label {font-family: monospace;font-weight: bold;display: inline-block;line-height: 1.2em;}#sk-container-id-30 div.sk-label-container {text-align: center;}#sk-container-id-30 div.sk-container {/* jupyter's `normalize.less` sets `[hidden] { display: none; }` but bootstrap.min.css set `[hidden] { display: none !important; }` so we also need the `!important` here to be able to override the default hidden behavior on the sphinx rendered scikit-learn.org. See: https://github.com/scikit-learn/scikit-learn/issues/21755 */display: inline-block !important;position: relative;}#sk-container-id-30 div.sk-text-repr-fallback {display: none;}</style><div id=\"sk-container-id-30\" class=\"sk-top-container\"><div class=\"sk-text-repr-fallback\"><pre>Pipeline(steps=[(&#x27;vect&#x27;,\n",
       "                 CountVectorizer(tokenizer=&lt;function word_tokenize at 0x00000254425D5AF0&gt;)),\n",
       "                (&#x27;tfidf&#x27;, TfidfTransformer()),\n",
       "                (&#x27;knn&#x27;,\n",
       "                 MultiOutputClassifier(estimator=KNeighborsClassifier(metric=&#x27;manhattan&#x27;,\n",
       "                                                                      n_neighbors=1,\n",
       "                                                                      weights=&#x27;distance&#x27;)))])</pre><b>In a Jupyter environment, please rerun this cell to show the HTML representation or trust the notebook. <br />On GitHub, the HTML representation is unable to render, please try loading this page with nbviewer.org.</b></div><div class=\"sk-container\" hidden><div class=\"sk-item sk-dashed-wrapped\"><div class=\"sk-label-container\"><div class=\"sk-label sk-toggleable\"><input class=\"sk-toggleable__control sk-hidden--visually\" id=\"sk-estimator-id-186\" type=\"checkbox\" ><label for=\"sk-estimator-id-186\" class=\"sk-toggleable__label sk-toggleable__label-arrow\">Pipeline</label><div class=\"sk-toggleable__content\"><pre>Pipeline(steps=[(&#x27;vect&#x27;,\n",
       "                 CountVectorizer(tokenizer=&lt;function word_tokenize at 0x00000254425D5AF0&gt;)),\n",
       "                (&#x27;tfidf&#x27;, TfidfTransformer()),\n",
       "                (&#x27;knn&#x27;,\n",
       "                 MultiOutputClassifier(estimator=KNeighborsClassifier(metric=&#x27;manhattan&#x27;,\n",
       "                                                                      n_neighbors=1,\n",
       "                                                                      weights=&#x27;distance&#x27;)))])</pre></div></div></div><div class=\"sk-serial\"><div class=\"sk-item\"><div class=\"sk-estimator sk-toggleable\"><input class=\"sk-toggleable__control sk-hidden--visually\" id=\"sk-estimator-id-187\" type=\"checkbox\" ><label for=\"sk-estimator-id-187\" class=\"sk-toggleable__label sk-toggleable__label-arrow\">CountVectorizer</label><div class=\"sk-toggleable__content\"><pre>CountVectorizer(tokenizer=&lt;function word_tokenize at 0x00000254425D5AF0&gt;)</pre></div></div></div><div class=\"sk-item\"><div class=\"sk-estimator sk-toggleable\"><input class=\"sk-toggleable__control sk-hidden--visually\" id=\"sk-estimator-id-188\" type=\"checkbox\" ><label for=\"sk-estimator-id-188\" class=\"sk-toggleable__label sk-toggleable__label-arrow\">TfidfTransformer</label><div class=\"sk-toggleable__content\"><pre>TfidfTransformer()</pre></div></div></div><div class=\"sk-item sk-dashed-wrapped\"><div class=\"sk-label-container\"><div class=\"sk-label sk-toggleable\"><input class=\"sk-toggleable__control sk-hidden--visually\" id=\"sk-estimator-id-189\" type=\"checkbox\" ><label for=\"sk-estimator-id-189\" class=\"sk-toggleable__label sk-toggleable__label-arrow\">knn: MultiOutputClassifier</label><div class=\"sk-toggleable__content\"><pre>MultiOutputClassifier(estimator=KNeighborsClassifier(metric=&#x27;manhattan&#x27;,\n",
       "                                                     n_neighbors=1,\n",
       "                                                     weights=&#x27;distance&#x27;))</pre></div></div></div><div class=\"sk-parallel\"><div class=\"sk-parallel-item\"><div class=\"sk-item\"><div class=\"sk-label-container\"><div class=\"sk-label sk-toggleable\"><input class=\"sk-toggleable__control sk-hidden--visually\" id=\"sk-estimator-id-190\" type=\"checkbox\" ><label for=\"sk-estimator-id-190\" class=\"sk-toggleable__label sk-toggleable__label-arrow\">estimator: KNeighborsClassifier</label><div class=\"sk-toggleable__content\"><pre>KNeighborsClassifier(metric=&#x27;manhattan&#x27;, n_neighbors=1, weights=&#x27;distance&#x27;)</pre></div></div></div><div class=\"sk-serial\"><div class=\"sk-item\"><div class=\"sk-estimator sk-toggleable\"><input class=\"sk-toggleable__control sk-hidden--visually\" id=\"sk-estimator-id-191\" type=\"checkbox\" ><label for=\"sk-estimator-id-191\" class=\"sk-toggleable__label sk-toggleable__label-arrow\">KNeighborsClassifier</label><div class=\"sk-toggleable__content\"><pre>KNeighborsClassifier(metric=&#x27;manhattan&#x27;, n_neighbors=1, weights=&#x27;distance&#x27;)</pre></div></div></div></div></div></div></div></div></div></div></div></div>"
      ],
      "text/plain": [
       "Pipeline(steps=[('vect',\n",
       "                 CountVectorizer(tokenizer=<function word_tokenize at 0x00000254425D5AF0>)),\n",
       "                ('tfidf', TfidfTransformer()),\n",
       "                ('knn',\n",
       "                 MultiOutputClassifier(estimator=KNeighborsClassifier(metric='manhattan',\n",
       "                                                                      n_neighbors=1,\n",
       "                                                                      weights='distance')))])"
      ]
     },
     "execution_count": 411,
     "metadata": {},
     "output_type": "execute_result"
    }
   ],
   "source": [
    "knn.fit(X_train,y_train)"
   ]
  },
  {
   "cell_type": "code",
   "execution_count": 412,
   "id": "f423821f",
   "metadata": {},
   "outputs": [
    {
     "data": {
      "text/plain": [
       "0.7076033040874361"
      ]
     },
     "execution_count": 412,
     "metadata": {},
     "output_type": "execute_result"
    }
   ],
   "source": [
    "e1 = Extract(pred_knn)\n",
    "e2 = y_test['lab2']\n",
    "f1_pr_knn = f1_score(e2, e1, average = 'weighted')\n",
    "f1_pr_knn "
   ]
  },
  {
   "cell_type": "code",
   "execution_count": 413,
   "id": "5a97f097",
   "metadata": {},
   "outputs": [
    {
     "data": {
      "text/plain": [
       "0.8952581163937161"
      ]
     },
     "execution_count": 413,
     "metadata": {},
     "output_type": "execute_result"
    }
   ],
   "source": [
    "e3 = Extract2(pred_knn)\n",
    "e4 = y_test['lab']\n",
    "f1_er_knn  = f1_score(e4, e3, average = 'weighted')\n",
    "f1_er_knn "
   ]
  },
  {
   "cell_type": "code",
   "execution_count": 414,
   "id": "dd3f158f",
   "metadata": {},
   "outputs": [
    {
     "name": "stdout",
     "output_type": "stream",
     "text": [
      "              precision    recall  f1-score   support\n",
      "\n",
      "           0       0.44      0.52      0.48       493\n",
      "           1       0.66      0.64      0.65      1190\n",
      "           2       0.79      0.80      0.79      1070\n",
      "           3       0.76      0.74      0.75      2129\n",
      "\n",
      "    accuracy                           0.71      4882\n",
      "   macro avg       0.66      0.67      0.67      4882\n",
      "weighted avg       0.71      0.71      0.71      4882\n",
      "\n"
     ]
    }
   ],
   "source": [
    "print(classification_report(e2, e1))\n",
    "#PGR: 0:'33:66',1 : '1-33', 2:'NEGATIVO', 3: '66:100' "
   ]
  },
  {
   "cell_type": "code",
   "execution_count": 415,
   "id": "a11a1619",
   "metadata": {},
   "outputs": [
    {
     "name": "stdout",
     "output_type": "stream",
     "text": [
      "              precision    recall  f1-score   support\n",
      "\n",
      "           0       0.94      0.94      0.94      3781\n",
      "           1       0.79      0.82      0.80       609\n",
      "           2       0.55      0.56      0.56       129\n",
      "           3       0.76      0.68      0.72       363\n",
      "\n",
      "    accuracy                           0.90      4882\n",
      "   macro avg       0.76      0.75      0.75      4882\n",
      "weighted avg       0.90      0.90      0.90      4882\n",
      "\n"
     ]
    }
   ],
   "source": [
    "#ER :  0:'66-100',1 : 'NEGATIVO', 2:'33-66', 3: '1-33'\n",
    "print(classification_report(e4, e3))\n",
    "\n",
    "\n",
    "#WORST PREDICTION IN 33-66 but Better than other classification algorithm"
   ]
  },
  {
   "cell_type": "code",
   "execution_count": 416,
   "id": "cf5b556b",
   "metadata": {},
   "outputs": [
    {
     "data": {
      "text/plain": [
       "0.6749283080704629"
      ]
     },
     "execution_count": 416,
     "metadata": {},
     "output_type": "execute_result"
    }
   ],
   "source": [
    "knn_score = knn.score(X_test,y_test)\n",
    "knn_score"
   ]
  },
  {
   "cell_type": "markdown",
   "id": "fd7b9578",
   "metadata": {},
   "source": [
    "### SVC"
   ]
  },
  {
   "cell_type": "code",
   "execution_count": 342,
   "id": "68fde783",
   "metadata": {},
   "outputs": [],
   "source": [
    "pipeline_svc =Pipeline([\n",
    "                ('vect', CountVectorizer(tokenizer=word_tokenize)),\n",
    "                ('tfidf', TfidfTransformer()),\n",
    "                ('svc', MultiOutputClassifier(LinearSVC())) ])\n"
   ]
  },
  {
   "cell_type": "code",
   "execution_count": 343,
   "id": "de543d08",
   "metadata": {},
   "outputs": [
    {
     "data": {
      "text/html": [
       "<style>#sk-container-id-21 {color: black;background-color: white;}#sk-container-id-21 pre{padding: 0;}#sk-container-id-21 div.sk-toggleable {background-color: white;}#sk-container-id-21 label.sk-toggleable__label {cursor: pointer;display: block;width: 100%;margin-bottom: 0;padding: 0.3em;box-sizing: border-box;text-align: center;}#sk-container-id-21 label.sk-toggleable__label-arrow:before {content: \"▸\";float: left;margin-right: 0.25em;color: #696969;}#sk-container-id-21 label.sk-toggleable__label-arrow:hover:before {color: black;}#sk-container-id-21 div.sk-estimator:hover label.sk-toggleable__label-arrow:before {color: black;}#sk-container-id-21 div.sk-toggleable__content {max-height: 0;max-width: 0;overflow: hidden;text-align: left;background-color: #f0f8ff;}#sk-container-id-21 div.sk-toggleable__content pre {margin: 0.2em;color: black;border-radius: 0.25em;background-color: #f0f8ff;}#sk-container-id-21 input.sk-toggleable__control:checked~div.sk-toggleable__content {max-height: 200px;max-width: 100%;overflow: auto;}#sk-container-id-21 input.sk-toggleable__control:checked~label.sk-toggleable__label-arrow:before {content: \"▾\";}#sk-container-id-21 div.sk-estimator input.sk-toggleable__control:checked~label.sk-toggleable__label {background-color: #d4ebff;}#sk-container-id-21 div.sk-label input.sk-toggleable__control:checked~label.sk-toggleable__label {background-color: #d4ebff;}#sk-container-id-21 input.sk-hidden--visually {border: 0;clip: rect(1px 1px 1px 1px);clip: rect(1px, 1px, 1px, 1px);height: 1px;margin: -1px;overflow: hidden;padding: 0;position: absolute;width: 1px;}#sk-container-id-21 div.sk-estimator {font-family: monospace;background-color: #f0f8ff;border: 1px dotted black;border-radius: 0.25em;box-sizing: border-box;margin-bottom: 0.5em;}#sk-container-id-21 div.sk-estimator:hover {background-color: #d4ebff;}#sk-container-id-21 div.sk-parallel-item::after {content: \"\";width: 100%;border-bottom: 1px solid gray;flex-grow: 1;}#sk-container-id-21 div.sk-label:hover label.sk-toggleable__label {background-color: #d4ebff;}#sk-container-id-21 div.sk-serial::before {content: \"\";position: absolute;border-left: 1px solid gray;box-sizing: border-box;top: 0;bottom: 0;left: 50%;z-index: 0;}#sk-container-id-21 div.sk-serial {display: flex;flex-direction: column;align-items: center;background-color: white;padding-right: 0.2em;padding-left: 0.2em;position: relative;}#sk-container-id-21 div.sk-item {position: relative;z-index: 1;}#sk-container-id-21 div.sk-parallel {display: flex;align-items: stretch;justify-content: center;background-color: white;position: relative;}#sk-container-id-21 div.sk-item::before, #sk-container-id-21 div.sk-parallel-item::before {content: \"\";position: absolute;border-left: 1px solid gray;box-sizing: border-box;top: 0;bottom: 0;left: 50%;z-index: -1;}#sk-container-id-21 div.sk-parallel-item {display: flex;flex-direction: column;z-index: 1;position: relative;background-color: white;}#sk-container-id-21 div.sk-parallel-item:first-child::after {align-self: flex-end;width: 50%;}#sk-container-id-21 div.sk-parallel-item:last-child::after {align-self: flex-start;width: 50%;}#sk-container-id-21 div.sk-parallel-item:only-child::after {width: 0;}#sk-container-id-21 div.sk-dashed-wrapped {border: 1px dashed gray;margin: 0 0.4em 0.5em 0.4em;box-sizing: border-box;padding-bottom: 0.4em;background-color: white;}#sk-container-id-21 div.sk-label label {font-family: monospace;font-weight: bold;display: inline-block;line-height: 1.2em;}#sk-container-id-21 div.sk-label-container {text-align: center;}#sk-container-id-21 div.sk-container {/* jupyter's `normalize.less` sets `[hidden] { display: none; }` but bootstrap.min.css set `[hidden] { display: none !important; }` so we also need the `!important` here to be able to override the default hidden behavior on the sphinx rendered scikit-learn.org. See: https://github.com/scikit-learn/scikit-learn/issues/21755 */display: inline-block !important;position: relative;}#sk-container-id-21 div.sk-text-repr-fallback {display: none;}</style><div id=\"sk-container-id-21\" class=\"sk-top-container\"><div class=\"sk-text-repr-fallback\"><pre>Pipeline(steps=[(&#x27;vect&#x27;,\n",
       "                 CountVectorizer(tokenizer=&lt;function word_tokenize at 0x00000254425D5AF0&gt;)),\n",
       "                (&#x27;tfidf&#x27;, TfidfTransformer()),\n",
       "                (&#x27;svc&#x27;, MultiOutputClassifier(estimator=LinearSVC()))])</pre><b>In a Jupyter environment, please rerun this cell to show the HTML representation or trust the notebook. <br />On GitHub, the HTML representation is unable to render, please try loading this page with nbviewer.org.</b></div><div class=\"sk-container\" hidden><div class=\"sk-item sk-dashed-wrapped\"><div class=\"sk-label-container\"><div class=\"sk-label sk-toggleable\"><input class=\"sk-toggleable__control sk-hidden--visually\" id=\"sk-estimator-id-129\" type=\"checkbox\" ><label for=\"sk-estimator-id-129\" class=\"sk-toggleable__label sk-toggleable__label-arrow\">Pipeline</label><div class=\"sk-toggleable__content\"><pre>Pipeline(steps=[(&#x27;vect&#x27;,\n",
       "                 CountVectorizer(tokenizer=&lt;function word_tokenize at 0x00000254425D5AF0&gt;)),\n",
       "                (&#x27;tfidf&#x27;, TfidfTransformer()),\n",
       "                (&#x27;svc&#x27;, MultiOutputClassifier(estimator=LinearSVC()))])</pre></div></div></div><div class=\"sk-serial\"><div class=\"sk-item\"><div class=\"sk-estimator sk-toggleable\"><input class=\"sk-toggleable__control sk-hidden--visually\" id=\"sk-estimator-id-130\" type=\"checkbox\" ><label for=\"sk-estimator-id-130\" class=\"sk-toggleable__label sk-toggleable__label-arrow\">CountVectorizer</label><div class=\"sk-toggleable__content\"><pre>CountVectorizer(tokenizer=&lt;function word_tokenize at 0x00000254425D5AF0&gt;)</pre></div></div></div><div class=\"sk-item\"><div class=\"sk-estimator sk-toggleable\"><input class=\"sk-toggleable__control sk-hidden--visually\" id=\"sk-estimator-id-131\" type=\"checkbox\" ><label for=\"sk-estimator-id-131\" class=\"sk-toggleable__label sk-toggleable__label-arrow\">TfidfTransformer</label><div class=\"sk-toggleable__content\"><pre>TfidfTransformer()</pre></div></div></div><div class=\"sk-item sk-dashed-wrapped\"><div class=\"sk-label-container\"><div class=\"sk-label sk-toggleable\"><input class=\"sk-toggleable__control sk-hidden--visually\" id=\"sk-estimator-id-132\" type=\"checkbox\" ><label for=\"sk-estimator-id-132\" class=\"sk-toggleable__label sk-toggleable__label-arrow\">svc: MultiOutputClassifier</label><div class=\"sk-toggleable__content\"><pre>MultiOutputClassifier(estimator=LinearSVC())</pre></div></div></div><div class=\"sk-parallel\"><div class=\"sk-parallel-item\"><div class=\"sk-item\"><div class=\"sk-label-container\"><div class=\"sk-label sk-toggleable\"><input class=\"sk-toggleable__control sk-hidden--visually\" id=\"sk-estimator-id-133\" type=\"checkbox\" ><label for=\"sk-estimator-id-133\" class=\"sk-toggleable__label sk-toggleable__label-arrow\">estimator: LinearSVC</label><div class=\"sk-toggleable__content\"><pre>LinearSVC()</pre></div></div></div><div class=\"sk-serial\"><div class=\"sk-item\"><div class=\"sk-estimator sk-toggleable\"><input class=\"sk-toggleable__control sk-hidden--visually\" id=\"sk-estimator-id-134\" type=\"checkbox\" ><label for=\"sk-estimator-id-134\" class=\"sk-toggleable__label sk-toggleable__label-arrow\">LinearSVC</label><div class=\"sk-toggleable__content\"><pre>LinearSVC()</pre></div></div></div></div></div></div></div></div></div></div></div></div>"
      ],
      "text/plain": [
       "Pipeline(steps=[('vect',\n",
       "                 CountVectorizer(tokenizer=<function word_tokenize at 0x00000254425D5AF0>)),\n",
       "                ('tfidf', TfidfTransformer()),\n",
       "                ('svc', MultiOutputClassifier(estimator=LinearSVC()))])"
      ]
     },
     "execution_count": 343,
     "metadata": {},
     "output_type": "execute_result"
    }
   ],
   "source": [
    "pipeline_svc.fit(X_train,y_train)"
   ]
  },
  {
   "cell_type": "code",
   "execution_count": 344,
   "id": "81d8021c",
   "metadata": {},
   "outputs": [
    {
     "data": {
      "text/plain": [
       "0.6884473576403114"
      ]
     },
     "execution_count": 344,
     "metadata": {},
     "output_type": "execute_result"
    }
   ],
   "source": [
    "pipeline_svc.score(X_test,y_test)"
   ]
  },
  {
   "cell_type": "code",
   "execution_count": 345,
   "id": "db9b8ab6",
   "metadata": {},
   "outputs": [],
   "source": [
    "svc_params = {'svc__estimator__C': [0.001, 0.01, 0.05, 0.1, 0.5, 1.0, 10.0],\n",
    "    \n",
    "}"
   ]
  },
  {
   "cell_type": "code",
   "execution_count": 346,
   "id": "4e69de47",
   "metadata": {},
   "outputs": [
    {
     "name": "stdout",
     "output_type": "stream",
     "text": [
      "Fitting 5 folds for each of 5 candidates, totalling 25 fits\n"
     ]
    },
    {
     "name": "stderr",
     "output_type": "stream",
     "text": [
      "C:\\Users\\Paola\\anaconda3\\lib\\site-packages\\sklearn\\model_selection\\_search.py:953: UserWarning: One or more of the test scores are non-finite: [nan nan nan nan nan]\n",
      "  warnings.warn(\n"
     ]
    },
    {
     "data": {
      "text/html": [
       "<style>#sk-container-id-22 {color: black;background-color: white;}#sk-container-id-22 pre{padding: 0;}#sk-container-id-22 div.sk-toggleable {background-color: white;}#sk-container-id-22 label.sk-toggleable__label {cursor: pointer;display: block;width: 100%;margin-bottom: 0;padding: 0.3em;box-sizing: border-box;text-align: center;}#sk-container-id-22 label.sk-toggleable__label-arrow:before {content: \"▸\";float: left;margin-right: 0.25em;color: #696969;}#sk-container-id-22 label.sk-toggleable__label-arrow:hover:before {color: black;}#sk-container-id-22 div.sk-estimator:hover label.sk-toggleable__label-arrow:before {color: black;}#sk-container-id-22 div.sk-toggleable__content {max-height: 0;max-width: 0;overflow: hidden;text-align: left;background-color: #f0f8ff;}#sk-container-id-22 div.sk-toggleable__content pre {margin: 0.2em;color: black;border-radius: 0.25em;background-color: #f0f8ff;}#sk-container-id-22 input.sk-toggleable__control:checked~div.sk-toggleable__content {max-height: 200px;max-width: 100%;overflow: auto;}#sk-container-id-22 input.sk-toggleable__control:checked~label.sk-toggleable__label-arrow:before {content: \"▾\";}#sk-container-id-22 div.sk-estimator input.sk-toggleable__control:checked~label.sk-toggleable__label {background-color: #d4ebff;}#sk-container-id-22 div.sk-label input.sk-toggleable__control:checked~label.sk-toggleable__label {background-color: #d4ebff;}#sk-container-id-22 input.sk-hidden--visually {border: 0;clip: rect(1px 1px 1px 1px);clip: rect(1px, 1px, 1px, 1px);height: 1px;margin: -1px;overflow: hidden;padding: 0;position: absolute;width: 1px;}#sk-container-id-22 div.sk-estimator {font-family: monospace;background-color: #f0f8ff;border: 1px dotted black;border-radius: 0.25em;box-sizing: border-box;margin-bottom: 0.5em;}#sk-container-id-22 div.sk-estimator:hover {background-color: #d4ebff;}#sk-container-id-22 div.sk-parallel-item::after {content: \"\";width: 100%;border-bottom: 1px solid gray;flex-grow: 1;}#sk-container-id-22 div.sk-label:hover label.sk-toggleable__label {background-color: #d4ebff;}#sk-container-id-22 div.sk-serial::before {content: \"\";position: absolute;border-left: 1px solid gray;box-sizing: border-box;top: 0;bottom: 0;left: 50%;z-index: 0;}#sk-container-id-22 div.sk-serial {display: flex;flex-direction: column;align-items: center;background-color: white;padding-right: 0.2em;padding-left: 0.2em;position: relative;}#sk-container-id-22 div.sk-item {position: relative;z-index: 1;}#sk-container-id-22 div.sk-parallel {display: flex;align-items: stretch;justify-content: center;background-color: white;position: relative;}#sk-container-id-22 div.sk-item::before, #sk-container-id-22 div.sk-parallel-item::before {content: \"\";position: absolute;border-left: 1px solid gray;box-sizing: border-box;top: 0;bottom: 0;left: 50%;z-index: -1;}#sk-container-id-22 div.sk-parallel-item {display: flex;flex-direction: column;z-index: 1;position: relative;background-color: white;}#sk-container-id-22 div.sk-parallel-item:first-child::after {align-self: flex-end;width: 50%;}#sk-container-id-22 div.sk-parallel-item:last-child::after {align-self: flex-start;width: 50%;}#sk-container-id-22 div.sk-parallel-item:only-child::after {width: 0;}#sk-container-id-22 div.sk-dashed-wrapped {border: 1px dashed gray;margin: 0 0.4em 0.5em 0.4em;box-sizing: border-box;padding-bottom: 0.4em;background-color: white;}#sk-container-id-22 div.sk-label label {font-family: monospace;font-weight: bold;display: inline-block;line-height: 1.2em;}#sk-container-id-22 div.sk-label-container {text-align: center;}#sk-container-id-22 div.sk-container {/* jupyter's `normalize.less` sets `[hidden] { display: none; }` but bootstrap.min.css set `[hidden] { display: none !important; }` so we also need the `!important` here to be able to override the default hidden behavior on the sphinx rendered scikit-learn.org. See: https://github.com/scikit-learn/scikit-learn/issues/21755 */display: inline-block !important;position: relative;}#sk-container-id-22 div.sk-text-repr-fallback {display: none;}</style><div id=\"sk-container-id-22\" class=\"sk-top-container\"><div class=\"sk-text-repr-fallback\"><pre>RandomizedSearchCV(cv=5,\n",
       "                   estimator=Pipeline(steps=[(&#x27;vect&#x27;,\n",
       "                                              CountVectorizer(tokenizer=&lt;function word_tokenize at 0x00000254425D5AF0&gt;)),\n",
       "                                             (&#x27;tfidf&#x27;, TfidfTransformer()),\n",
       "                                             (&#x27;svc&#x27;,\n",
       "                                              MultiOutputClassifier(estimator=LinearSVC()))]),\n",
       "                   n_iter=5, n_jobs=-1,\n",
       "                   param_distributions={&#x27;svc__estimator__C&#x27;: [0.001, 0.01, 0.05,\n",
       "                                                              0.1, 0.5, 1.0,\n",
       "                                                              10.0]},\n",
       "                   scoring=&#x27;roc_auc&#x27;, verbose=3)</pre><b>In a Jupyter environment, please rerun this cell to show the HTML representation or trust the notebook. <br />On GitHub, the HTML representation is unable to render, please try loading this page with nbviewer.org.</b></div><div class=\"sk-container\" hidden><div class=\"sk-item sk-dashed-wrapped\"><div class=\"sk-label-container\"><div class=\"sk-label sk-toggleable\"><input class=\"sk-toggleable__control sk-hidden--visually\" id=\"sk-estimator-id-135\" type=\"checkbox\" ><label for=\"sk-estimator-id-135\" class=\"sk-toggleable__label sk-toggleable__label-arrow\">RandomizedSearchCV</label><div class=\"sk-toggleable__content\"><pre>RandomizedSearchCV(cv=5,\n",
       "                   estimator=Pipeline(steps=[(&#x27;vect&#x27;,\n",
       "                                              CountVectorizer(tokenizer=&lt;function word_tokenize at 0x00000254425D5AF0&gt;)),\n",
       "                                             (&#x27;tfidf&#x27;, TfidfTransformer()),\n",
       "                                             (&#x27;svc&#x27;,\n",
       "                                              MultiOutputClassifier(estimator=LinearSVC()))]),\n",
       "                   n_iter=5, n_jobs=-1,\n",
       "                   param_distributions={&#x27;svc__estimator__C&#x27;: [0.001, 0.01, 0.05,\n",
       "                                                              0.1, 0.5, 1.0,\n",
       "                                                              10.0]},\n",
       "                   scoring=&#x27;roc_auc&#x27;, verbose=3)</pre></div></div></div><div class=\"sk-parallel\"><div class=\"sk-parallel-item\"><div class=\"sk-item\"><div class=\"sk-label-container\"><div class=\"sk-label sk-toggleable\"><input class=\"sk-toggleable__control sk-hidden--visually\" id=\"sk-estimator-id-136\" type=\"checkbox\" ><label for=\"sk-estimator-id-136\" class=\"sk-toggleable__label sk-toggleable__label-arrow\">estimator: Pipeline</label><div class=\"sk-toggleable__content\"><pre>Pipeline(steps=[(&#x27;vect&#x27;,\n",
       "                 CountVectorizer(tokenizer=&lt;function word_tokenize at 0x00000254425D5AF0&gt;)),\n",
       "                (&#x27;tfidf&#x27;, TfidfTransformer()),\n",
       "                (&#x27;svc&#x27;, MultiOutputClassifier(estimator=LinearSVC()))])</pre></div></div></div><div class=\"sk-serial\"><div class=\"sk-item\"><div class=\"sk-serial\"><div class=\"sk-item\"><div class=\"sk-estimator sk-toggleable\"><input class=\"sk-toggleable__control sk-hidden--visually\" id=\"sk-estimator-id-137\" type=\"checkbox\" ><label for=\"sk-estimator-id-137\" class=\"sk-toggleable__label sk-toggleable__label-arrow\">CountVectorizer</label><div class=\"sk-toggleable__content\"><pre>CountVectorizer(tokenizer=&lt;function word_tokenize at 0x00000254425D5AF0&gt;)</pre></div></div></div><div class=\"sk-item\"><div class=\"sk-estimator sk-toggleable\"><input class=\"sk-toggleable__control sk-hidden--visually\" id=\"sk-estimator-id-138\" type=\"checkbox\" ><label for=\"sk-estimator-id-138\" class=\"sk-toggleable__label sk-toggleable__label-arrow\">TfidfTransformer</label><div class=\"sk-toggleable__content\"><pre>TfidfTransformer()</pre></div></div></div><div class=\"sk-item sk-dashed-wrapped\"><div class=\"sk-label-container\"><div class=\"sk-label sk-toggleable\"><input class=\"sk-toggleable__control sk-hidden--visually\" id=\"sk-estimator-id-139\" type=\"checkbox\" ><label for=\"sk-estimator-id-139\" class=\"sk-toggleable__label sk-toggleable__label-arrow\">svc: MultiOutputClassifier</label><div class=\"sk-toggleable__content\"><pre>MultiOutputClassifier(estimator=LinearSVC())</pre></div></div></div><div class=\"sk-parallel\"><div class=\"sk-parallel-item\"><div class=\"sk-item\"><div class=\"sk-label-container\"><div class=\"sk-label sk-toggleable\"><input class=\"sk-toggleable__control sk-hidden--visually\" id=\"sk-estimator-id-140\" type=\"checkbox\" ><label for=\"sk-estimator-id-140\" class=\"sk-toggleable__label sk-toggleable__label-arrow\">estimator: LinearSVC</label><div class=\"sk-toggleable__content\"><pre>LinearSVC()</pre></div></div></div><div class=\"sk-serial\"><div class=\"sk-item\"><div class=\"sk-estimator sk-toggleable\"><input class=\"sk-toggleable__control sk-hidden--visually\" id=\"sk-estimator-id-141\" type=\"checkbox\" ><label for=\"sk-estimator-id-141\" class=\"sk-toggleable__label sk-toggleable__label-arrow\">LinearSVC</label><div class=\"sk-toggleable__content\"><pre>LinearSVC()</pre></div></div></div></div></div></div></div></div></div></div></div></div></div></div></div></div></div>"
      ],
      "text/plain": [
       "RandomizedSearchCV(cv=5,\n",
       "                   estimator=Pipeline(steps=[('vect',\n",
       "                                              CountVectorizer(tokenizer=<function word_tokenize at 0x00000254425D5AF0>)),\n",
       "                                             ('tfidf', TfidfTransformer()),\n",
       "                                             ('svc',\n",
       "                                              MultiOutputClassifier(estimator=LinearSVC()))]),\n",
       "                   n_iter=5, n_jobs=-1,\n",
       "                   param_distributions={'svc__estimator__C': [0.001, 0.01, 0.05,\n",
       "                                                              0.1, 0.5, 1.0,\n",
       "                                                              10.0]},\n",
       "                   scoring='roc_auc', verbose=3)"
      ]
     },
     "execution_count": 346,
     "metadata": {},
     "output_type": "execute_result"
    }
   ],
   "source": [
    "random_search = RandomizedSearchCV(pipeline_svc,param_distributions=svc_params,n_iter=5,scoring='roc_auc',n_jobs=-1,cv=5,verbose=3)\n",
    "random_search.fit(X_train, y_train)"
   ]
  },
  {
   "cell_type": "code",
   "execution_count": 347,
   "id": "3c7d8d63",
   "metadata": {},
   "outputs": [
    {
     "data": {
      "text/html": [
       "<style>#sk-container-id-23 {color: black;background-color: white;}#sk-container-id-23 pre{padding: 0;}#sk-container-id-23 div.sk-toggleable {background-color: white;}#sk-container-id-23 label.sk-toggleable__label {cursor: pointer;display: block;width: 100%;margin-bottom: 0;padding: 0.3em;box-sizing: border-box;text-align: center;}#sk-container-id-23 label.sk-toggleable__label-arrow:before {content: \"▸\";float: left;margin-right: 0.25em;color: #696969;}#sk-container-id-23 label.sk-toggleable__label-arrow:hover:before {color: black;}#sk-container-id-23 div.sk-estimator:hover label.sk-toggleable__label-arrow:before {color: black;}#sk-container-id-23 div.sk-toggleable__content {max-height: 0;max-width: 0;overflow: hidden;text-align: left;background-color: #f0f8ff;}#sk-container-id-23 div.sk-toggleable__content pre {margin: 0.2em;color: black;border-radius: 0.25em;background-color: #f0f8ff;}#sk-container-id-23 input.sk-toggleable__control:checked~div.sk-toggleable__content {max-height: 200px;max-width: 100%;overflow: auto;}#sk-container-id-23 input.sk-toggleable__control:checked~label.sk-toggleable__label-arrow:before {content: \"▾\";}#sk-container-id-23 div.sk-estimator input.sk-toggleable__control:checked~label.sk-toggleable__label {background-color: #d4ebff;}#sk-container-id-23 div.sk-label input.sk-toggleable__control:checked~label.sk-toggleable__label {background-color: #d4ebff;}#sk-container-id-23 input.sk-hidden--visually {border: 0;clip: rect(1px 1px 1px 1px);clip: rect(1px, 1px, 1px, 1px);height: 1px;margin: -1px;overflow: hidden;padding: 0;position: absolute;width: 1px;}#sk-container-id-23 div.sk-estimator {font-family: monospace;background-color: #f0f8ff;border: 1px dotted black;border-radius: 0.25em;box-sizing: border-box;margin-bottom: 0.5em;}#sk-container-id-23 div.sk-estimator:hover {background-color: #d4ebff;}#sk-container-id-23 div.sk-parallel-item::after {content: \"\";width: 100%;border-bottom: 1px solid gray;flex-grow: 1;}#sk-container-id-23 div.sk-label:hover label.sk-toggleable__label {background-color: #d4ebff;}#sk-container-id-23 div.sk-serial::before {content: \"\";position: absolute;border-left: 1px solid gray;box-sizing: border-box;top: 0;bottom: 0;left: 50%;z-index: 0;}#sk-container-id-23 div.sk-serial {display: flex;flex-direction: column;align-items: center;background-color: white;padding-right: 0.2em;padding-left: 0.2em;position: relative;}#sk-container-id-23 div.sk-item {position: relative;z-index: 1;}#sk-container-id-23 div.sk-parallel {display: flex;align-items: stretch;justify-content: center;background-color: white;position: relative;}#sk-container-id-23 div.sk-item::before, #sk-container-id-23 div.sk-parallel-item::before {content: \"\";position: absolute;border-left: 1px solid gray;box-sizing: border-box;top: 0;bottom: 0;left: 50%;z-index: -1;}#sk-container-id-23 div.sk-parallel-item {display: flex;flex-direction: column;z-index: 1;position: relative;background-color: white;}#sk-container-id-23 div.sk-parallel-item:first-child::after {align-self: flex-end;width: 50%;}#sk-container-id-23 div.sk-parallel-item:last-child::after {align-self: flex-start;width: 50%;}#sk-container-id-23 div.sk-parallel-item:only-child::after {width: 0;}#sk-container-id-23 div.sk-dashed-wrapped {border: 1px dashed gray;margin: 0 0.4em 0.5em 0.4em;box-sizing: border-box;padding-bottom: 0.4em;background-color: white;}#sk-container-id-23 div.sk-label label {font-family: monospace;font-weight: bold;display: inline-block;line-height: 1.2em;}#sk-container-id-23 div.sk-label-container {text-align: center;}#sk-container-id-23 div.sk-container {/* jupyter's `normalize.less` sets `[hidden] { display: none; }` but bootstrap.min.css set `[hidden] { display: none !important; }` so we also need the `!important` here to be able to override the default hidden behavior on the sphinx rendered scikit-learn.org. See: https://github.com/scikit-learn/scikit-learn/issues/21755 */display: inline-block !important;position: relative;}#sk-container-id-23 div.sk-text-repr-fallback {display: none;}</style><div id=\"sk-container-id-23\" class=\"sk-top-container\"><div class=\"sk-text-repr-fallback\"><pre>Pipeline(steps=[(&#x27;vect&#x27;,\n",
       "                 CountVectorizer(tokenizer=&lt;function word_tokenize at 0x00000254425D5AF0&gt;)),\n",
       "                (&#x27;tfidf&#x27;, TfidfTransformer()),\n",
       "                (&#x27;svc&#x27;, MultiOutputClassifier(estimator=LinearSVC(C=10.0)))])</pre><b>In a Jupyter environment, please rerun this cell to show the HTML representation or trust the notebook. <br />On GitHub, the HTML representation is unable to render, please try loading this page with nbviewer.org.</b></div><div class=\"sk-container\" hidden><div class=\"sk-item sk-dashed-wrapped\"><div class=\"sk-label-container\"><div class=\"sk-label sk-toggleable\"><input class=\"sk-toggleable__control sk-hidden--visually\" id=\"sk-estimator-id-142\" type=\"checkbox\" ><label for=\"sk-estimator-id-142\" class=\"sk-toggleable__label sk-toggleable__label-arrow\">Pipeline</label><div class=\"sk-toggleable__content\"><pre>Pipeline(steps=[(&#x27;vect&#x27;,\n",
       "                 CountVectorizer(tokenizer=&lt;function word_tokenize at 0x00000254425D5AF0&gt;)),\n",
       "                (&#x27;tfidf&#x27;, TfidfTransformer()),\n",
       "                (&#x27;svc&#x27;, MultiOutputClassifier(estimator=LinearSVC(C=10.0)))])</pre></div></div></div><div class=\"sk-serial\"><div class=\"sk-item\"><div class=\"sk-estimator sk-toggleable\"><input class=\"sk-toggleable__control sk-hidden--visually\" id=\"sk-estimator-id-143\" type=\"checkbox\" ><label for=\"sk-estimator-id-143\" class=\"sk-toggleable__label sk-toggleable__label-arrow\">CountVectorizer</label><div class=\"sk-toggleable__content\"><pre>CountVectorizer(tokenizer=&lt;function word_tokenize at 0x00000254425D5AF0&gt;)</pre></div></div></div><div class=\"sk-item\"><div class=\"sk-estimator sk-toggleable\"><input class=\"sk-toggleable__control sk-hidden--visually\" id=\"sk-estimator-id-144\" type=\"checkbox\" ><label for=\"sk-estimator-id-144\" class=\"sk-toggleable__label sk-toggleable__label-arrow\">TfidfTransformer</label><div class=\"sk-toggleable__content\"><pre>TfidfTransformer()</pre></div></div></div><div class=\"sk-item sk-dashed-wrapped\"><div class=\"sk-label-container\"><div class=\"sk-label sk-toggleable\"><input class=\"sk-toggleable__control sk-hidden--visually\" id=\"sk-estimator-id-145\" type=\"checkbox\" ><label for=\"sk-estimator-id-145\" class=\"sk-toggleable__label sk-toggleable__label-arrow\">svc: MultiOutputClassifier</label><div class=\"sk-toggleable__content\"><pre>MultiOutputClassifier(estimator=LinearSVC(C=10.0))</pre></div></div></div><div class=\"sk-parallel\"><div class=\"sk-parallel-item\"><div class=\"sk-item\"><div class=\"sk-label-container\"><div class=\"sk-label sk-toggleable\"><input class=\"sk-toggleable__control sk-hidden--visually\" id=\"sk-estimator-id-146\" type=\"checkbox\" ><label for=\"sk-estimator-id-146\" class=\"sk-toggleable__label sk-toggleable__label-arrow\">estimator: LinearSVC</label><div class=\"sk-toggleable__content\"><pre>LinearSVC(C=10.0)</pre></div></div></div><div class=\"sk-serial\"><div class=\"sk-item\"><div class=\"sk-estimator sk-toggleable\"><input class=\"sk-toggleable__control sk-hidden--visually\" id=\"sk-estimator-id-147\" type=\"checkbox\" ><label for=\"sk-estimator-id-147\" class=\"sk-toggleable__label sk-toggleable__label-arrow\">LinearSVC</label><div class=\"sk-toggleable__content\"><pre>LinearSVC(C=10.0)</pre></div></div></div></div></div></div></div></div></div></div></div></div>"
      ],
      "text/plain": [
       "Pipeline(steps=[('vect',\n",
       "                 CountVectorizer(tokenizer=<function word_tokenize at 0x00000254425D5AF0>)),\n",
       "                ('tfidf', TfidfTransformer()),\n",
       "                ('svc', MultiOutputClassifier(estimator=LinearSVC(C=10.0)))])"
      ]
     },
     "execution_count": 347,
     "metadata": {},
     "output_type": "execute_result"
    }
   ],
   "source": [
    "svc = random_search.best_estimator_\n",
    "svc"
   ]
  },
  {
   "cell_type": "code",
   "execution_count": 348,
   "id": "8e8855ed",
   "metadata": {},
   "outputs": [
    {
     "data": {
      "text/plain": [
       "array([[2, 0],\n",
       "       [1, 2],\n",
       "       [2, 1],\n",
       "       ...,\n",
       "       [3, 0],\n",
       "       [3, 0],\n",
       "       [0, 0]], dtype=int64)"
      ]
     },
     "execution_count": 348,
     "metadata": {},
     "output_type": "execute_result"
    }
   ],
   "source": [
    "pred_svc = svc.predict(X_test)\n",
    "pred_svc"
   ]
  },
  {
   "cell_type": "code",
   "execution_count": 349,
   "id": "0f45048d",
   "metadata": {},
   "outputs": [
    {
     "data": {
      "text/plain": [
       "0.7257463368427439"
      ]
     },
     "execution_count": 349,
     "metadata": {},
     "output_type": "execute_result"
    }
   ],
   "source": [
    "e1 = Extract(pred_svc)\n",
    "e2 = y_test['lab2']\n",
    "f1_pr_svc = f1_score(e2, e1, average = 'weighted')\n",
    "f1_pr_svc"
   ]
  },
  {
   "cell_type": "code",
   "execution_count": 350,
   "id": "ed8a94fe",
   "metadata": {},
   "outputs": [
    {
     "name": "stdout",
     "output_type": "stream",
     "text": [
      "              precision    recall  f1-score   support\n",
      "\n",
      "           0       0.50      0.40      0.45       493\n",
      "           1       0.70      0.62      0.66      1190\n",
      "           2       0.85      0.82      0.84      1070\n",
      "           3       0.73      0.82      0.77      2129\n",
      "\n",
      "    accuracy                           0.73      4882\n",
      "   macro avg       0.70      0.67      0.68      4882\n",
      "weighted avg       0.73      0.73      0.73      4882\n",
      "\n"
     ]
    }
   ],
   "source": [
    "print(classification_report(e2, e1))\n",
    "#PGR: 0:'33:66',1 : '1-33', 2:'NEGATIVO', 3: '66:100' "
   ]
  },
  {
   "cell_type": "code",
   "execution_count": 351,
   "id": "6bb63489",
   "metadata": {},
   "outputs": [
    {
     "data": {
      "text/plain": [
       "0.9095151898207624"
      ]
     },
     "execution_count": 351,
     "metadata": {},
     "output_type": "execute_result"
    }
   ],
   "source": [
    "e3 = Extract2(pred_svc)\n",
    "e4 = y_test['lab']\n",
    "f1_er_svc = f1_score(e4, e3, average = 'weighted')\n",
    "f1_er_svc"
   ]
  },
  {
   "cell_type": "code",
   "execution_count": 352,
   "id": "de998eb3",
   "metadata": {},
   "outputs": [
    {
     "name": "stdout",
     "output_type": "stream",
     "text": [
      "              precision    recall  f1-score   support\n",
      "\n",
      "           0       0.93      0.97      0.95      3781\n",
      "           1       0.87      0.80      0.84       609\n",
      "           2       0.61      0.48      0.54       129\n",
      "           3       0.81      0.70      0.75       363\n",
      "\n",
      "    accuracy                           0.91      4882\n",
      "   macro avg       0.81      0.74      0.77      4882\n",
      "weighted avg       0.91      0.91      0.91      4882\n",
      "\n"
     ]
    }
   ],
   "source": [
    "#ER :  0:'66-100',1 : 'NEGATIVO', 2:'33-66', 3: '1-33'\n",
    "print(classification_report(e4, e3))"
   ]
  },
  {
   "cell_type": "code",
   "execution_count": 353,
   "id": "a530f10d",
   "metadata": {},
   "outputs": [
    {
     "data": {
      "text/plain": [
       "0.6896763621466612"
      ]
     },
     "execution_count": 353,
     "metadata": {},
     "output_type": "execute_result"
    }
   ],
   "source": [
    "svc.fit(X_train, y_train)\n",
    "svc_score=  svc.score(X_test,y_test)\n",
    "svc_score"
   ]
  },
  {
   "cell_type": "code",
   "execution_count": 417,
   "id": "9d7d4c73",
   "metadata": {},
   "outputs": [
    {
     "data": {
      "text/html": [
       "<div>\n",
       "<style scoped>\n",
       "    .dataframe tbody tr th:only-of-type {\n",
       "        vertical-align: middle;\n",
       "    }\n",
       "\n",
       "    .dataframe tbody tr th {\n",
       "        vertical-align: top;\n",
       "    }\n",
       "\n",
       "    .dataframe thead th {\n",
       "        text-align: right;\n",
       "    }\n",
       "</style>\n",
       "<table border=\"1\" class=\"dataframe\">\n",
       "  <thead>\n",
       "    <tr style=\"text-align: right;\">\n",
       "      <th></th>\n",
       "      <th>model</th>\n",
       "      <th>test accuracy</th>\n",
       "    </tr>\n",
       "  </thead>\n",
       "  <tbody>\n",
       "    <tr>\n",
       "      <th>3</th>\n",
       "      <td>SVC</td>\n",
       "      <td>0.689676</td>\n",
       "    </tr>\n",
       "    <tr>\n",
       "      <th>1</th>\n",
       "      <td>Logistic Regression</td>\n",
       "      <td>0.686809</td>\n",
       "    </tr>\n",
       "    <tr>\n",
       "      <th>2</th>\n",
       "      <td>KNN</td>\n",
       "      <td>0.674928</td>\n",
       "    </tr>\n",
       "    <tr>\n",
       "      <th>0</th>\n",
       "      <td>XGB</td>\n",
       "      <td>0.654035</td>\n",
       "    </tr>\n",
       "  </tbody>\n",
       "</table>\n",
       "</div>"
      ],
      "text/plain": [
       "                 model  test accuracy\n",
       "3                  SVC       0.689676\n",
       "1  Logistic Regression       0.686809\n",
       "2                  KNN       0.674928\n",
       "0                  XGB       0.654035"
      ]
     },
     "execution_count": 417,
     "metadata": {},
     "output_type": "execute_result"
    }
   ],
   "source": [
    "model_selection = pd.DataFrame({'model':['XGB', \"Logistic Regression\",\"KNN\", \"SVC\"], \n",
    "                               'test accuracy':[xgb_score,lr, knn_score, svc_score]})\n",
    "model_selection.sort_values(by = ['test accuracy'],ascending= False)"
   ]
  },
  {
   "cell_type": "code",
   "execution_count": 418,
   "id": "6764ea9d",
   "metadata": {},
   "outputs": [
    {
     "data": {
      "image/png": "[encoded data removed]",
      "text/plain": [
       "<Figure size 432x288 with 1 Axes>"
      ]
     },
     "metadata": {
      "needs_background": "light"
     },
     "output_type": "display_data"
    }
   ],
   "source": [
    "sns.barplot(x = 'model',\n",
    "            y = 'test accuracy',\n",
    "            data = model_selection)\n",
    " \n",
    "# Show the plot\n",
    "plt.show()"
   ]
  },
  {
   "cell_type": "code",
   "execution_count": 419,
   "id": "96f80b4d",
   "metadata": {},
   "outputs": [
    {
     "data": {
      "text/html": [
       "<div>\n",
       "<style scoped>\n",
       "    .dataframe tbody tr th:only-of-type {\n",
       "        vertical-align: middle;\n",
       "    }\n",
       "\n",
       "    .dataframe tbody tr th {\n",
       "        vertical-align: top;\n",
       "    }\n",
       "\n",
       "    .dataframe thead th {\n",
       "        text-align: right;\n",
       "    }\n",
       "</style>\n",
       "<table border=\"1\" class=\"dataframe\">\n",
       "  <thead>\n",
       "    <tr style=\"text-align: right;\">\n",
       "      <th></th>\n",
       "      <th>model</th>\n",
       "      <th>f1 score</th>\n",
       "    </tr>\n",
       "  </thead>\n",
       "  <tbody>\n",
       "    <tr>\n",
       "      <th>3</th>\n",
       "      <td>SVC</td>\n",
       "      <td>0.725746</td>\n",
       "    </tr>\n",
       "    <tr>\n",
       "      <th>1</th>\n",
       "      <td>Logistic Regression</td>\n",
       "      <td>0.714645</td>\n",
       "    </tr>\n",
       "    <tr>\n",
       "      <th>2</th>\n",
       "      <td>KNN</td>\n",
       "      <td>0.707603</td>\n",
       "    </tr>\n",
       "    <tr>\n",
       "      <th>0</th>\n",
       "      <td>XGB</td>\n",
       "      <td>0.673148</td>\n",
       "    </tr>\n",
       "  </tbody>\n",
       "</table>\n",
       "</div>"
      ],
      "text/plain": [
       "                 model  f1 score\n",
       "3                  SVC  0.725746\n",
       "1  Logistic Regression  0.714645\n",
       "2                  KNN  0.707603\n",
       "0                  XGB  0.673148"
      ]
     },
     "execution_count": 419,
     "metadata": {},
     "output_type": "execute_result"
    }
   ],
   "source": [
    "model_selection_f1_pr = pd.DataFrame({'model':['XGB', \"Logistic Regression\",\"KNN\", \"SVC\"], \n",
    "                               'f1 score':[f1_pr_xgb,f1_pr_lr, f1_pr_knn,f1_pr_svc]})\n",
    "model_selection_f1_pr.sort_values(by = ['f1 score'],ascending= False)\n"
   ]
  },
  {
   "cell_type": "code",
   "execution_count": 420,
   "id": "80fc6078",
   "metadata": {},
   "outputs": [
    {
     "data": {
      "image/png": "[encoded data removed]",
      "text/plain": [
       "<Figure size 432x288 with 1 Axes>"
      ]
     },
     "metadata": {
      "needs_background": "light"
     },
     "output_type": "display_data"
    }
   ],
   "source": [
    "sns.barplot(x = 'model',\n",
    "            y = 'f1 score',\n",
    "            data = model_selection_f1_pr)\n",
    " \n",
    "# Show the plot\n",
    "plt.show()"
   ]
  },
  {
   "cell_type": "code",
   "execution_count": 421,
   "id": "967d8435",
   "metadata": {},
   "outputs": [
    {
     "data": {
      "text/html": [
       "<div>\n",
       "<style scoped>\n",
       "    .dataframe tbody tr th:only-of-type {\n",
       "        vertical-align: middle;\n",
       "    }\n",
       "\n",
       "    .dataframe tbody tr th {\n",
       "        vertical-align: top;\n",
       "    }\n",
       "\n",
       "    .dataframe thead th {\n",
       "        text-align: right;\n",
       "    }\n",
       "</style>\n",
       "<table border=\"1\" class=\"dataframe\">\n",
       "  <thead>\n",
       "    <tr style=\"text-align: right;\">\n",
       "      <th></th>\n",
       "      <th>model</th>\n",
       "      <th>f1 score</th>\n",
       "    </tr>\n",
       "  </thead>\n",
       "  <tbody>\n",
       "    <tr>\n",
       "      <th>1</th>\n",
       "      <td>Logistic Regression</td>\n",
       "      <td>0.912643</td>\n",
       "    </tr>\n",
       "    <tr>\n",
       "      <th>3</th>\n",
       "      <td>SVC</td>\n",
       "      <td>0.909515</td>\n",
       "    </tr>\n",
       "    <tr>\n",
       "      <th>2</th>\n",
       "      <td>KNN</td>\n",
       "      <td>0.895258</td>\n",
       "    </tr>\n",
       "    <tr>\n",
       "      <th>0</th>\n",
       "      <td>XGB</td>\n",
       "      <td>0.892293</td>\n",
       "    </tr>\n",
       "  </tbody>\n",
       "</table>\n",
       "</div>"
      ],
      "text/plain": [
       "                 model  f1 score\n",
       "1  Logistic Regression  0.912643\n",
       "3                  SVC  0.909515\n",
       "2                  KNN  0.895258\n",
       "0                  XGB  0.892293"
      ]
     },
     "execution_count": 421,
     "metadata": {},
     "output_type": "execute_result"
    }
   ],
   "source": [
    "model_selection_f1_er = pd.DataFrame({'model':['XGB', \"Logistic Regression\",\"KNN\", \"SVC\"], \n",
    "                               'f1 score':[f1_er_xgb,f1_er_lr, f1_er_knn, f1_er_svc]})\n",
    "model_selection_f1_er.sort_values(by = ['f1 score'],ascending= False)"
   ]
  },
  {
   "cell_type": "code",
   "execution_count": 422,
   "id": "5cc44372",
   "metadata": {},
   "outputs": [
    {
     "data": {
      "image/png": "[encoded data removed]",
      "text/plain": [
       "<Figure size 432x288 with 1 Axes>"
      ]
     },
     "metadata": {
      "needs_background": "light"
     },
     "output_type": "display_data"
    }
   ],
   "source": [
    "sns.barplot(x = 'model',\n",
    "            y = 'f1 score',\n",
    "            data = model_selection_f1_er)\n",
    " \n",
    "# Show the plot\n",
    "plt.show()"
   ]
  },
  {
   "cell_type": "code",
   "execution_count": 360,
   "id": "78b61699",
   "metadata": {},
   "outputs": [],
   "source": [
    "from statistics import mean"
   ]
  },
  {
   "cell_type": "code",
   "execution_count": 423,
   "id": "e3f9bb65",
   "metadata": {},
   "outputs": [
    {
     "data": {
      "text/plain": [
       "0.902427345782386"
      ]
     },
     "execution_count": 423,
     "metadata": {},
     "output_type": "execute_result"
    }
   ],
   "source": [
    "mean(model_selection_f1_er['f1 score'])"
   ]
  },
  {
   "cell_type": "code",
   "execution_count": 424,
   "id": "e5d9fe15",
   "metadata": {},
   "outputs": [
    {
     "data": {
      "text/plain": [
       "0.7052856997080572"
      ]
     },
     "execution_count": 424,
     "metadata": {},
     "output_type": "execute_result"
    }
   ],
   "source": [
    "mean(model_selection_f1_pr['f1 score'])"
   ]
  },
  {
   "cell_type": "markdown",
   "id": "69687409",
   "metadata": {},
   "source": [
    "### Multiclass classification: HER2 prediction"
   ]
  },
  {
   "cell_type": "code",
   "execution_count": 363,
   "id": "aaa49438",
   "metadata": {},
   "outputs": [],
   "source": [
    "import seaborn as sns\n",
    "from sklearn.feature_extraction.text import TfidfVectorizer\n",
    "from sklearn.feature_selection import chi2\n",
    "from sklearn.ensemble import RandomForestClassifier\n",
    "from sklearn.model_selection import cross_val_score\n",
    "from sklearn import metrics\n"
   ]
  },
  {
   "cell_type": "code",
   "execution_count": 364,
   "id": "40aa658c",
   "metadata": {},
   "outputs": [
    {
     "data": {
      "text/html": [
       "<div>\n",
       "<style scoped>\n",
       "    .dataframe tbody tr th:only-of-type {\n",
       "        vertical-align: middle;\n",
       "    }\n",
       "\n",
       "    .dataframe tbody tr th {\n",
       "        vertical-align: top;\n",
       "    }\n",
       "\n",
       "    .dataframe thead th {\n",
       "        text-align: right;\n",
       "    }\n",
       "</style>\n",
       "<table border=\"1\" class=\"dataframe\">\n",
       "  <thead>\n",
       "    <tr style=\"text-align: right;\">\n",
       "      <th></th>\n",
       "      <th>her2</th>\n",
       "      <th>text_final</th>\n",
       "    </tr>\n",
       "  </thead>\n",
       "  <tbody>\n",
       "    <tr>\n",
       "      <th>1</th>\n",
       "      <td>3+</td>\n",
       "      <td>carcinom mammell duttal situ aspett tip apocri...</td>\n",
       "    </tr>\n",
       "    <tr>\n",
       "      <th>11</th>\n",
       "      <td>3+</td>\n",
       "      <td>carcinom mammell duttal situ aspett tip apocri...</td>\n",
       "    </tr>\n",
       "    <tr>\n",
       "      <th>20</th>\n",
       "      <td>1+</td>\n",
       "      <td>carcinom invas mammellasottotip duttal nasgrad...</td>\n",
       "    </tr>\n",
       "    <tr>\n",
       "      <th>28</th>\n",
       "      <td>1+</td>\n",
       "      <td>carcinom invas mammellasottotip duttal nasgrad...</td>\n",
       "    </tr>\n",
       "    <tr>\n",
       "      <th>39</th>\n",
       "      <td>0</td>\n",
       "      <td>risult esam immunoistochim effettuatier propor...</td>\n",
       "    </tr>\n",
       "    <tr>\n",
       "      <th>...</th>\n",
       "      <td>...</td>\n",
       "      <td>...</td>\n",
       "    </tr>\n",
       "    <tr>\n",
       "      <th>74859</th>\n",
       "      <td>1+</td>\n",
       "      <td>assett recettorial immunoreattiv membran herne...</td>\n",
       "    </tr>\n",
       "    <tr>\n",
       "      <th>74861</th>\n",
       "      <td>1+</td>\n",
       "      <td>assett recettorial immunoreattiv membran herne...</td>\n",
       "    </tr>\n",
       "    <tr>\n",
       "      <th>74865</th>\n",
       "      <td>2+</td>\n",
       "      <td>assett recettorial immunoreattiv membran herne...</td>\n",
       "    </tr>\n",
       "    <tr>\n",
       "      <th>74866</th>\n",
       "      <td>3+</td>\n",
       "      <td>assett recettorial immunoreattiv membran herne...</td>\n",
       "    </tr>\n",
       "    <tr>\n",
       "      <th>74869</th>\n",
       "      <td>1+</td>\n",
       "      <td>assett recettorial immunoreattiv membran herne...</td>\n",
       "    </tr>\n",
       "  </tbody>\n",
       "</table>\n",
       "<p>14707 rows × 2 columns</p>\n",
       "</div>"
      ],
      "text/plain": [
       "      her2                                         text_final\n",
       "1       3+  carcinom mammell duttal situ aspett tip apocri...\n",
       "11      3+  carcinom mammell duttal situ aspett tip apocri...\n",
       "20      1+  carcinom invas mammellasottotip duttal nasgrad...\n",
       "28      1+  carcinom invas mammellasottotip duttal nasgrad...\n",
       "39       0  risult esam immunoistochim effettuatier propor...\n",
       "...    ...                                                ...\n",
       "74859   1+  assett recettorial immunoreattiv membran herne...\n",
       "74861   1+  assett recettorial immunoreattiv membran herne...\n",
       "74865   2+  assett recettorial immunoreattiv membran herne...\n",
       "74866   3+  assett recettorial immunoreattiv membran herne...\n",
       "74869   1+  assett recettorial immunoreattiv membran herne...\n",
       "\n",
       "[14707 rows x 2 columns]"
      ]
     },
     "execution_count": 364,
     "metadata": {},
     "output_type": "execute_result"
    }
   ],
   "source": [
    "df2 = data.iloc[:,[12,20]]\n",
    "df2= df2[df2['her2'] != \"nan\"]\n",
    "df2= df2[df2['her2'] != \"negativo\"]\n",
    "df2= df2[df2['her2'] != \"positivo\"]\n",
    "#df2['lab'] = df2['her2'].factorize()[0]\n",
    "df2"
   ]
  },
  {
   "cell_type": "code",
   "execution_count": 365,
   "id": "3adf390b",
   "metadata": {},
   "outputs": [
    {
     "data": {
      "text/html": [
       "<div>\n",
       "<style scoped>\n",
       "    .dataframe tbody tr th:only-of-type {\n",
       "        vertical-align: middle;\n",
       "    }\n",
       "\n",
       "    .dataframe tbody tr th {\n",
       "        vertical-align: top;\n",
       "    }\n",
       "\n",
       "    .dataframe thead th {\n",
       "        text-align: right;\n",
       "    }\n",
       "</style>\n",
       "<table border=\"1\" class=\"dataframe\">\n",
       "  <thead>\n",
       "    <tr style=\"text-align: right;\">\n",
       "      <th></th>\n",
       "      <th>her2</th>\n",
       "      <th>text_final</th>\n",
       "      <th>classes</th>\n",
       "      <th>lab</th>\n",
       "    </tr>\n",
       "  </thead>\n",
       "  <tbody>\n",
       "    <tr>\n",
       "      <th>1</th>\n",
       "      <td>3+</td>\n",
       "      <td>carcinom mammell duttal situ aspett tip apocri...</td>\n",
       "      <td>positivo</td>\n",
       "      <td>3</td>\n",
       "    </tr>\n",
       "    <tr>\n",
       "      <th>11</th>\n",
       "      <td>3+</td>\n",
       "      <td>carcinom mammell duttal situ aspett tip apocri...</td>\n",
       "      <td>positivo</td>\n",
       "      <td>3</td>\n",
       "    </tr>\n",
       "    <tr>\n",
       "      <th>20</th>\n",
       "      <td>1+</td>\n",
       "      <td>carcinom invas mammellasottotip duttal nasgrad...</td>\n",
       "      <td>negativo</td>\n",
       "      <td>1</td>\n",
       "    </tr>\n",
       "    <tr>\n",
       "      <th>28</th>\n",
       "      <td>1+</td>\n",
       "      <td>carcinom invas mammellasottotip duttal nasgrad...</td>\n",
       "      <td>negativo</td>\n",
       "      <td>1</td>\n",
       "    </tr>\n",
       "    <tr>\n",
       "      <th>39</th>\n",
       "      <td>0</td>\n",
       "      <td>risult esam immunoistochim effettuatier propor...</td>\n",
       "      <td>negativo</td>\n",
       "      <td>1</td>\n",
       "    </tr>\n",
       "    <tr>\n",
       "      <th>...</th>\n",
       "      <td>...</td>\n",
       "      <td>...</td>\n",
       "      <td>...</td>\n",
       "      <td>...</td>\n",
       "    </tr>\n",
       "    <tr>\n",
       "      <th>74859</th>\n",
       "      <td>1+</td>\n",
       "      <td>assett recettorial immunoreattiv membran herne...</td>\n",
       "      <td>negativo</td>\n",
       "      <td>1</td>\n",
       "    </tr>\n",
       "    <tr>\n",
       "      <th>74861</th>\n",
       "      <td>1+</td>\n",
       "      <td>assett recettorial immunoreattiv membran herne...</td>\n",
       "      <td>negativo</td>\n",
       "      <td>1</td>\n",
       "    </tr>\n",
       "    <tr>\n",
       "      <th>74865</th>\n",
       "      <td>2+</td>\n",
       "      <td>assett recettorial immunoreattiv membran herne...</td>\n",
       "      <td>borderline</td>\n",
       "      <td>2</td>\n",
       "    </tr>\n",
       "    <tr>\n",
       "      <th>74866</th>\n",
       "      <td>3+</td>\n",
       "      <td>assett recettorial immunoreattiv membran herne...</td>\n",
       "      <td>positivo</td>\n",
       "      <td>3</td>\n",
       "    </tr>\n",
       "    <tr>\n",
       "      <th>74869</th>\n",
       "      <td>1+</td>\n",
       "      <td>assett recettorial immunoreattiv membran herne...</td>\n",
       "      <td>negativo</td>\n",
       "      <td>1</td>\n",
       "    </tr>\n",
       "  </tbody>\n",
       "</table>\n",
       "<p>14707 rows × 4 columns</p>\n",
       "</div>"
      ],
      "text/plain": [
       "      her2                                         text_final     classes  lab\n",
       "1       3+  carcinom mammell duttal situ aspett tip apocri...    positivo    3\n",
       "11      3+  carcinom mammell duttal situ aspett tip apocri...    positivo    3\n",
       "20      1+  carcinom invas mammellasottotip duttal nasgrad...    negativo    1\n",
       "28      1+  carcinom invas mammellasottotip duttal nasgrad...    negativo    1\n",
       "39       0  risult esam immunoistochim effettuatier propor...    negativo    1\n",
       "...    ...                                                ...         ...  ...\n",
       "74859   1+  assett recettorial immunoreattiv membran herne...    negativo    1\n",
       "74861   1+  assett recettorial immunoreattiv membran herne...    negativo    1\n",
       "74865   2+  assett recettorial immunoreattiv membran herne...  borderline    2\n",
       "74866   3+  assett recettorial immunoreattiv membran herne...    positivo    3\n",
       "74869   1+  assett recettorial immunoreattiv membran herne...    negativo    1\n",
       "\n",
       "[14707 rows x 4 columns]"
      ]
     },
     "execution_count": 365,
     "metadata": {},
     "output_type": "execute_result"
    }
   ],
   "source": [
    "her2_dict = {\n",
    "    '0': 'negativo', \n",
    "    '1+': 'negativo', \n",
    "    '2+': 'borderline',\n",
    "    '3+': 'positivo'\n",
    "}\n",
    "\n",
    "df2['classes'] = df2['her2'].map(her2_dict)\n",
    "\n",
    "encoding_dict = { 'negativo': 1,\n",
    "                 'borderline': 2,\n",
    "                 'positivo':3\n",
    "}\n",
    "\n",
    "df2['lab'] = df2['classes'].map(encoding_dict)\n",
    "df2"
   ]
  },
  {
   "cell_type": "code",
   "execution_count": 366,
   "id": "fb12bc0c",
   "metadata": {},
   "outputs": [
    {
     "name": "stderr",
     "output_type": "stream",
     "text": [
      "C:\\Users\\Paola\\anaconda3\\lib\\site-packages\\seaborn\\_decorators.py:36: FutureWarning: Pass the following variable as a keyword arg: x. From version 0.12, the only valid positional argument will be `data`, and passing other arguments without an explicit keyword will result in an error or misinterpretation.\n",
      "  warnings.warn(\n"
     ]
    },
    {
     "data": {
      "image/png": "[encoded data removed]",
      "text/plain": [
       "<Figure size 1224x720 with 1 Axes>"
      ]
     },
     "metadata": {
      "needs_background": "light"
     },
     "output_type": "display_data"
    }
   ],
   "source": [
    "plt.figure(figsize=(17, 10))\n",
    "count = sns.countplot(df2['classes'],order=['negativo','borderline','positivo'])"
   ]
  },
  {
   "cell_type": "code",
   "execution_count": 367,
   "id": "61a28a70",
   "metadata": {},
   "outputs": [],
   "source": [
    "\n",
    "category_id_df = df2[['classes', 'lab']].drop_duplicates().sort_values('lab')\n",
    "category_to_id = dict(category_id_df.values)\n",
    "id_to_category = dict(category_id_df[['lab', 'classes']].values)\n"
   ]
  },
  {
   "cell_type": "code",
   "execution_count": 368,
   "id": "c67d5302",
   "metadata": {},
   "outputs": [
    {
     "data": {
      "text/html": [
       "<div>\n",
       "<style scoped>\n",
       "    .dataframe tbody tr th:only-of-type {\n",
       "        vertical-align: middle;\n",
       "    }\n",
       "\n",
       "    .dataframe tbody tr th {\n",
       "        vertical-align: top;\n",
       "    }\n",
       "\n",
       "    .dataframe thead th {\n",
       "        text-align: right;\n",
       "    }\n",
       "</style>\n",
       "<table border=\"1\" class=\"dataframe\">\n",
       "  <thead>\n",
       "    <tr style=\"text-align: right;\">\n",
       "      <th></th>\n",
       "      <th>classes</th>\n",
       "      <th>lab</th>\n",
       "    </tr>\n",
       "  </thead>\n",
       "  <tbody>\n",
       "    <tr>\n",
       "      <th>20</th>\n",
       "      <td>negativo</td>\n",
       "      <td>1</td>\n",
       "    </tr>\n",
       "    <tr>\n",
       "      <th>45</th>\n",
       "      <td>borderline</td>\n",
       "      <td>2</td>\n",
       "    </tr>\n",
       "    <tr>\n",
       "      <th>1</th>\n",
       "      <td>positivo</td>\n",
       "      <td>3</td>\n",
       "    </tr>\n",
       "  </tbody>\n",
       "</table>\n",
       "</div>"
      ],
      "text/plain": [
       "       classes  lab\n",
       "20    negativo    1\n",
       "45  borderline    2\n",
       "1     positivo    3"
      ]
     },
     "execution_count": 368,
     "metadata": {},
     "output_type": "execute_result"
    }
   ],
   "source": [
    "category_id_df"
   ]
  },
  {
   "cell_type": "code",
   "execution_count": 369,
   "id": "d87c8343",
   "metadata": {},
   "outputs": [
    {
     "data": {
      "text/plain": [
       "{1: 'negativo', 2: 'borderline', 3: 'positivo'}"
      ]
     },
     "execution_count": 369,
     "metadata": {},
     "output_type": "execute_result"
    }
   ],
   "source": [
    "id_to_category"
   ]
  },
  {
   "cell_type": "code",
   "execution_count": 370,
   "id": "08728e54",
   "metadata": {},
   "outputs": [
    {
     "data": {
      "text/plain": [
       "(14707, 10532)"
      ]
     },
     "execution_count": 370,
     "metadata": {},
     "output_type": "execute_result"
    }
   ],
   "source": [
    "#non si può usare stop_words='italiano' solo inglese\n",
    "\n",
    "tfidf = TfidfVectorizer(sublinear_tf=True, min_df=5, norm='l2', encoding='latin-1', ngram_range=(1, 2))\n",
    "\n",
    "features = tfidf.fit_transform(df2.text_final).toarray()\n",
    "labels = df2.lab\n",
    "features.shape"
   ]
  },
  {
   "cell_type": "code",
   "execution_count": 371,
   "id": "b0620e61",
   "metadata": {},
   "outputs": [
    {
     "name": "stderr",
     "output_type": "stream",
     "text": [
      "C:\\Users\\Paola\\anaconda3\\lib\\site-packages\\sklearn\\utils\\deprecation.py:87: FutureWarning: Function get_feature_names is deprecated; get_feature_names is deprecated in 1.0 and will be removed in 1.2. Please use get_feature_names_out instead.\n",
      "  warnings.warn(msg, category=FutureWarning)\n"
     ]
    },
    {
     "name": "stdout",
     "output_type": "stream",
     "text": [
      "# 'borderline':\n",
      "  . Most correlated unigrams:\n",
      ". intens\n",
      ". fortement\n",
      "  . Most correlated bigrams:\n",
      ". debol posit\n",
      ". dak fortement\n"
     ]
    },
    {
     "name": "stderr",
     "output_type": "stream",
     "text": [
      "C:\\Users\\Paola\\anaconda3\\lib\\site-packages\\sklearn\\utils\\deprecation.py:87: FutureWarning: Function get_feature_names is deprecated; get_feature_names is deprecated in 1.0 and will be removed in 1.2. Please use get_feature_names_out instead.\n",
      "  warnings.warn(msg, category=FutureWarning)\n"
     ]
    },
    {
     "name": "stdout",
     "output_type": "stream",
     "text": [
      "# 'negativo':\n",
      "  . Most correlated unigrams:\n",
      ". intens\n",
      ". fortement\n",
      "  . Most correlated bigrams:\n",
      ". debol posit\n",
      ". dak fortement\n",
      "# 'positivo':\n",
      "  . Most correlated unigrams:\n",
      ". intens\n",
      ". fortement\n",
      "  . Most correlated bigrams:\n",
      ". debol posit\n",
      ". dak fortement\n"
     ]
    },
    {
     "name": "stderr",
     "output_type": "stream",
     "text": [
      "C:\\Users\\Paola\\anaconda3\\lib\\site-packages\\sklearn\\utils\\deprecation.py:87: FutureWarning: Function get_feature_names is deprecated; get_feature_names is deprecated in 1.0 and will be removed in 1.2. Please use get_feature_names_out instead.\n",
      "  warnings.warn(msg, category=FutureWarning)\n"
     ]
    }
   ],
   "source": [
    "N = 2\n",
    "\n",
    "for classes, lab in sorted(category_to_id.items()):\n",
    "  features_chi2 = chi2(features,  np.array(df2.lab))\n",
    "  indices = np.argsort(features_chi2[0])\n",
    "  feature_names = np.array(tfidf.get_feature_names())[indices]\n",
    "  unigrams = [v for v in feature_names if len(v.split(' ')) == 1]\n",
    "  bigrams = [v for v in feature_names if len(v.split(' ')) == 2]\n",
    "  print(\"# '{}':\".format(classes))\n",
    "  print(\"  . Most correlated unigrams:\\n. {}\".format('\\n. '.join(unigrams[-N:])))\n",
    "  print(\"  . Most correlated bigrams:\\n. {}\".format('\\n. '.join(bigrams[-N:])))\n"
   ]
  },
  {
   "cell_type": "code",
   "execution_count": 372,
   "id": "008d4101",
   "metadata": {},
   "outputs": [],
   "source": [
    "X_train, X_test, y_train, y_test = train_test_split(df2['text_final'], df2['classes'], random_state = 0)\n",
    "count_vect = CountVectorizer()\n",
    "X_train_counts = count_vect.fit_transform(X_train)\n",
    "tfidf_transformer = TfidfTransformer()\n",
    "X_train_tfidf = tfidf_transformer.fit_transform(X_train_counts)\n"
   ]
  },
  {
   "cell_type": "code",
   "execution_count": 373,
   "id": "a95be02c",
   "metadata": {},
   "outputs": [
    {
     "data": {
      "text/plain": [
       "'carcinom mammell duttal situ aspett tip apocrinograd nucl iiigrad istolog epwgii cancerizz lobularenecr tumoralepresentecalcificazionipresentidistribu carcinom situmultifocaledimension neoplas situ foc multifocal maggior cm focal immagin permeazion neoplast vascol attribu trasport manovr biopticheassett recettorial immunoreattiv membran herneu frazion proliferanteer proporzion cellul posit sezion esamin pgr proporzion cellul posit sezion esamin immunoreattivit membran herneu anticorp policlonal dak fortement positivoquadr sup mammell dxnpl mammell dx'"
      ]
     },
     "execution_count": 373,
     "metadata": {},
     "output_type": "execute_result"
    }
   ],
   "source": [
    "X_train[1]"
   ]
  },
  {
   "cell_type": "code",
   "execution_count": 374,
   "id": "d3cccbb9",
   "metadata": {},
   "outputs": [],
   "source": [
    "#let's see an example of a prediction using LinearSVC\n",
    "clf = LinearSVC().fit(X_train_tfidf, y_train)"
   ]
  },
  {
   "cell_type": "code",
   "execution_count": 375,
   "id": "9d713dcb",
   "metadata": {},
   "outputs": [
    {
     "data": {
      "text/plain": [
       "'carcinom mammell duttal situ aspett tip apocrinograd nucl iiigrad istolog epwgii cancerizz lobularenecr tumoralepresentecalcificazionipresentidistribu carcinom situmultifocaledimension neoplas situ foc multifocal maggior cm focal immagin permeazion neoplast vascol attribu trasport manovr biopticheassett recettorial immunoreattiv membran herneu frazion proliferanteer proporzion cellul posit sezion esamin pgr proporzion cellul posit sezion esamin immunoreattivit membran herneu anticorp policlonal dak fortement positivoquadr sup mammell dxnpl mammell dx'"
      ]
     },
     "execution_count": 375,
     "metadata": {},
     "output_type": "execute_result"
    }
   ],
   "source": [
    "prova = df2['text_final'][1]\n",
    "prova"
   ]
  },
  {
   "cell_type": "code",
   "execution_count": 376,
   "id": "6746372f",
   "metadata": {},
   "outputs": [
    {
     "name": "stdout",
     "output_type": "stream",
     "text": [
      "['positivo']\n"
     ]
    }
   ],
   "source": [
    "#doing this we are able to predict the class just by inserting the text\n",
    "print(clf.predict(count_vect.transform([\"carcinom mammell duttal situ aspett tip apocrinograd nucl iiigrad istolog epwgii cancerizz lobularenecr tumoralepresentecalcificazionipresentidistribu carcinom situmultifocaledimension neoplas situ foc multifocal maggior cm focal immagin permeazion neoplast vascol attribu trasport manovr biopticheassett recettorial immunoreattiv membran herneu frazion proliferanteer proporzion cellul posit sezion esamin pgr proporzion cellul posit sezion esamin immunoreattivit membran herneu anticorp policlonal dak fortement positivoquadr sup mammell dxnpl mammell dx\"])))"
   ]
  },
  {
   "cell_type": "code",
   "execution_count": 377,
   "id": "b16193b8",
   "metadata": {},
   "outputs": [
    {
     "data": {
      "text/plain": [
       "'positivo'"
      ]
     },
     "execution_count": 377,
     "metadata": {},
     "output_type": "execute_result"
    }
   ],
   "source": [
    "df2['classes'][1]"
   ]
  },
  {
   "cell_type": "code",
   "execution_count": 378,
   "id": "99a8ea98",
   "metadata": {},
   "outputs": [
    {
     "name": "stderr",
     "output_type": "stream",
     "text": [
      "C:\\Users\\Paola\\anaconda3\\lib\\site-packages\\sklearn\\linear_model\\_logistic.py:444: ConvergenceWarning: lbfgs failed to converge (status=1):\n",
      "STOP: TOTAL NO. of ITERATIONS REACHED LIMIT.\n",
      "\n",
      "Increase the number of iterations (max_iter) or scale the data as shown in:\n",
      "    https://scikit-learn.org/stable/modules/preprocessing.html\n",
      "Please also refer to the documentation for alternative solver options:\n",
      "    https://scikit-learn.org/stable/modules/linear_model.html#logistic-regression\n",
      "  n_iter_i = _check_optimize_result(\n",
      "C:\\Users\\Paola\\anaconda3\\lib\\site-packages\\sklearn\\linear_model\\_logistic.py:444: ConvergenceWarning: lbfgs failed to converge (status=1):\n",
      "STOP: TOTAL NO. of ITERATIONS REACHED LIMIT.\n",
      "\n",
      "Increase the number of iterations (max_iter) or scale the data as shown in:\n",
      "    https://scikit-learn.org/stable/modules/preprocessing.html\n",
      "Please also refer to the documentation for alternative solver options:\n",
      "    https://scikit-learn.org/stable/modules/linear_model.html#logistic-regression\n",
      "  n_iter_i = _check_optimize_result(\n",
      "C:\\Users\\Paola\\anaconda3\\lib\\site-packages\\sklearn\\linear_model\\_logistic.py:444: ConvergenceWarning: lbfgs failed to converge (status=1):\n",
      "STOP: TOTAL NO. of ITERATIONS REACHED LIMIT.\n",
      "\n",
      "Increase the number of iterations (max_iter) or scale the data as shown in:\n",
      "    https://scikit-learn.org/stable/modules/preprocessing.html\n",
      "Please also refer to the documentation for alternative solver options:\n",
      "    https://scikit-learn.org/stable/modules/linear_model.html#logistic-regression\n",
      "  n_iter_i = _check_optimize_result(\n",
      "C:\\Users\\Paola\\anaconda3\\lib\\site-packages\\sklearn\\linear_model\\_logistic.py:444: ConvergenceWarning: lbfgs failed to converge (status=1):\n",
      "STOP: TOTAL NO. of ITERATIONS REACHED LIMIT.\n",
      "\n",
      "Increase the number of iterations (max_iter) or scale the data as shown in:\n",
      "    https://scikit-learn.org/stable/modules/preprocessing.html\n",
      "Please also refer to the documentation for alternative solver options:\n",
      "    https://scikit-learn.org/stable/modules/linear_model.html#logistic-regression\n",
      "  n_iter_i = _check_optimize_result(\n",
      "C:\\Users\\Paola\\anaconda3\\lib\\site-packages\\sklearn\\linear_model\\_logistic.py:444: ConvergenceWarning: lbfgs failed to converge (status=1):\n",
      "STOP: TOTAL NO. of ITERATIONS REACHED LIMIT.\n",
      "\n",
      "Increase the number of iterations (max_iter) or scale the data as shown in:\n",
      "    https://scikit-learn.org/stable/modules/preprocessing.html\n",
      "Please also refer to the documentation for alternative solver options:\n",
      "    https://scikit-learn.org/stable/modules/linear_model.html#logistic-regression\n",
      "  n_iter_i = _check_optimize_result(\n"
     ]
    }
   ],
   "source": [
    "models = [\n",
    "    RandomForestClassifier(n_estimators=200, max_depth=3, random_state=0),\n",
    "    LinearSVC(),\n",
    "    KNeighborsClassifier(n_neighbors= 1),\n",
    "    MultinomialNB(),\n",
    "    LogisticRegression(random_state=0),\n",
    "]\n",
    "CV = 5\n",
    "cv_df = pd.DataFrame(index=range(CV * len(models)))\n",
    "entries = []\n",
    "for model in models:\n",
    "  model_name = model.__class__.__name__\n",
    "  accuracies = cross_val_score(model, features, labels, scoring='accuracy', cv=CV)\n",
    "  for fold_idx, accuracy in enumerate(accuracies):\n",
    "    entries.append((model_name, fold_idx, accuracy))\n",
    "cv_df = pd.DataFrame(entries, columns=['model_name', 'fold_idx', 'accuracy'])\n"
   ]
  },
  {
   "cell_type": "code",
   "execution_count": 379,
   "id": "df288aa8",
   "metadata": {},
   "outputs": [
    {
     "data": {
      "image/png": "[encoded data removed]",
      "text/plain": [
       "<Figure size 576x360 with 1 Axes>"
      ]
     },
     "metadata": {
      "needs_background": "light"
     },
     "output_type": "display_data"
    }
   ],
   "source": [
    "plt.figure(figsize=(8,5))\n",
    "sns.boxplot(x='model_name', y='accuracy', data=cv_df)\n",
    "sns.stripplot(x='model_name', y='accuracy', data=cv_df, \n",
    "             size=10, jitter=True, edgecolor=\"gray\", linewidth=2)\n",
    "\n",
    "plt.show()"
   ]
  },
  {
   "cell_type": "code",
   "execution_count": 380,
   "id": "36bf8058",
   "metadata": {},
   "outputs": [],
   "source": [
    "model = LinearSVC(C= 0.2)\n",
    "\n",
    "X_train, X_test, y_train, y_test, indices_train, indices_test = train_test_split(features, labels, df2.index, test_size=0.33, random_state=0)\n",
    "model.fit(X_train, y_train)\n",
    "y_pred = model.predict(X_test)"
   ]
  },
  {
   "cell_type": "code",
   "execution_count": 381,
   "id": "f34f707a",
   "metadata": {},
   "outputs": [
    {
     "data": {
      "image/png": "[encoded data removed]",
      "text/plain": [
       "<Figure size 576x432 with 2 Axes>"
      ]
     },
     "metadata": {
      "needs_background": "light"
     },
     "output_type": "display_data"
    }
   ],
   "source": [
    "conf_mat = confusion_matrix(y_test, y_pred)\n",
    "fig, ax = plt.subplots(figsize=(8,6))\n",
    "sns.heatmap(conf_mat, annot=True, fmt='d',\n",
    "            xticklabels=category_id_df.classes.values, yticklabels=category_id_df.classes.values)\n",
    "plt.ylabel('Actual')\n",
    "plt.xlabel('Predicted')\n",
    "plt.show()"
   ]
  },
  {
   "cell_type": "code",
   "execution_count": 382,
   "id": "c89f54ef",
   "metadata": {},
   "outputs": [
    {
     "name": "stdout",
     "output_type": "stream",
     "text": [
      "              precision    recall  f1-score   support\n",
      "\n",
      "    negativo       0.97      0.99      0.98      3146\n",
      "  borderline       0.98      0.96      0.97      1056\n",
      "    positivo       0.99      0.94      0.96       652\n",
      "\n",
      "    accuracy                           0.98      4854\n",
      "   macro avg       0.98      0.96      0.97      4854\n",
      "weighted avg       0.98      0.98      0.98      4854\n",
      "\n"
     ]
    }
   ],
   "source": [
    "print(metrics.classification_report(y_test, y_pred, \n",
    "                                    target_names=category_id_df.classes.values))"
   ]
  },
  {
   "cell_type": "code",
   "execution_count": 383,
   "id": "02c1575d",
   "metadata": {},
   "outputs": [],
   "source": [
    "model = LogisticRegression(random_state=0)\n",
    "\n",
    "X_train, X_test, y_train, y_test, indices_train, indices_test = train_test_split(features, labels, df2.index, test_size=0.33, random_state=0)\n",
    "model.fit(X_train, y_train)\n",
    "y_pred = model.predict(X_test)"
   ]
  },
  {
   "cell_type": "code",
   "execution_count": 384,
   "id": "e20e28e1",
   "metadata": {},
   "outputs": [
    {
     "data": {
      "image/png": "[encoded data removed]",
      "text/plain": [
       "<Figure size 576x432 with 2 Axes>"
      ]
     },
     "metadata": {
      "needs_background": "light"
     },
     "output_type": "display_data"
    }
   ],
   "source": [
    "conf_mat = confusion_matrix(y_test, y_pred)\n",
    "fig, ax = plt.subplots(figsize=(8,6))\n",
    "sns.heatmap(conf_mat, annot=True, fmt='d',\n",
    "            xticklabels=category_id_df.classes.values, yticklabels=category_id_df.classes.values)\n",
    "plt.ylabel('Actual')\n",
    "plt.xlabel('Predicted')\n",
    "plt.show()"
   ]
  },
  {
   "cell_type": "code",
   "execution_count": 385,
   "id": "63e94c85",
   "metadata": {},
   "outputs": [
    {
     "name": "stdout",
     "output_type": "stream",
     "text": [
      "              precision    recall  f1-score   support\n",
      "\n",
      "    negativo       0.97      0.99      0.98      3146\n",
      "  borderline       0.98      0.95      0.97      1056\n",
      "    positivo       0.99      0.91      0.95       652\n",
      "\n",
      "    accuracy                           0.97      4854\n",
      "   macro avg       0.98      0.95      0.97      4854\n",
      "weighted avg       0.97      0.97      0.97      4854\n",
      "\n"
     ]
    }
   ],
   "source": [
    "print(metrics.classification_report(y_test, y_pred, \n",
    "                                    target_names=category_id_df.classes.values))"
   ]
  },
  {
   "cell_type": "code",
   "execution_count": 386,
   "id": "52a30105",
   "metadata": {},
   "outputs": [
    {
     "ename": "SyntaxError",
     "evalue": "invalid syntax (3659366440.py, line 1)",
     "output_type": "error",
     "traceback": [
      "\u001b[1;36m  Input \u001b[1;32mIn [386]\u001b[1;36m\u001b[0m\n\u001b[1;33m    --\u001b[0m\n\u001b[1;37m      ^\u001b[0m\n\u001b[1;31mSyntaxError\u001b[0m\u001b[1;31m:\u001b[0m invalid syntax\n"
     ]
    }
   ],
   "source": [
    "--"
   ]
  }
 ],
 "metadata": {
  "kernelspec": {
   "display_name": "Python 3 (ipykernel)",
   "language": "python",
   "name": "python3"
  },
  "language_info": {
   "codemirror_mode": {
    "name": "ipython",
    "version": 3
   },
   "file_extension": ".py",
   "mimetype": "text/x-python",
   "name": "python",
   "nbconvert_exporter": "python",
   "pygments_lexer": "ipython3",
   "version": "3.9.12"
  }
 },
 "nbformat": 4,
 "nbformat_minor": 5
}
